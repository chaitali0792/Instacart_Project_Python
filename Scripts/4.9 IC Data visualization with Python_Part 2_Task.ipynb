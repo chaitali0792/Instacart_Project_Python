{
 "cells": [
  {
   "cell_type": "markdown",
   "id": "c037b90b",
   "metadata": {},
   "source": [
    "# CONTENT LIST\n",
    "\n",
    "1. Importing all libraries\n",
    "2. Importing final merged data\n",
    "3. Create Histogram\n",
    "4. Create bar chart\n",
    "5. Line chart\n",
    "6. Line chart for targeted marketing campaings\n",
    "7. Scatterplot"
   ]
  },
  {
   "cell_type": "markdown",
   "id": "9dfe7a86",
   "metadata": {},
   "source": [
    "# 01 Importing all libraries"
   ]
  },
  {
   "cell_type": "code",
   "execution_count": 1,
   "id": "52d49865",
   "metadata": {},
   "outputs": [],
   "source": [
    "# Importing libraries\n",
    "import pandas as pd\n",
    "import numpy as np\n",
    "import os\n",
    "import matplotlib.pyplot as plt\n",
    "import seaborn as sns\n",
    "import scipy"
   ]
  },
  {
   "cell_type": "markdown",
   "id": "8c97c891",
   "metadata": {},
   "source": [
    "# 02 Importing final merged data"
   ]
  },
  {
   "cell_type": "code",
   "execution_count": 2,
   "id": "f95f203c",
   "metadata": {},
   "outputs": [],
   "source": [
    "# # Creating common folder path\n",
    "path = r'C:\\Users\\Mukund\\Desktop\\Career Foundry\\Instacart_Grocery_Basket_Analysis_May_2021'"
   ]
  },
  {
   "cell_type": "code",
   "execution_count": 3,
   "id": "2ecc4386",
   "metadata": {},
   "outputs": [
    {
     "data": {
      "text/plain": [
       "'C:\\\\Users\\\\Mukund\\\\Desktop\\\\Career Foundry\\\\Instacart_Grocery_Basket_Analysis_May_2021'"
      ]
     },
     "execution_count": 3,
     "metadata": {},
     "output_type": "execute_result"
    }
   ],
   "source": [
    "path"
   ]
  },
  {
   "cell_type": "code",
   "execution_count": null,
   "id": "7f6b9a89",
   "metadata": {},
   "outputs": [],
   "source": [
    "# Importing final merged data from task 9 and part 1\n"
   ]
  },
  {
   "cell_type": "code",
   "execution_count": 4,
   "id": "2a57e9b1",
   "metadata": {},
   "outputs": [],
   "source": [
    "df_final_data = pd.read_pickle(os.path.join(path, 'Data', 'Prepared_data', 'Final_data_Task9_Part1.pkl'))"
   ]
  },
  {
   "cell_type": "code",
   "execution_count": 5,
   "id": "0cc77a74",
   "metadata": {
    "scrolled": true
   },
   "outputs": [
    {
     "data": {
      "text/plain": [
       "(32404859, 33)"
      ]
     },
     "execution_count": 5,
     "metadata": {},
     "output_type": "execute_result"
    }
   ],
   "source": [
    "# Checking the shape of data\n",
    "df_final_data.shape"
   ]
  },
  {
   "cell_type": "code",
   "execution_count": 6,
   "id": "df2f7fcc",
   "metadata": {},
   "outputs": [
    {
     "data": {
      "text/html": [
       "<div>\n",
       "<style scoped>\n",
       "    .dataframe tbody tr th:only-of-type {\n",
       "        vertical-align: middle;\n",
       "    }\n",
       "\n",
       "    .dataframe tbody tr th {\n",
       "        vertical-align: top;\n",
       "    }\n",
       "\n",
       "    .dataframe thead th {\n",
       "        text-align: right;\n",
       "    }\n",
       "</style>\n",
       "<table border=\"1\" class=\"dataframe\">\n",
       "  <thead>\n",
       "    <tr style=\"text-align: right;\">\n",
       "      <th></th>\n",
       "      <th>product_id</th>\n",
       "      <th>aisle_id</th>\n",
       "      <th>department_id</th>\n",
       "      <th>prices</th>\n",
       "      <th>order_id</th>\n",
       "      <th>add_to_cart_order</th>\n",
       "      <th>reordered</th>\n",
       "      <th>user_id</th>\n",
       "      <th>order_number</th>\n",
       "      <th>orders_day_of_week</th>\n",
       "      <th>order_hour_of_day</th>\n",
       "      <th>days_since_prior_order</th>\n",
       "      <th>max_order</th>\n",
       "      <th>Spending</th>\n",
       "      <th>Frequency</th>\n",
       "      <th>Age</th>\n",
       "      <th>No_of_dependants</th>\n",
       "      <th>Annual_income</th>\n",
       "    </tr>\n",
       "  </thead>\n",
       "  <tbody>\n",
       "    <tr>\n",
       "      <th>count</th>\n",
       "      <td>3.240486e+07</td>\n",
       "      <td>3.240486e+07</td>\n",
       "      <td>3.240486e+07</td>\n",
       "      <td>3.240486e+07</td>\n",
       "      <td>3.240486e+07</td>\n",
       "      <td>3.240486e+07</td>\n",
       "      <td>3.240486e+07</td>\n",
       "      <td>3.240486e+07</td>\n",
       "      <td>3.240486e+07</td>\n",
       "      <td>3.240486e+07</td>\n",
       "      <td>3.240486e+07</td>\n",
       "      <td>3.240486e+07</td>\n",
       "      <td>3.240486e+07</td>\n",
       "      <td>3.240486e+07</td>\n",
       "      <td>3.240486e+07</td>\n",
       "      <td>3.240486e+07</td>\n",
       "      <td>3.240486e+07</td>\n",
       "      <td>3.240486e+07</td>\n",
       "    </tr>\n",
       "    <tr>\n",
       "      <th>mean</th>\n",
       "      <td>2.559866e+04</td>\n",
       "      <td>7.119612e+01</td>\n",
       "      <td>9.919792e+00</td>\n",
       "      <td>1.148251e+01</td>\n",
       "      <td>1.710745e+06</td>\n",
       "      <td>8.352325e+00</td>\n",
       "      <td>5.895873e-01</td>\n",
       "      <td>1.029372e+05</td>\n",
       "      <td>1.714230e+01</td>\n",
       "      <td>2.738867e+00</td>\n",
       "      <td>1.342515e+01</td>\n",
       "      <td>1.039267e+01</td>\n",
       "      <td>3.305217e+01</td>\n",
       "      <td>NaN</td>\n",
       "      <td>9.606230e+00</td>\n",
       "      <td>4.946527e+01</td>\n",
       "      <td>1.501896e+00</td>\n",
       "      <td>9.943773e+04</td>\n",
       "    </tr>\n",
       "    <tr>\n",
       "      <th>std</th>\n",
       "      <td>1.408400e+04</td>\n",
       "      <td>3.821139e+01</td>\n",
       "      <td>6.281485e+00</td>\n",
       "      <td>8.325486e+01</td>\n",
       "      <td>9.872988e+05</td>\n",
       "      <td>7.127111e+00</td>\n",
       "      <td>4.919087e-01</td>\n",
       "      <td>5.946610e+04</td>\n",
       "      <td>1.753532e+01</td>\n",
       "      <td>2.090077e+00</td>\n",
       "      <td>4.246380e+00</td>\n",
       "      <td>8.917825e+00</td>\n",
       "      <td>2.515525e+01</td>\n",
       "      <td>NaN</td>\n",
       "      <td>6.452981e+00</td>\n",
       "      <td>1.848558e+01</td>\n",
       "      <td>1.118865e+00</td>\n",
       "      <td>4.305727e+04</td>\n",
       "    </tr>\n",
       "    <tr>\n",
       "      <th>min</th>\n",
       "      <td>1.000000e+00</td>\n",
       "      <td>1.000000e+00</td>\n",
       "      <td>1.000000e+00</td>\n",
       "      <td>1.000000e+00</td>\n",
       "      <td>2.000000e+00</td>\n",
       "      <td>-1.280000e+02</td>\n",
       "      <td>0.000000e+00</td>\n",
       "      <td>1.000000e+00</td>\n",
       "      <td>1.000000e+00</td>\n",
       "      <td>0.000000e+00</td>\n",
       "      <td>0.000000e+00</td>\n",
       "      <td>0.000000e+00</td>\n",
       "      <td>1.000000e+00</td>\n",
       "      <td>1.000000e+00</td>\n",
       "      <td>0.000000e+00</td>\n",
       "      <td>1.800000e+01</td>\n",
       "      <td>0.000000e+00</td>\n",
       "      <td>2.590300e+04</td>\n",
       "    </tr>\n",
       "    <tr>\n",
       "      <th>25%</th>\n",
       "      <td>1.354400e+04</td>\n",
       "      <td>3.100000e+01</td>\n",
       "      <td>4.000000e+00</td>\n",
       "      <td>7.000000e+00</td>\n",
       "      <td>8.559470e+05</td>\n",
       "      <td>3.000000e+00</td>\n",
       "      <td>0.000000e+00</td>\n",
       "      <td>5.142200e+04</td>\n",
       "      <td>5.000000e+00</td>\n",
       "      <td>1.000000e+00</td>\n",
       "      <td>1.000000e+01</td>\n",
       "      <td>4.000000e+00</td>\n",
       "      <td>1.300000e+01</td>\n",
       "      <td>7.386719e+00</td>\n",
       "      <td>6.000000e+00</td>\n",
       "      <td>3.300000e+01</td>\n",
       "      <td>1.000000e+00</td>\n",
       "      <td>6.700400e+04</td>\n",
       "    </tr>\n",
       "    <tr>\n",
       "      <th>50%</th>\n",
       "      <td>2.530200e+04</td>\n",
       "      <td>8.300000e+01</td>\n",
       "      <td>9.000000e+00</td>\n",
       "      <td>7.000000e+00</td>\n",
       "      <td>1.711049e+06</td>\n",
       "      <td>6.000000e+00</td>\n",
       "      <td>1.000000e+00</td>\n",
       "      <td>1.026160e+05</td>\n",
       "      <td>1.100000e+01</td>\n",
       "      <td>3.000000e+00</td>\n",
       "      <td>1.300000e+01</td>\n",
       "      <td>7.000000e+00</td>\n",
       "      <td>2.600000e+01</td>\n",
       "      <td>7.824219e+00</td>\n",
       "      <td>7.000000e+00</td>\n",
       "      <td>4.900000e+01</td>\n",
       "      <td>2.000000e+00</td>\n",
       "      <td>9.661800e+04</td>\n",
       "    </tr>\n",
       "    <tr>\n",
       "      <th>75%</th>\n",
       "      <td>3.794700e+04</td>\n",
       "      <td>1.070000e+02</td>\n",
       "      <td>1.600000e+01</td>\n",
       "      <td>8.000000e+00</td>\n",
       "      <td>2.565499e+06</td>\n",
       "      <td>1.100000e+01</td>\n",
       "      <td>1.000000e+00</td>\n",
       "      <td>1.543890e+05</td>\n",
       "      <td>2.400000e+01</td>\n",
       "      <td>5.000000e+00</td>\n",
       "      <td>1.600000e+01</td>\n",
       "      <td>1.400000e+01</td>\n",
       "      <td>4.700000e+01</td>\n",
       "      <td>8.257812e+00</td>\n",
       "      <td>1.200000e+01</td>\n",
       "      <td>6.500000e+01</td>\n",
       "      <td>3.000000e+00</td>\n",
       "      <td>1.279120e+05</td>\n",
       "    </tr>\n",
       "    <tr>\n",
       "      <th>max</th>\n",
       "      <td>4.968800e+04</td>\n",
       "      <td>1.340000e+02</td>\n",
       "      <td>2.100000e+01</td>\n",
       "      <td>2.500800e+04</td>\n",
       "      <td>3.421083e+06</td>\n",
       "      <td>1.270000e+02</td>\n",
       "      <td>1.000000e+00</td>\n",
       "      <td>2.062090e+05</td>\n",
       "      <td>9.900000e+01</td>\n",
       "      <td>6.000000e+00</td>\n",
       "      <td>2.300000e+01</td>\n",
       "      <td>3.000000e+01</td>\n",
       "      <td>9.900000e+01</td>\n",
       "      <td>2.500800e+04</td>\n",
       "      <td>3.000000e+01</td>\n",
       "      <td>8.100000e+01</td>\n",
       "      <td>3.000000e+00</td>\n",
       "      <td>5.939010e+05</td>\n",
       "    </tr>\n",
       "  </tbody>\n",
       "</table>\n",
       "</div>"
      ],
      "text/plain": [
       "         product_id      aisle_id  department_id        prices      order_id  \\\n",
       "count  3.240486e+07  3.240486e+07   3.240486e+07  3.240486e+07  3.240486e+07   \n",
       "mean   2.559866e+04  7.119612e+01   9.919792e+00  1.148251e+01  1.710745e+06   \n",
       "std    1.408400e+04  3.821139e+01   6.281485e+00  8.325486e+01  9.872988e+05   \n",
       "min    1.000000e+00  1.000000e+00   1.000000e+00  1.000000e+00  2.000000e+00   \n",
       "25%    1.354400e+04  3.100000e+01   4.000000e+00  7.000000e+00  8.559470e+05   \n",
       "50%    2.530200e+04  8.300000e+01   9.000000e+00  7.000000e+00  1.711049e+06   \n",
       "75%    3.794700e+04  1.070000e+02   1.600000e+01  8.000000e+00  2.565499e+06   \n",
       "max    4.968800e+04  1.340000e+02   2.100000e+01  2.500800e+04  3.421083e+06   \n",
       "\n",
       "       add_to_cart_order     reordered       user_id  order_number  \\\n",
       "count       3.240486e+07  3.240486e+07  3.240486e+07  3.240486e+07   \n",
       "mean        8.352325e+00  5.895873e-01  1.029372e+05  1.714230e+01   \n",
       "std         7.127111e+00  4.919087e-01  5.946610e+04  1.753532e+01   \n",
       "min        -1.280000e+02  0.000000e+00  1.000000e+00  1.000000e+00   \n",
       "25%         3.000000e+00  0.000000e+00  5.142200e+04  5.000000e+00   \n",
       "50%         6.000000e+00  1.000000e+00  1.026160e+05  1.100000e+01   \n",
       "75%         1.100000e+01  1.000000e+00  1.543890e+05  2.400000e+01   \n",
       "max         1.270000e+02  1.000000e+00  2.062090e+05  9.900000e+01   \n",
       "\n",
       "       orders_day_of_week  order_hour_of_day  days_since_prior_order  \\\n",
       "count        3.240486e+07       3.240486e+07            3.240486e+07   \n",
       "mean         2.738867e+00       1.342515e+01            1.039267e+01   \n",
       "std          2.090077e+00       4.246380e+00            8.917825e+00   \n",
       "min          0.000000e+00       0.000000e+00            0.000000e+00   \n",
       "25%          1.000000e+00       1.000000e+01            4.000000e+00   \n",
       "50%          3.000000e+00       1.300000e+01            7.000000e+00   \n",
       "75%          5.000000e+00       1.600000e+01            1.400000e+01   \n",
       "max          6.000000e+00       2.300000e+01            3.000000e+01   \n",
       "\n",
       "          max_order      Spending     Frequency           Age  \\\n",
       "count  3.240486e+07  3.240486e+07  3.240486e+07  3.240486e+07   \n",
       "mean   3.305217e+01           NaN  9.606230e+00  4.946527e+01   \n",
       "std    2.515525e+01           NaN  6.452981e+00  1.848558e+01   \n",
       "min    1.000000e+00  1.000000e+00  0.000000e+00  1.800000e+01   \n",
       "25%    1.300000e+01  7.386719e+00  6.000000e+00  3.300000e+01   \n",
       "50%    2.600000e+01  7.824219e+00  7.000000e+00  4.900000e+01   \n",
       "75%    4.700000e+01  8.257812e+00  1.200000e+01  6.500000e+01   \n",
       "max    9.900000e+01  2.500800e+04  3.000000e+01  8.100000e+01   \n",
       "\n",
       "       No_of_dependants  Annual_income  \n",
       "count      3.240486e+07   3.240486e+07  \n",
       "mean       1.501896e+00   9.943773e+04  \n",
       "std        1.118865e+00   4.305727e+04  \n",
       "min        0.000000e+00   2.590300e+04  \n",
       "25%        1.000000e+00   6.700400e+04  \n",
       "50%        2.000000e+00   9.661800e+04  \n",
       "75%        3.000000e+00   1.279120e+05  \n",
       "max        3.000000e+00   5.939010e+05  "
      ]
     },
     "execution_count": 6,
     "metadata": {},
     "output_type": "execute_result"
    }
   ],
   "source": [
    "df_final_data.describe()"
   ]
  },
  {
   "cell_type": "code",
   "execution_count": 7,
   "id": "e95c678e",
   "metadata": {},
   "outputs": [
    {
     "data": {
      "text/html": [
       "<div>\n",
       "<style scoped>\n",
       "    .dataframe tbody tr th:only-of-type {\n",
       "        vertical-align: middle;\n",
       "    }\n",
       "\n",
       "    .dataframe tbody tr th {\n",
       "        vertical-align: top;\n",
       "    }\n",
       "\n",
       "    .dataframe thead th {\n",
       "        text-align: right;\n",
       "    }\n",
       "</style>\n",
       "<table border=\"1\" class=\"dataframe\">\n",
       "  <thead>\n",
       "    <tr style=\"text-align: right;\">\n",
       "      <th></th>\n",
       "      <th>product_id</th>\n",
       "      <th>product_name</th>\n",
       "      <th>aisle_id</th>\n",
       "      <th>department_id</th>\n",
       "      <th>prices</th>\n",
       "      <th>order_id</th>\n",
       "      <th>add_to_cart_order</th>\n",
       "      <th>reordered</th>\n",
       "      <th>user_id</th>\n",
       "      <th>order_number</th>\n",
       "      <th>...</th>\n",
       "      <th>First_Name</th>\n",
       "      <th>Surname</th>\n",
       "      <th>Gender</th>\n",
       "      <th>STATE</th>\n",
       "      <th>Age</th>\n",
       "      <th>date_joined</th>\n",
       "      <th>No_of_dependants</th>\n",
       "      <th>Family_status</th>\n",
       "      <th>Annual_income</th>\n",
       "      <th>_merge</th>\n",
       "    </tr>\n",
       "  </thead>\n",
       "  <tbody>\n",
       "    <tr>\n",
       "      <th>0</th>\n",
       "      <td>1</td>\n",
       "      <td>Chocolate Sandwich Cookies</td>\n",
       "      <td>61</td>\n",
       "      <td>19</td>\n",
       "      <td>7</td>\n",
       "      <td>1107</td>\n",
       "      <td>7</td>\n",
       "      <td>0</td>\n",
       "      <td>38259</td>\n",
       "      <td>2</td>\n",
       "      <td>...</td>\n",
       "      <td>nan</td>\n",
       "      <td>Bean</td>\n",
       "      <td>Female</td>\n",
       "      <td>District of Columbia</td>\n",
       "      <td>68</td>\n",
       "      <td>6/30/2019</td>\n",
       "      <td>2</td>\n",
       "      <td>married</td>\n",
       "      <td>142744</td>\n",
       "      <td>both</td>\n",
       "    </tr>\n",
       "    <tr>\n",
       "      <th>1</th>\n",
       "      <td>769</td>\n",
       "      <td>Sliced American Cheese</td>\n",
       "      <td>21</td>\n",
       "      <td>16</td>\n",
       "      <td>7</td>\n",
       "      <td>1107</td>\n",
       "      <td>10</td>\n",
       "      <td>0</td>\n",
       "      <td>38259</td>\n",
       "      <td>2</td>\n",
       "      <td>...</td>\n",
       "      <td>nan</td>\n",
       "      <td>Bean</td>\n",
       "      <td>Female</td>\n",
       "      <td>District of Columbia</td>\n",
       "      <td>68</td>\n",
       "      <td>6/30/2019</td>\n",
       "      <td>2</td>\n",
       "      <td>married</td>\n",
       "      <td>142744</td>\n",
       "      <td>both</td>\n",
       "    </tr>\n",
       "    <tr>\n",
       "      <th>2</th>\n",
       "      <td>5258</td>\n",
       "      <td>Sparkling Water</td>\n",
       "      <td>115</td>\n",
       "      <td>7</td>\n",
       "      <td>7</td>\n",
       "      <td>3369664</td>\n",
       "      <td>9</td>\n",
       "      <td>0</td>\n",
       "      <td>38259</td>\n",
       "      <td>3</td>\n",
       "      <td>...</td>\n",
       "      <td>nan</td>\n",
       "      <td>Bean</td>\n",
       "      <td>Female</td>\n",
       "      <td>District of Columbia</td>\n",
       "      <td>68</td>\n",
       "      <td>6/30/2019</td>\n",
       "      <td>2</td>\n",
       "      <td>married</td>\n",
       "      <td>142744</td>\n",
       "      <td>both</td>\n",
       "    </tr>\n",
       "    <tr>\n",
       "      <th>3</th>\n",
       "      <td>6184</td>\n",
       "      <td>Clementines</td>\n",
       "      <td>32</td>\n",
       "      <td>4</td>\n",
       "      <td>7</td>\n",
       "      <td>1107</td>\n",
       "      <td>14</td>\n",
       "      <td>1</td>\n",
       "      <td>38259</td>\n",
       "      <td>2</td>\n",
       "      <td>...</td>\n",
       "      <td>nan</td>\n",
       "      <td>Bean</td>\n",
       "      <td>Female</td>\n",
       "      <td>District of Columbia</td>\n",
       "      <td>68</td>\n",
       "      <td>6/30/2019</td>\n",
       "      <td>2</td>\n",
       "      <td>married</td>\n",
       "      <td>142744</td>\n",
       "      <td>both</td>\n",
       "    </tr>\n",
       "    <tr>\n",
       "      <th>4</th>\n",
       "      <td>6184</td>\n",
       "      <td>Clementines</td>\n",
       "      <td>32</td>\n",
       "      <td>4</td>\n",
       "      <td>7</td>\n",
       "      <td>2899757</td>\n",
       "      <td>6</td>\n",
       "      <td>0</td>\n",
       "      <td>38259</td>\n",
       "      <td>1</td>\n",
       "      <td>...</td>\n",
       "      <td>nan</td>\n",
       "      <td>Bean</td>\n",
       "      <td>Female</td>\n",
       "      <td>District of Columbia</td>\n",
       "      <td>68</td>\n",
       "      <td>6/30/2019</td>\n",
       "      <td>2</td>\n",
       "      <td>married</td>\n",
       "      <td>142744</td>\n",
       "      <td>both</td>\n",
       "    </tr>\n",
       "  </tbody>\n",
       "</table>\n",
       "<p>5 rows × 33 columns</p>\n",
       "</div>"
      ],
      "text/plain": [
       "   product_id                product_name  aisle_id  department_id  prices  \\\n",
       "0           1  Chocolate Sandwich Cookies        61             19       7   \n",
       "1         769      Sliced American Cheese        21             16       7   \n",
       "2        5258             Sparkling Water       115              7       7   \n",
       "3        6184                 Clementines        32              4       7   \n",
       "4        6184                 Clementines        32              4       7   \n",
       "\n",
       "   order_id  add_to_cart_order  reordered  user_id  order_number  ...  \\\n",
       "0      1107                  7          0    38259             2  ...   \n",
       "1      1107                 10          0    38259             2  ...   \n",
       "2   3369664                  9          0    38259             3  ...   \n",
       "3      1107                 14          1    38259             2  ...   \n",
       "4   2899757                  6          0    38259             1  ...   \n",
       "\n",
       "   First_Name  Surname  Gender                 STATE Age date_joined  \\\n",
       "0         nan     Bean  Female  District of Columbia  68   6/30/2019   \n",
       "1         nan     Bean  Female  District of Columbia  68   6/30/2019   \n",
       "2         nan     Bean  Female  District of Columbia  68   6/30/2019   \n",
       "3         nan     Bean  Female  District of Columbia  68   6/30/2019   \n",
       "4         nan     Bean  Female  District of Columbia  68   6/30/2019   \n",
       "\n",
       "  No_of_dependants  Family_status Annual_income  _merge  \n",
       "0                2        married        142744    both  \n",
       "1                2        married        142744    both  \n",
       "2                2        married        142744    both  \n",
       "3                2        married        142744    both  \n",
       "4                2        married        142744    both  \n",
       "\n",
       "[5 rows x 33 columns]"
      ]
     },
     "execution_count": 7,
     "metadata": {},
     "output_type": "execute_result"
    }
   ],
   "source": [
    "# Checking the first rows and columns\n",
    "df_final_data.head()"
   ]
  },
  {
   "cell_type": "code",
   "execution_count": 8,
   "id": "c72eb565",
   "metadata": {},
   "outputs": [
    {
     "name": "stdout",
     "output_type": "stream",
     "text": [
      "<class 'pandas.core.frame.DataFrame'>\n",
      "Int64Index: 32404859 entries, 0 to 32404858\n",
      "Data columns (total 33 columns):\n",
      " #   Column                  Dtype   \n",
      "---  ------                  -----   \n",
      " 0   product_id              int64   \n",
      " 1   product_name            object  \n",
      " 2   aisle_id                int16   \n",
      " 3   department_id           int64   \n",
      " 4   prices                  int32   \n",
      " 5   order_id                int64   \n",
      " 6   add_to_cart_order       int8    \n",
      " 7   reordered               int8    \n",
      " 8   user_id                 int64   \n",
      " 9   order_number            int8    \n",
      " 10  orders_day_of_week      int8    \n",
      " 11  order_hour_of_day       int8    \n",
      " 12  days_since_prior_order  int16   \n",
      " 13  price_range_loc         category\n",
      " 14  Busiest_Day             category\n",
      " 15  Busiest_Days            category\n",
      " 16  busiest_period_of_day   object  \n",
      " 17  max_order               int8    \n",
      " 18  loyalty_flag            object  \n",
      " 19  Spending                float16 \n",
      " 20  Spending_Flag           object  \n",
      " 21  Frequency               uint16  \n",
      " 22  Order_Frequency_Flag    object  \n",
      " 23  First_Name              object  \n",
      " 24  Surname                 category\n",
      " 25  Gender                  category\n",
      " 26  STATE                   category\n",
      " 27  Age                     int8    \n",
      " 28  date_joined             object  \n",
      " 29  No_of_dependants        int8    \n",
      " 30  Family_status           category\n",
      " 31  Annual_income           int64   \n",
      " 32  _merge                  category\n",
      "dtypes: category(8), float16(1), int16(2), int32(1), int64(5), int8(8), object(7), uint16(1)\n",
      "memory usage: 4.0+ GB\n"
     ]
    }
   ],
   "source": [
    "df_final_data.info()"
   ]
  },
  {
   "cell_type": "markdown",
   "id": "ddfca10d",
   "metadata": {},
   "source": [
    "# 3. Create Histogram"
   ]
  },
  {
   "cell_type": "markdown",
   "id": "0be13248",
   "metadata": {},
   "source": [
    "#Step 3) You need to provide the Instacart senior stakeholders with descriptive findings about sales. Create a histogram of the “order_hour_of_day” column."
   ]
  },
  {
   "cell_type": "code",
   "execution_count": 9,
   "id": "66dd3f13",
   "metadata": {},
   "outputs": [],
   "source": [
    "# But first we will treat outliers as missing so the histogram makes sense. As explained in the exercise\n",
    "df_final_data.loc[df_final_data['prices'] >100,'prices'] = np.nan"
   ]
  },
  {
   "cell_type": "code",
   "execution_count": 10,
   "id": "a7c04add",
   "metadata": {},
   "outputs": [],
   "source": [
    "df_final_data.loc[df_final_data['prices'] <= 0, 'prices'] = np.nan"
   ]
  },
  {
   "cell_type": "code",
   "execution_count": 11,
   "id": "ca6518ad",
   "metadata": {},
   "outputs": [
    {
     "data": {
      "text/plain": [
       "100.0"
      ]
     },
     "execution_count": 11,
     "metadata": {},
     "output_type": "execute_result"
    }
   ],
   "source": [
    "# Check the repalcement is succesfull or not\n",
    "df_final_data['prices'].max()"
   ]
  },
  {
   "cell_type": "code",
   "execution_count": 12,
   "id": "63eb2ad6",
   "metadata": {},
   "outputs": [
    {
     "data": {
      "image/png": "[encoded data removed]",
      "text/plain": [
       "<Figure size 432x288 with 1 Axes>"
      ]
     },
     "metadata": {
      "needs_background": "light"
     },
     "output_type": "display_data"
    }
   ],
   "source": [
    "hist = df_final_data['order_hour_of_day'].plot.hist(bins = 50)"
   ]
  },
  {
   "cell_type": "markdown",
   "id": "dd6d4ff1",
   "metadata": {},
   "source": [
    "This histogram shows the sales/ orders per hour of the day. I has the bell shape and gap in the middle. Orders get increase in the morning after 8 AM and having highest number of orders at 10 AM. Again after 3 PM in the evening, orders get decreasing. Very few orders are placed through the hours of the night."
   ]
  },
  {
   "cell_type": "code",
   "execution_count": 13,
   "id": "fd3ada58",
   "metadata": {},
   "outputs": [],
   "source": [
    "# Saving histogram with bins 50\n",
    "hist.figure.savefig(os.path.join(path, 'Analysis','Visualization', 'histogram_order_hour_day.png'))"
   ]
  },
  {
   "cell_type": "markdown",
   "id": "b15e8363",
   "metadata": {},
   "source": [
    "# 4. Create bar chart"
   ]
  },
  {
   "cell_type": "markdown",
   "id": "dfc4d67f",
   "metadata": {},
   "source": [
    "#step 4) The marketing team is curious about the distribution of orders among customers in terms of loyalty. Create a bar chart from the “loyalty_flag” column."
   ]
  },
  {
   "cell_type": "code",
   "execution_count": 14,
   "id": "ff47d8e0",
   "metadata": {},
   "outputs": [
    {
     "data": {
      "image/png": "[encoded data removed]",
      "text/plain": [
       "<Figure size 432x288 with 1 Axes>"
      ]
     },
     "metadata": {
      "needs_background": "light"
     },
     "output_type": "display_data"
    }
   ],
   "source": [
    "bar = df_final_data['loyalty_flag'].value_counts().plot.bar()"
   ]
  },
  {
   "cell_type": "markdown",
   "id": "64cce944",
   "metadata": {},
   "source": [
    "From this bar plot, we can see the distribution of orders among customers in terms of loyalty and most of the customers are in 'Regular' category"
   ]
  },
  {
   "cell_type": "code",
   "execution_count": 15,
   "id": "57f10d66",
   "metadata": {},
   "outputs": [],
   "source": [
    "# Saving bar plot in folder\n",
    "bar.figure.savefig(os.path.join(path, 'Analysis','Visualization', 'bar_loyalty.png'))"
   ]
  },
  {
   "cell_type": "markdown",
   "id": "fe0184a0",
   "metadata": {},
   "source": [
    "# 5. Line chart"
   ]
  },
  {
   "cell_type": "markdown",
   "id": "fd31e775",
   "metadata": {},
   "source": [
    "Step 5) Check whether there’s a difference in expenditure (the “prices” column) depending on the hour of the day. (Hint: To check this, you need to use an accurate sample for your line chart!)"
   ]
  },
  {
   "cell_type": "code",
   "execution_count": 16,
   "id": "cc469daf",
   "metadata": {},
   "outputs": [],
   "source": [
    "# First we will do the sampling\n",
    "# setting the seed\n",
    "np.random.seed(4)"
   ]
  },
  {
   "cell_type": "code",
   "execution_count": 17,
   "id": "39561680",
   "metadata": {},
   "outputs": [],
   "source": [
    "# Create list holding true false values to the test np.random.rand() <= 0.7\n",
    "dev = np.random.rand(len(df_final_data)) <= 0.7"
   ]
  },
  {
   "cell_type": "code",
   "execution_count": 18,
   "id": "ce665862",
   "metadata": {},
   "outputs": [],
   "source": [
    "# Stores 70% of sample in big dataframe\n",
    "big = df_final_data[dev]"
   ]
  },
  {
   "cell_type": "code",
   "execution_count": 19,
   "id": "a4abcf18",
   "metadata": {},
   "outputs": [],
   "source": [
    "# Stores 30% of sample in small dataframe\n",
    "small = df_final_data[~dev]"
   ]
  },
  {
   "cell_type": "code",
   "execution_count": 20,
   "id": "b1654907",
   "metadata": {},
   "outputs": [
    {
     "data": {
      "text/plain": [
       "32404859"
      ]
     },
     "execution_count": 20,
     "metadata": {},
     "output_type": "execute_result"
    }
   ],
   "source": [
    "# Checking length of whole dataframe\n",
    "len(df_final_data)"
   ]
  },
  {
   "cell_type": "code",
   "execution_count": 21,
   "id": "07e41d27",
   "metadata": {},
   "outputs": [
    {
     "data": {
      "text/plain": [
       "32404859"
      ]
     },
     "execution_count": 21,
     "metadata": {},
     "output_type": "execute_result"
    }
   ],
   "source": [
    "len(big) + len(small)"
   ]
  },
  {
   "cell_type": "code",
   "execution_count": 22,
   "id": "8222dc1a",
   "metadata": {},
   "outputs": [],
   "source": [
    "# Create new dataframe df_2, that contains only the “prices” and “order_hour_of_day” columns from your small subset.\n",
    "df_sample = small[['order_hour_of_day','prices']]"
   ]
  },
  {
   "cell_type": "code",
   "execution_count": 23,
   "id": "81d663e7",
   "metadata": {},
   "outputs": [
    {
     "data": {
      "image/png": "[encoded data removed]",
      "text/plain": [
       "<Figure size 432x288 with 1 Axes>"
      ]
     },
     "metadata": {
      "needs_background": "light"
     },
     "output_type": "display_data"
    }
   ],
   "source": [
    "# Creating line chart with subset\n",
    "line = sns.lineplot(data = df_sample, x = 'order_hour_of_day',y = 'prices')"
   ]
  },
  {
   "cell_type": "code",
   "execution_count": 24,
   "id": "f538c6f4",
   "metadata": {},
   "outputs": [],
   "source": [
    "# Saving sample line plot in folder\n",
    "line.figure.savefig(os.path.join(path, 'Analysis','Visualization', 'line_plot_sample.png'))"
   ]
  },
  {
   "cell_type": "markdown",
   "id": "a8e0e3f0",
   "metadata": {},
   "source": [
    "From above line plots(one is from sample data and other is from whole data) we can say that people buy most expensive products during the night hours or early morning hours. May be they have more free time during the night. In the opposite, they buy less amount products in the morning from 9 AM to 2 PM. May be they are busy during this time period."
   ]
  },
  {
   "cell_type": "markdown",
   "id": "f9e1e707",
   "metadata": {},
   "source": [
    "# 6. Line chart for targeted marketing campaings"
   ]
  },
  {
   "cell_type": "markdown",
   "id": "f23be3a1",
   "metadata": {},
   "source": [
    "Step 6) Now that you have information about customers, you need to conduct some exploratory analysis of customer demographics to inform the targeted marketing campaigns. First, determine whether there’s a connection between age and family status by creating a line chart exploring the connections between age and number of dependents:"
   ]
  },
  {
   "cell_type": "code",
   "execution_count": 25,
   "id": "d65b818d",
   "metadata": {},
   "outputs": [
    {
     "data": {
      "image/png": "[encoded data removed]",
      "text/plain": [
       "<Figure size 432x288 with 1 Axes>"
      ]
     },
     "metadata": {
      "needs_background": "light"
     },
     "output_type": "display_data"
    }
   ],
   "source": [
    "# Creating line plot to see the relationship between age and number of dependents\n",
    "line_Age_dependents = sns.lineplot(data = df_final_data, x = 'No_of_dependants',y = 'Age')"
   ]
  },
  {
   "cell_type": "markdown",
   "id": "25148d71",
   "metadata": {},
   "source": [
    "In the graph above, x-axis shows the number of dependent and the y-axis shows the average age, showing the relationship between the number of dependents and age. From graph, I am not able to see any relationship between the average age of customers and number of dependents."
   ]
  },
  {
   "cell_type": "code",
   "execution_count": 26,
   "id": "d7fbb624",
   "metadata": {},
   "outputs": [],
   "source": [
    "# Saving line plot for whole data in folder\n",
    "line_Age_dependents.figure.savefig(os.path.join(path, 'Analysis','Visualization', 'line_plot_age_dep.png'))"
   ]
  },
  {
   "cell_type": "markdown",
   "id": "4a1bc0cb",
   "metadata": {},
   "source": [
    "# 7. Scatterplot"
   ]
  },
  {
   "cell_type": "markdown",
   "id": "7897b8b9",
   "metadata": {},
   "source": [
    "You’ll also need to explore whether there’s a connection between age and spending power. To visualize this relationship, create a scatterplot using the sns.scatterplot() function."
   ]
  },
  {
   "cell_type": "code",
   "execution_count": 27,
   "id": "3cbece74",
   "metadata": {
    "scrolled": true
   },
   "outputs": [
    {
     "data": {
      "image/png": "[encoded data removed]",
      "text/plain": [
       "<Figure size 432x288 with 1 Axes>"
      ]
     },
     "metadata": {
      "needs_background": "light"
     },
     "output_type": "display_data"
    }
   ],
   "source": [
    "# Creating scatterplot\n",
    "scatterplot1 = sns.scatterplot(x = 'Age', y = 'Annual_income', data = df_final_data)"
   ]
  },
  {
   "cell_type": "markdown",
   "id": "2b986550",
   "metadata": {},
   "source": [
    "This Scatterplot shows us that as people get older they get more income and therefore more spending power. We can see a increase in concentration plots just after the 40 year mark."
   ]
  },
  {
   "cell_type": "code",
   "execution_count": 28,
   "id": "0974ed30",
   "metadata": {},
   "outputs": [],
   "source": [
    "# Saving scatter plot \n",
    "scatterplot1.figure.savefig(os.path.join(path, 'Analysis','Visualization', 'scatterplot_age_spending.png'))"
   ]
  },
  {
   "cell_type": "code",
   "execution_count": null,
   "id": "1f4b32f2",
   "metadata": {},
   "outputs": [],
   "source": []
  }
 ],
 "metadata": {
  "kernelspec": {
   "display_name": "Python 3",
   "language": "python",
   "name": "python3"
  },
  "language_info": {
   "codemirror_mode": {
    "name": "ipython",
    "version": 3
   },
   "file_extension": ".py",
   "mimetype": "text/x-python",
   "name": "python",
   "nbconvert_exporter": "python",
   "pygments_lexer": "ipython3",
   "version": "3.8.8"
  }
 },
 "nbformat": 4,
 "nbformat_minor": 5
}
