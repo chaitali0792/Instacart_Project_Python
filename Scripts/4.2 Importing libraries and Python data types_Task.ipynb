{
 "cells": [
  {
   "cell_type": "markdown",
   "id": "9e5d61aa",
   "metadata": {},
   "source": [
    "# CONTENT LIST\n",
    "01. Importing Libraries\n",
    "02. Working with Python Data Types\n",
    "03. Bonus task"
   ]
  },
  {
   "cell_type": "markdown",
   "id": "acd9cb94",
   "metadata": {},
   "source": [
    "# 1. Importing Libraries"
   ]
  },
  {
   "cell_type": "code",
   "execution_count": 1,
   "id": "8447c561",
   "metadata": {},
   "outputs": [],
   "source": [
    "# Import libraries\n",
    "import pandas as pd\n",
    "import numpy as np\n",
    "import os"
   ]
  },
  {
   "cell_type": "markdown",
   "id": "a05b7d84",
   "metadata": {},
   "source": [
    "# 2.. Working with Python data types"
   ]
  },
  {
   "cell_type": "code",
   "execution_count": 15,
   "id": "37971bd2",
   "metadata": {},
   "outputs": [
    {
     "data": {
      "text/plain": [
       "100"
      ]
     },
     "execution_count": 15,
     "metadata": {},
     "output_type": "execute_result"
    }
   ],
   "source": [
    "# Output of 100 Using additon\n",
    "x = 25\n",
    "y = 75\n",
    "x + y"
   ]
  },
  {
   "cell_type": "code",
   "execution_count": 16,
   "id": "a35c4972",
   "metadata": {},
   "outputs": [
    {
     "data": {
      "text/plain": [
       "100"
      ]
     },
     "execution_count": 16,
     "metadata": {},
     "output_type": "execute_result"
    }
   ],
   "source": [
    "# Output of 100 using subtraction\n",
    "y = 125\n",
    "y - x"
   ]
  },
  {
   "cell_type": "code",
   "execution_count": 17,
   "id": "7f17ed54",
   "metadata": {},
   "outputs": [
    {
     "data": {
      "text/plain": [
       "100"
      ]
     },
     "execution_count": 17,
     "metadata": {},
     "output_type": "execute_result"
    }
   ],
   "source": [
    "# Output of 100 using multiplication\n",
    "y = 4\n",
    "x * y"
   ]
  },
  {
   "cell_type": "code",
   "execution_count": 18,
   "id": "cdbf3164",
   "metadata": {},
   "outputs": [
    {
     "data": {
      "text/plain": [
       "12.0"
      ]
     },
     "execution_count": 18,
     "metadata": {},
     "output_type": "execute_result"
    }
   ],
   "source": [
    "# Division of floating variables\n",
    "x = 14.4\n",
    "y = 1.2\n",
    "x / y"
   ]
  },
  {
   "cell_type": "code",
   "execution_count": 2,
   "id": "e84770c1",
   "metadata": {},
   "outputs": [
    {
     "data": {
      "text/plain": [
       "'Krankenhaus'"
      ]
     },
     "execution_count": 2,
     "metadata": {},
     "output_type": "execute_result"
    }
   ],
   "source": [
    "# Short word from strings\n",
    "x = 'Kranken'\n",
    "y = 'haus'\n",
    "x + y"
   ]
  },
  {
   "cell_type": "code",
   "execution_count": 3,
   "id": "e86d4de3",
   "metadata": {},
   "outputs": [
    {
     "data": {
      "text/plain": [
       "'Krankenhaus is a German word'"
      ]
     },
     "execution_count": 3,
     "metadata": {},
     "output_type": "execute_result"
    }
   ],
   "source": [
    "# Two short sentences from strings\n",
    "# sentence 1 \n",
    "z = ' is a German word'\n",
    "x + y + z"
   ]
  },
  {
   "cell_type": "code",
   "execution_count": 24,
   "id": "8537b33b",
   "metadata": {},
   "outputs": [
    {
     "data": {
      "text/plain": [
       "'Meaning of Krankenhaus is Hospital'"
      ]
     },
     "execution_count": 24,
     "metadata": {},
     "output_type": "execute_result"
    }
   ],
   "source": [
    "# sentence 2\n",
    "a = 'Meaning of ' + x + y\n",
    "b = ' is Hospital'\n",
    "a + b"
   ]
  },
  {
   "cell_type": "markdown",
   "id": "858db17d",
   "metadata": {},
   "source": [
    "# 3. Bonus task"
   ]
  },
  {
   "cell_type": "code",
   "execution_count": 25,
   "id": "f415e02d",
   "metadata": {},
   "outputs": [
    {
     "data": {
      "text/plain": [
       "'KrankenhausKrankenhausKrankenhausKrankenhausKrankenhausKrankenhausKrankenhausKrankenhausKrankenhausKrankenhausKrankenhausKrankenhausKrankenhausKrankenhausKrankenhausKrankenhausKrankenhausKrankenhausKrankenhausKrankenhausKrankenhausKrankenhausKrankenhausKrankenhausKrankenhausKrankenhausKrankenhausKrankenhausKrankenhausKrankenhausKrankenhausKrankenhausKrankenhausKrankenhausKrankenhausKrankenhausKrankenhausKrankenhausKrankenhausKrankenhausKrankenhausKrankenhausKrankenhausKrankenhausKrankenhausKrankenhausKrankenhausKrankenhausKrankenhausKrankenhausKrankenhausKrankenhausKrankenhausKrankenhausKrankenhausKrankenhausKrankenhausKrankenhausKrankenhausKrankenhausKrankenhausKrankenhausKrankenhausKrankenhausKrankenhausKrankenhausKrankenhausKrankenhausKrankenhausKrankenhausKrankenhausKrankenhausKrankenhausKrankenhausKrankenhausKrankenhausKrankenhausKrankenhausKrankenhausKrankenhausKrankenhausKrankenhausKrankenhausKrankenhausKrankenhausKrankenhausKrankenhausKrankenhausKrankenhausKrankenhausKrankenhausKrankenhausKrankenhausKrankenhausKrankenhausKrankenhausKrankenhausKrankenhausKrankenhausKrankenhaus'"
      ]
     },
     "execution_count": 25,
     "metadata": {},
     "output_type": "execute_result"
    }
   ],
   "source": [
    "# Make a string appear 100 times\n",
    "(x + y)*100"
   ]
  },
  {
   "cell_type": "code",
   "execution_count": null,
   "id": "ef8a8fcd",
   "metadata": {},
   "outputs": [],
   "source": []
  }
 ],
 "metadata": {
  "kernelspec": {
   "display_name": "Python 3",
   "language": "python",
   "name": "python3"
  },
  "language_info": {
   "codemirror_mode": {
    "name": "ipython",
    "version": 3
   },
   "file_extension": ".py",
   "mimetype": "text/x-python",
   "name": "python",
   "nbconvert_exporter": "python",
   "pygments_lexer": "ipython3",
   "version": "3.8.8"
  }
 },
 "nbformat": 4,
 "nbformat_minor": 5
}
