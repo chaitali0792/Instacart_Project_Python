{
 "cells": [
  {
   "cell_type": "markdown",
   "id": "27b8de20",
   "metadata": {},
   "source": [
    "# CONTENT LIST\n",
    "\n",
    "1. Import Libraries\n",
    "2. Importing final merged data\n",
    "3. Security Implications\n",
    "4. Customer behavior in different geographic areas\n",
    "5. Excluding low-activity customers\n",
    "6. Creating 'Parent_Status' Column based on Age and Number of dependent\n",
    "7. Creating Income profile\n",
    "8. Create Alcohol Drinking Profile\n",
    "9. Create breakfast profile\n",
    "10. Visualization of Profiles distribution\n",
    "11. Aggregate the max, mean, and min variables on a customer-profile level\n",
    "12. Compare your customer profiles with regions and departments\n"
   ]
  },
  {
   "cell_type": "markdown",
   "id": "8e27118d",
   "metadata": {},
   "source": [
    "# 01. Import Libraries"
   ]
  },
  {
   "cell_type": "code",
   "execution_count": 93,
   "id": "7b878205",
   "metadata": {},
   "outputs": [],
   "source": [
    "# Importing all libraries\n",
    "import pandas as pd\n",
    "import numpy as np\n",
    "import os\n",
    "import matplotlib.pyplot as plt\n",
    "import seaborn as sns\n",
    "import scipy"
   ]
  },
  {
   "cell_type": "markdown",
   "id": "e6b6acbc",
   "metadata": {},
   "source": [
    "# 02. Importing final merged data"
   ]
  },
  {
   "cell_type": "code",
   "execution_count": 2,
   "id": "8caa2bd6",
   "metadata": {},
   "outputs": [],
   "source": [
    "# Creating common folder path\n",
    "path = r'C:\\Users\\Mukund\\Desktop\\Career Foundry\\Instacart_Grocery_Basket_Analysis_May_2021'"
   ]
  },
  {
   "cell_type": "code",
   "execution_count": 3,
   "id": "3f38d91b",
   "metadata": {},
   "outputs": [
    {
     "data": {
      "text/plain": [
       "'C:\\\\Users\\\\Mukund\\\\Desktop\\\\Career Foundry\\\\Instacart_Grocery_Basket_Analysis_May_2021'"
      ]
     },
     "execution_count": 3,
     "metadata": {},
     "output_type": "execute_result"
    }
   ],
   "source": [
    "path"
   ]
  },
  {
   "cell_type": "code",
   "execution_count": 4,
   "id": "ff9426c3",
   "metadata": {},
   "outputs": [],
   "source": [
    "# Importing final data using OS library\n",
    "df_final_data = pd.read_pickle(os.path.join(path, 'Data', 'Prepared_data', 'Final_data_Task9_Part1.pkl'))"
   ]
  },
  {
   "cell_type": "code",
   "execution_count": 5,
   "id": "e00d063d",
   "metadata": {},
   "outputs": [
    {
     "data": {
      "text/plain": [
       "(32404859, 33)"
      ]
     },
     "execution_count": 5,
     "metadata": {},
     "output_type": "execute_result"
    }
   ],
   "source": [
    "# Checking the size of data\n",
    "df_final_data.shape"
   ]
  },
  {
   "cell_type": "code",
   "execution_count": 6,
   "id": "a8bd1c48",
   "metadata": {},
   "outputs": [
    {
     "data": {
      "text/html": [
       "<div>\n",
       "<style scoped>\n",
       "    .dataframe tbody tr th:only-of-type {\n",
       "        vertical-align: middle;\n",
       "    }\n",
       "\n",
       "    .dataframe tbody tr th {\n",
       "        vertical-align: top;\n",
       "    }\n",
       "\n",
       "    .dataframe thead th {\n",
       "        text-align: right;\n",
       "    }\n",
       "</style>\n",
       "<table border=\"1\" class=\"dataframe\">\n",
       "  <thead>\n",
       "    <tr style=\"text-align: right;\">\n",
       "      <th></th>\n",
       "      <th>product_id</th>\n",
       "      <th>product_name</th>\n",
       "      <th>aisle_id</th>\n",
       "      <th>department_id</th>\n",
       "      <th>prices</th>\n",
       "      <th>order_id</th>\n",
       "      <th>add_to_cart_order</th>\n",
       "      <th>reordered</th>\n",
       "      <th>user_id</th>\n",
       "      <th>order_number</th>\n",
       "      <th>...</th>\n",
       "      <th>First_Name</th>\n",
       "      <th>Surname</th>\n",
       "      <th>Gender</th>\n",
       "      <th>STATE</th>\n",
       "      <th>Age</th>\n",
       "      <th>date_joined</th>\n",
       "      <th>No_of_dependants</th>\n",
       "      <th>Family_status</th>\n",
       "      <th>Annual_income</th>\n",
       "      <th>_merge</th>\n",
       "    </tr>\n",
       "  </thead>\n",
       "  <tbody>\n",
       "    <tr>\n",
       "      <th>0</th>\n",
       "      <td>1</td>\n",
       "      <td>Chocolate Sandwich Cookies</td>\n",
       "      <td>61</td>\n",
       "      <td>19</td>\n",
       "      <td>7</td>\n",
       "      <td>1107</td>\n",
       "      <td>7</td>\n",
       "      <td>0</td>\n",
       "      <td>38259</td>\n",
       "      <td>2</td>\n",
       "      <td>...</td>\n",
       "      <td>nan</td>\n",
       "      <td>Bean</td>\n",
       "      <td>Female</td>\n",
       "      <td>District of Columbia</td>\n",
       "      <td>68</td>\n",
       "      <td>6/30/2019</td>\n",
       "      <td>2</td>\n",
       "      <td>married</td>\n",
       "      <td>142744</td>\n",
       "      <td>both</td>\n",
       "    </tr>\n",
       "    <tr>\n",
       "      <th>1</th>\n",
       "      <td>769</td>\n",
       "      <td>Sliced American Cheese</td>\n",
       "      <td>21</td>\n",
       "      <td>16</td>\n",
       "      <td>7</td>\n",
       "      <td>1107</td>\n",
       "      <td>10</td>\n",
       "      <td>0</td>\n",
       "      <td>38259</td>\n",
       "      <td>2</td>\n",
       "      <td>...</td>\n",
       "      <td>nan</td>\n",
       "      <td>Bean</td>\n",
       "      <td>Female</td>\n",
       "      <td>District of Columbia</td>\n",
       "      <td>68</td>\n",
       "      <td>6/30/2019</td>\n",
       "      <td>2</td>\n",
       "      <td>married</td>\n",
       "      <td>142744</td>\n",
       "      <td>both</td>\n",
       "    </tr>\n",
       "    <tr>\n",
       "      <th>2</th>\n",
       "      <td>5258</td>\n",
       "      <td>Sparkling Water</td>\n",
       "      <td>115</td>\n",
       "      <td>7</td>\n",
       "      <td>7</td>\n",
       "      <td>3369664</td>\n",
       "      <td>9</td>\n",
       "      <td>0</td>\n",
       "      <td>38259</td>\n",
       "      <td>3</td>\n",
       "      <td>...</td>\n",
       "      <td>nan</td>\n",
       "      <td>Bean</td>\n",
       "      <td>Female</td>\n",
       "      <td>District of Columbia</td>\n",
       "      <td>68</td>\n",
       "      <td>6/30/2019</td>\n",
       "      <td>2</td>\n",
       "      <td>married</td>\n",
       "      <td>142744</td>\n",
       "      <td>both</td>\n",
       "    </tr>\n",
       "    <tr>\n",
       "      <th>3</th>\n",
       "      <td>6184</td>\n",
       "      <td>Clementines</td>\n",
       "      <td>32</td>\n",
       "      <td>4</td>\n",
       "      <td>7</td>\n",
       "      <td>1107</td>\n",
       "      <td>14</td>\n",
       "      <td>1</td>\n",
       "      <td>38259</td>\n",
       "      <td>2</td>\n",
       "      <td>...</td>\n",
       "      <td>nan</td>\n",
       "      <td>Bean</td>\n",
       "      <td>Female</td>\n",
       "      <td>District of Columbia</td>\n",
       "      <td>68</td>\n",
       "      <td>6/30/2019</td>\n",
       "      <td>2</td>\n",
       "      <td>married</td>\n",
       "      <td>142744</td>\n",
       "      <td>both</td>\n",
       "    </tr>\n",
       "    <tr>\n",
       "      <th>4</th>\n",
       "      <td>6184</td>\n",
       "      <td>Clementines</td>\n",
       "      <td>32</td>\n",
       "      <td>4</td>\n",
       "      <td>7</td>\n",
       "      <td>2899757</td>\n",
       "      <td>6</td>\n",
       "      <td>0</td>\n",
       "      <td>38259</td>\n",
       "      <td>1</td>\n",
       "      <td>...</td>\n",
       "      <td>nan</td>\n",
       "      <td>Bean</td>\n",
       "      <td>Female</td>\n",
       "      <td>District of Columbia</td>\n",
       "      <td>68</td>\n",
       "      <td>6/30/2019</td>\n",
       "      <td>2</td>\n",
       "      <td>married</td>\n",
       "      <td>142744</td>\n",
       "      <td>both</td>\n",
       "    </tr>\n",
       "  </tbody>\n",
       "</table>\n",
       "<p>5 rows × 33 columns</p>\n",
       "</div>"
      ],
      "text/plain": [
       "   product_id                product_name  aisle_id  department_id  prices  \\\n",
       "0           1  Chocolate Sandwich Cookies        61             19       7   \n",
       "1         769      Sliced American Cheese        21             16       7   \n",
       "2        5258             Sparkling Water       115              7       7   \n",
       "3        6184                 Clementines        32              4       7   \n",
       "4        6184                 Clementines        32              4       7   \n",
       "\n",
       "   order_id  add_to_cart_order  reordered  user_id  order_number  ...  \\\n",
       "0      1107                  7          0    38259             2  ...   \n",
       "1      1107                 10          0    38259             2  ...   \n",
       "2   3369664                  9          0    38259             3  ...   \n",
       "3      1107                 14          1    38259             2  ...   \n",
       "4   2899757                  6          0    38259             1  ...   \n",
       "\n",
       "   First_Name  Surname  Gender                 STATE Age date_joined  \\\n",
       "0         nan     Bean  Female  District of Columbia  68   6/30/2019   \n",
       "1         nan     Bean  Female  District of Columbia  68   6/30/2019   \n",
       "2         nan     Bean  Female  District of Columbia  68   6/30/2019   \n",
       "3         nan     Bean  Female  District of Columbia  68   6/30/2019   \n",
       "4         nan     Bean  Female  District of Columbia  68   6/30/2019   \n",
       "\n",
       "  No_of_dependants  Family_status Annual_income  _merge  \n",
       "0                2        married        142744    both  \n",
       "1                2        married        142744    both  \n",
       "2                2        married        142744    both  \n",
       "3                2        married        142744    both  \n",
       "4                2        married        142744    both  \n",
       "\n",
       "[5 rows x 33 columns]"
      ]
     },
     "execution_count": 6,
     "metadata": {},
     "output_type": "execute_result"
    }
   ],
   "source": [
    "# Checking first rows of data\n",
    "df_final_data.head()"
   ]
  },
  {
   "cell_type": "markdown",
   "id": "b9c4abfe",
   "metadata": {},
   "source": [
    "# 03. Security Implications"
   ]
  },
  {
   "cell_type": "code",
   "execution_count": 7,
   "id": "b022fa81",
   "metadata": {},
   "outputs": [
    {
     "data": {
      "text/plain": [
       "Index(['product_id', 'product_name', 'aisle_id', 'department_id', 'prices',\n",
       "       'order_id', 'add_to_cart_order', 'reordered', 'user_id', 'order_number',\n",
       "       'orders_day_of_week', 'order_hour_of_day', 'days_since_prior_order',\n",
       "       'price_range_loc', 'Busiest_Day', 'Busiest_Days',\n",
       "       'busiest_period_of_day', 'max_order', 'loyalty_flag', 'Spending',\n",
       "       'Spending_Flag', 'Frequency', 'Order_Frequency_Flag', 'First_Name',\n",
       "       'Surname', 'Gender', 'STATE', 'Age', 'date_joined', 'No_of_dependants',\n",
       "       'Family_status', 'Annual_income', '_merge'],\n",
       "      dtype='object')"
      ]
     },
     "execution_count": 7,
     "metadata": {},
     "output_type": "execute_result"
    }
   ],
   "source": [
    "# Checking the column names for PII\n",
    "df_final_data.columns"
   ]
  },
  {
   "cell_type": "markdown",
   "id": "0dc4c627",
   "metadata": {},
   "source": [
    "I think, columns with Customer's First_name and Surname contain personally identifiable information. If these columns are not necessary for analysis, they can be removed after discussing with client or seniors."
   ]
  },
  {
   "cell_type": "markdown",
   "id": "23a852a6",
   "metadata": {},
   "source": [
    "# 04. Customer behavior in different geographic areas "
   ]
  },
  {
   "cell_type": "code",
   "execution_count": 8,
   "id": "65a9f1a3",
   "metadata": {},
   "outputs": [
    {
     "data": {
      "text/plain": [
       "Pennsylvania            667082\n",
       "California              659783\n",
       "Rhode Island            656913\n",
       "Georgia                 656389\n",
       "New Mexico              654494\n",
       "Arizona                 653964\n",
       "North Carolina          651900\n",
       "Oklahoma                651739\n",
       "Alaska                  648495\n",
       "Minnesota               647825\n",
       "Massachusetts           646358\n",
       "Wyoming                 644255\n",
       "Virginia                641421\n",
       "Missouri                640732\n",
       "Texas                   640394\n",
       "Colorado                639280\n",
       "Maine                   638583\n",
       "North Dakota            638491\n",
       "Alabama                 638003\n",
       "Kansas                  637538\n",
       "Louisiana               637482\n",
       "Delaware                637024\n",
       "South Carolina          636754\n",
       "Oregon                  636425\n",
       "Arkansas                636144\n",
       "Nevada                  636139\n",
       "New York                635983\n",
       "Montana                 635265\n",
       "South Dakota            633772\n",
       "Illinois                633024\n",
       "Hawaii                  632901\n",
       "Washington              632852\n",
       "Mississippi             632675\n",
       "Kentucky                632490\n",
       "Michigan                630928\n",
       "Florida                 629027\n",
       "Ohio                    628319\n",
       "Wisconsin               628108\n",
       "New Jersey              627692\n",
       "Indiana                 627282\n",
       "Maryland                626579\n",
       "Nebraska                625813\n",
       "Iowa                    625493\n",
       "Connecticut             623022\n",
       "Tennessee               617873\n",
       "New Hampshire           615378\n",
       "District of Columbia    613695\n",
       "West Virginia           612296\n",
       "Utah                    611941\n",
       "Vermont                 611725\n",
       "Idaho                   607119\n",
       "Name: STATE, dtype: int64"
      ]
     },
     "execution_count": 8,
     "metadata": {},
     "output_type": "execute_result"
    }
   ],
   "source": [
    "# Getting the state names from data\n",
    "df_final_data['STATE'].value_counts(dropna = False)"
   ]
  },
  {
   "cell_type": "code",
   "execution_count": 9,
   "id": "74e1a853",
   "metadata": {},
   "outputs": [],
   "source": [
    "# Assigning new variable Region based on states\n",
    "result = []\n",
    "\n",
    "for value in df_final_data[\"STATE\"]:\n",
    "  if (value in( 'Maine','New Hampshire', 'Vermont', 'Rhode Island','Massachusetts','Connecticut','Pennsylvania','New Jersey','New York' )):\n",
    "    result.append(\"Northeast\")\n",
    "  elif (value in('Michigan','Illinois','Indiana','Wisconsin','Ohio','North Dakota','South Dakota','Kansas','Nebraska','Iowa','Minnesota','Missouri')):\n",
    "    result.append(\"Midwest\")\n",
    "  elif (value in('Delaware','Maryland','District of Columbia','Virginia','West Virginia','North Carolina','South Carolina','Georgia','Florida','Kentucky','Tennessee','Mississippi','Alabama','Oklahoma','Texas','Arkansas','Louisiana')):\n",
    "    result.append(\"South\")\n",
    "  elif (value in('Idaho','Montana','Wyoming','Nevada','Utah','Colorado','Arizona','New Mexico','Alaska','Washington','Oregon','California','Hawaii')):\n",
    "    result.append(\"West\")\n",
    "  else:\n",
    "    result.append(\"Not Enough Data\")"
   ]
  },
  {
   "cell_type": "code",
   "execution_count": 10,
   "id": "05fba338",
   "metadata": {},
   "outputs": [],
   "source": [
    "# Creating 'Region' column in df_final_data using result data\n",
    "df_final_data['Region'] = result"
   ]
  },
  {
   "cell_type": "code",
   "execution_count": 11,
   "id": "6b02eb8b",
   "metadata": {},
   "outputs": [
    {
     "data": {
      "text/plain": [
       "South        10791885\n",
       "West          8292913\n",
       "Midwest       7597325\n",
       "Northeast     5722736\n",
       "Name: Region, dtype: int64"
      ]
     },
     "execution_count": 11,
     "metadata": {},
     "output_type": "execute_result"
    }
   ],
   "source": [
    "# Checking the count for this new column\n",
    "df_final_data['Region'].value_counts(dropna = False)"
   ]
  },
  {
   "cell_type": "code",
   "execution_count": 12,
   "id": "5b8e701d",
   "metadata": {},
   "outputs": [],
   "source": [
    "# To check the difference in spending habits between the different U.S. regions, \n",
    "# we can create crosstab between Region and Spending_Flag\n",
    "crosstab = pd.crosstab(df_final_data['Region'], df_final_data['Spending_Flag'], dropna = False)"
   ]
  },
  {
   "cell_type": "code",
   "execution_count": 13,
   "id": "ac63024e",
   "metadata": {},
   "outputs": [
    {
     "data": {
      "text/html": [
       "<div>\n",
       "<style scoped>\n",
       "    .dataframe tbody tr th:only-of-type {\n",
       "        vertical-align: middle;\n",
       "    }\n",
       "\n",
       "    .dataframe tbody tr th {\n",
       "        vertical-align: top;\n",
       "    }\n",
       "\n",
       "    .dataframe thead th {\n",
       "        text-align: right;\n",
       "    }\n",
       "</style>\n",
       "<table border=\"1\" class=\"dataframe\">\n",
       "  <thead>\n",
       "    <tr style=\"text-align: right;\">\n",
       "      <th>Spending_Flag</th>\n",
       "      <th>High spender</th>\n",
       "      <th>Low spender</th>\n",
       "    </tr>\n",
       "    <tr>\n",
       "      <th>Region</th>\n",
       "      <th></th>\n",
       "      <th></th>\n",
       "    </tr>\n",
       "  </thead>\n",
       "  <tbody>\n",
       "    <tr>\n",
       "      <th>Midwest</th>\n",
       "      <td>155975</td>\n",
       "      <td>7441350</td>\n",
       "    </tr>\n",
       "    <tr>\n",
       "      <th>Northeast</th>\n",
       "      <td>108200</td>\n",
       "      <td>5614536</td>\n",
       "    </tr>\n",
       "    <tr>\n",
       "      <th>South</th>\n",
       "      <td>209610</td>\n",
       "      <td>10582275</td>\n",
       "    </tr>\n",
       "    <tr>\n",
       "      <th>West</th>\n",
       "      <td>160328</td>\n",
       "      <td>8132585</td>\n",
       "    </tr>\n",
       "  </tbody>\n",
       "</table>\n",
       "</div>"
      ],
      "text/plain": [
       "Spending_Flag  High spender  Low spender\n",
       "Region                                  \n",
       "Midwest              155975      7441350\n",
       "Northeast            108200      5614536\n",
       "South                209610     10582275\n",
       "West                 160328      8132585"
      ]
     },
     "execution_count": 13,
     "metadata": {},
     "output_type": "execute_result"
    }
   ],
   "source": [
    "# Checking the result from crosstab\n",
    "crosstab"
   ]
  },
  {
   "cell_type": "markdown",
   "id": "59cd65a0",
   "metadata": {},
   "source": [
    "Customers from the South region has the largest percentage of both high & low spenders followed by the West, Midwest & then finally the Northeast. Based on the above spenders distribution per region, we can also check the number of orders per region and regional prices with statistics"
   ]
  },
  {
   "cell_type": "code",
   "execution_count": 14,
   "id": "b6f3a3eb",
   "metadata": {},
   "outputs": [
    {
     "data": {
      "text/html": [
       "<div>\n",
       "<style scoped>\n",
       "    .dataframe tbody tr th:only-of-type {\n",
       "        vertical-align: middle;\n",
       "    }\n",
       "\n",
       "    .dataframe tbody tr th {\n",
       "        vertical-align: top;\n",
       "    }\n",
       "\n",
       "    .dataframe thead tr th {\n",
       "        text-align: left;\n",
       "    }\n",
       "\n",
       "    .dataframe thead tr:last-of-type th {\n",
       "        text-align: right;\n",
       "    }\n",
       "</style>\n",
       "<table border=\"1\" class=\"dataframe\">\n",
       "  <thead>\n",
       "    <tr>\n",
       "      <th></th>\n",
       "      <th>prices</th>\n",
       "    </tr>\n",
       "    <tr>\n",
       "      <th></th>\n",
       "      <th>sum</th>\n",
       "    </tr>\n",
       "    <tr>\n",
       "      <th>Region</th>\n",
       "      <th></th>\n",
       "    </tr>\n",
       "  </thead>\n",
       "  <tbody>\n",
       "    <tr>\n",
       "      <th>Midwest</th>\n",
       "      <td>92809735</td>\n",
       "    </tr>\n",
       "    <tr>\n",
       "      <th>Northeast</th>\n",
       "      <td>63280592</td>\n",
       "    </tr>\n",
       "    <tr>\n",
       "      <th>South</th>\n",
       "      <td>126253978</td>\n",
       "    </tr>\n",
       "    <tr>\n",
       "      <th>West</th>\n",
       "      <td>89744757</td>\n",
       "    </tr>\n",
       "  </tbody>\n",
       "</table>\n",
       "</div>"
      ],
      "text/plain": [
       "              prices\n",
       "                 sum\n",
       "Region              \n",
       "Midwest     92809735\n",
       "Northeast   63280592\n",
       "South      126253978\n",
       "West        89744757"
      ]
     },
     "execution_count": 14,
     "metadata": {},
     "output_type": "execute_result"
    }
   ],
   "source": [
    "# Checking the regional prices\n",
    "df_final_data.groupby(['Region']).agg({'prices':['sum']})"
   ]
  },
  {
   "cell_type": "markdown",
   "id": "28aad207",
   "metadata": {},
   "source": [
    "South region has the highest sum of prices paid followed by the Midwest, West and Northeast."
   ]
  },
  {
   "cell_type": "code",
   "execution_count": 15,
   "id": "16b24518",
   "metadata": {},
   "outputs": [
    {
     "data": {
      "text/html": [
       "<div>\n",
       "<style scoped>\n",
       "    .dataframe tbody tr th:only-of-type {\n",
       "        vertical-align: middle;\n",
       "    }\n",
       "\n",
       "    .dataframe tbody tr th {\n",
       "        vertical-align: top;\n",
       "    }\n",
       "\n",
       "    .dataframe thead tr th {\n",
       "        text-align: left;\n",
       "    }\n",
       "\n",
       "    .dataframe thead tr:last-of-type th {\n",
       "        text-align: right;\n",
       "    }\n",
       "</style>\n",
       "<table border=\"1\" class=\"dataframe\">\n",
       "  <thead>\n",
       "    <tr>\n",
       "      <th></th>\n",
       "      <th>order_number</th>\n",
       "    </tr>\n",
       "    <tr>\n",
       "      <th></th>\n",
       "      <th>sum</th>\n",
       "    </tr>\n",
       "    <tr>\n",
       "      <th>Region</th>\n",
       "      <th></th>\n",
       "    </tr>\n",
       "  </thead>\n",
       "  <tbody>\n",
       "    <tr>\n",
       "      <th>Midwest</th>\n",
       "      <td>128585728.0</td>\n",
       "    </tr>\n",
       "    <tr>\n",
       "      <th>Northeast</th>\n",
       "      <td>98521079.0</td>\n",
       "    </tr>\n",
       "    <tr>\n",
       "      <th>South</th>\n",
       "      <td>185091277.0</td>\n",
       "    </tr>\n",
       "    <tr>\n",
       "      <th>West</th>\n",
       "      <td>143295881.0</td>\n",
       "    </tr>\n",
       "  </tbody>\n",
       "</table>\n",
       "</div>"
      ],
      "text/plain": [
       "          order_number\n",
       "                   sum\n",
       "Region                \n",
       "Midwest    128585728.0\n",
       "Northeast   98521079.0\n",
       "South      185091277.0\n",
       "West       143295881.0"
      ]
     },
     "execution_count": 15,
     "metadata": {},
     "output_type": "execute_result"
    }
   ],
   "source": [
    "# Checking the regional number of orders\n",
    "df_final_data.groupby(['Region']).agg({'order_number':['sum']})"
   ]
  },
  {
   "cell_type": "markdown",
   "id": "8a5a6067",
   "metadata": {},
   "source": [
    "Again, South region has the largest number of total orders as compared to other regions"
   ]
  },
  {
   "cell_type": "markdown",
   "id": "fb3e65fe",
   "metadata": {},
   "source": [
    "# Summary: The regions have different spending habits in terms of prices and number of orders."
   ]
  },
  {
   "cell_type": "markdown",
   "id": "88dc83cd",
   "metadata": {},
   "source": [
    "# 05. Excluding  low-activity customers"
   ]
  },
  {
   "cell_type": "code",
   "execution_count": 16,
   "id": "91eefbd2",
   "metadata": {},
   "outputs": [
    {
     "data": {
      "text/plain": [
       "(32404859, 34)"
      ]
     },
     "execution_count": 16,
     "metadata": {},
     "output_type": "execute_result"
    }
   ],
   "source": [
    "# Checking the size of data before creating subset\n",
    "df_final_data.shape"
   ]
  },
  {
   "cell_type": "code",
   "execution_count": 17,
   "id": "43ebd249",
   "metadata": {},
   "outputs": [],
   "source": [
    "# Creating new column Activity_Flag for low_activity_customers\n",
    "\n",
    "df_final_data.loc[df_final_data['order_number'] < 5,'Activity_Flag'] = 'Low_Activity_Customer'"
   ]
  },
  {
   "cell_type": "code",
   "execution_count": 18,
   "id": "e834d57f",
   "metadata": {},
   "outputs": [],
   "source": [
    "\n",
    "df_final_data.loc[df_final_data['order_number'] >= 5,'Activity_Flag'] = 'High_Activity_Customer'"
   ]
  },
  {
   "cell_type": "code",
   "execution_count": 19,
   "id": "78b5bf2c",
   "metadata": {},
   "outputs": [
    {
     "data": {
      "text/plain": [
       "High_Activity_Customer    24414877\n",
       "Low_Activity_Customer      7989982\n",
       "Name: Activity_Flag, dtype: int64"
      ]
     },
     "execution_count": 19,
     "metadata": {},
     "output_type": "execute_result"
    }
   ],
   "source": [
    "# Checking count of new 'Activity_Flag' column\n",
    "\n",
    "df_final_data['Activity_Flag'].value_counts(dropna=False)"
   ]
  },
  {
   "cell_type": "code",
   "execution_count": 20,
   "id": "c71d75bb",
   "metadata": {},
   "outputs": [],
   "source": [
    "# Creating subset for low activity customers\n",
    "df_low_activity = df_final_data[df_final_data.Activity_Flag == 'Low_Activity_Customer']"
   ]
  },
  {
   "cell_type": "code",
   "execution_count": 21,
   "id": "e9c637b9",
   "metadata": {},
   "outputs": [
    {
     "data": {
      "text/plain": [
       "(7989982, 35)"
      ]
     },
     "execution_count": 21,
     "metadata": {},
     "output_type": "execute_result"
    }
   ],
   "source": [
    "# Checking the size of subset created\n",
    "df_low_activity.shape"
   ]
  },
  {
   "cell_type": "code",
   "execution_count": 22,
   "id": "dc0e70d5",
   "metadata": {},
   "outputs": [],
   "source": [
    "#Export df_low_activity data to pkl\n",
    "df_low_activity.to_pickle(os.path.join(path,'Data','Prepared_data', 'df_low_activity_task_10.pkl'))"
   ]
  },
  {
   "cell_type": "code",
   "execution_count": 23,
   "id": "0409e634",
   "metadata": {},
   "outputs": [],
   "source": [
    "# Updating current data with high activity customers to exclude low activity customers\n",
    "\n",
    "df_final_data = df_final_data[df_final_data.Activity_Flag == 'High_Activity_Customer']"
   ]
  },
  {
   "cell_type": "code",
   "execution_count": 24,
   "id": "7e5335b7",
   "metadata": {},
   "outputs": [
    {
     "data": {
      "text/plain": [
       "(24414877, 35)"
      ]
     },
     "execution_count": 24,
     "metadata": {},
     "output_type": "execute_result"
    }
   ],
   "source": [
    "# Checking the size of data after excluding low activity customers\n",
    "df_final_data.shape"
   ]
  },
  {
   "cell_type": "code",
   "execution_count": 25,
   "id": "2ec2c24b",
   "metadata": {},
   "outputs": [
    {
     "data": {
      "text/plain": [
       "32404859"
      ]
     },
     "execution_count": 25,
     "metadata": {},
     "output_type": "execute_result"
    }
   ],
   "source": [
    "# Checking the lengths of both data sets to confirm the original data set length \n",
    "len(df_final_data) + len (df_low_activity)"
   ]
  },
  {
   "cell_type": "markdown",
   "id": "de114678",
   "metadata": {},
   "source": [
    "# 06. Creating 'Parent_Status' Column based on Age and Number of dependent"
   ]
  },
  {
   "cell_type": "code",
   "execution_count": 26,
   "id": "35431936",
   "metadata": {},
   "outputs": [],
   "source": [
    "# Condition for no dependents\n",
    "df_final_data.loc[(df_final_data ['No_of_dependants'] == 0), 'Parent_Status'] = 'No Dependants/Not Parents'"
   ]
  },
  {
   "cell_type": "code",
   "execution_count": 27,
   "id": "148b6ef3",
   "metadata": {},
   "outputs": [],
   "source": [
    "# Condition for young parents\n",
    "df_final_data.loc[((df_final_data['Age'] >= 18) & (df_final_data['Age'] < 35) & (df_final_data['No_of_dependants'] >= 1)), 'Parent_Status'] = 'Young Parents'"
   ]
  },
  {
   "cell_type": "code",
   "execution_count": 28,
   "id": "f1788a47",
   "metadata": {},
   "outputs": [],
   "source": [
    "# Condition for Middle-Age parents\n",
    "df_final_data.loc[((df_final_data['Age'] >= 35) & (df_final_data['Age'] < 60) & (df_final_data['No_of_dependants'] >= 1)), 'Parent_Status'] = 'Mid-Age Parents'"
   ]
  },
  {
   "cell_type": "code",
   "execution_count": 29,
   "id": "e020424e",
   "metadata": {},
   "outputs": [],
   "source": [
    "# Condition for Old-Age parents\n",
    "df_final_data.loc[((df_final_data['Age'] >= 60) & (df_final_data['No_of_dependants'] >= 1)), 'Parent_Status'] = 'Old-Age Parents'"
   ]
  },
  {
   "cell_type": "code",
   "execution_count": 30,
   "id": "3916d63d",
   "metadata": {},
   "outputs": [
    {
     "data": {
      "text/plain": [
       "Mid-Age Parents              7190133\n",
       "Old-Age Parents              6241386\n",
       "No Dependants/Not Parents    6105002\n",
       "Young Parents                4878356\n",
       "Name: Parent_Status, dtype: int64"
      ]
     },
     "execution_count": 30,
     "metadata": {},
     "output_type": "execute_result"
    }
   ],
   "source": [
    "# Checking the count of Parent_Status column\n",
    "df_final_data['Parent_Status'].value_counts(dropna = False)"
   ]
  },
  {
   "cell_type": "code",
   "execution_count": 31,
   "id": "e10ba883",
   "metadata": {},
   "outputs": [
    {
     "data": {
      "text/html": [
       "<div>\n",
       "<style scoped>\n",
       "    .dataframe tbody tr th:only-of-type {\n",
       "        vertical-align: middle;\n",
       "    }\n",
       "\n",
       "    .dataframe tbody tr th {\n",
       "        vertical-align: top;\n",
       "    }\n",
       "\n",
       "    .dataframe thead th {\n",
       "        text-align: right;\n",
       "    }\n",
       "</style>\n",
       "<table border=\"1\" class=\"dataframe\">\n",
       "  <thead>\n",
       "    <tr style=\"text-align: right;\">\n",
       "      <th></th>\n",
       "      <th>product_id</th>\n",
       "      <th>product_name</th>\n",
       "      <th>aisle_id</th>\n",
       "      <th>department_id</th>\n",
       "      <th>prices</th>\n",
       "      <th>order_id</th>\n",
       "      <th>add_to_cart_order</th>\n",
       "      <th>reordered</th>\n",
       "      <th>user_id</th>\n",
       "      <th>order_number</th>\n",
       "      <th>...</th>\n",
       "      <th>STATE</th>\n",
       "      <th>Age</th>\n",
       "      <th>date_joined</th>\n",
       "      <th>No_of_dependants</th>\n",
       "      <th>Family_status</th>\n",
       "      <th>Annual_income</th>\n",
       "      <th>_merge</th>\n",
       "      <th>Region</th>\n",
       "      <th>Activity_Flag</th>\n",
       "      <th>Parent_Status</th>\n",
       "    </tr>\n",
       "  </thead>\n",
       "  <tbody>\n",
       "    <tr>\n",
       "      <th>60</th>\n",
       "      <td>1</td>\n",
       "      <td>Chocolate Sandwich Cookies</td>\n",
       "      <td>61</td>\n",
       "      <td>19</td>\n",
       "      <td>5</td>\n",
       "      <td>5319</td>\n",
       "      <td>3</td>\n",
       "      <td>1</td>\n",
       "      <td>196224</td>\n",
       "      <td>65</td>\n",
       "      <td>...</td>\n",
       "      <td>New York</td>\n",
       "      <td>48</td>\n",
       "      <td>4/29/2018</td>\n",
       "      <td>2</td>\n",
       "      <td>married</td>\n",
       "      <td>43906</td>\n",
       "      <td>both</td>\n",
       "      <td>Northeast</td>\n",
       "      <td>High_Activity_Customer</td>\n",
       "      <td>Mid-Age Parents</td>\n",
       "    </tr>\n",
       "    <tr>\n",
       "      <th>61</th>\n",
       "      <td>1</td>\n",
       "      <td>Chocolate Sandwich Cookies</td>\n",
       "      <td>61</td>\n",
       "      <td>19</td>\n",
       "      <td>5</td>\n",
       "      <td>54412</td>\n",
       "      <td>5</td>\n",
       "      <td>1</td>\n",
       "      <td>196224</td>\n",
       "      <td>23</td>\n",
       "      <td>...</td>\n",
       "      <td>New York</td>\n",
       "      <td>48</td>\n",
       "      <td>4/29/2018</td>\n",
       "      <td>2</td>\n",
       "      <td>married</td>\n",
       "      <td>43906</td>\n",
       "      <td>both</td>\n",
       "      <td>Northeast</td>\n",
       "      <td>High_Activity_Customer</td>\n",
       "      <td>Mid-Age Parents</td>\n",
       "    </tr>\n",
       "    <tr>\n",
       "      <th>62</th>\n",
       "      <td>1</td>\n",
       "      <td>Chocolate Sandwich Cookies</td>\n",
       "      <td>61</td>\n",
       "      <td>19</td>\n",
       "      <td>5</td>\n",
       "      <td>238541</td>\n",
       "      <td>1</td>\n",
       "      <td>1</td>\n",
       "      <td>196224</td>\n",
       "      <td>73</td>\n",
       "      <td>...</td>\n",
       "      <td>New York</td>\n",
       "      <td>48</td>\n",
       "      <td>4/29/2018</td>\n",
       "      <td>2</td>\n",
       "      <td>married</td>\n",
       "      <td>43906</td>\n",
       "      <td>both</td>\n",
       "      <td>Northeast</td>\n",
       "      <td>High_Activity_Customer</td>\n",
       "      <td>Mid-Age Parents</td>\n",
       "    </tr>\n",
       "    <tr>\n",
       "      <th>63</th>\n",
       "      <td>1</td>\n",
       "      <td>Chocolate Sandwich Cookies</td>\n",
       "      <td>61</td>\n",
       "      <td>19</td>\n",
       "      <td>5</td>\n",
       "      <td>238782</td>\n",
       "      <td>1</td>\n",
       "      <td>1</td>\n",
       "      <td>196224</td>\n",
       "      <td>6</td>\n",
       "      <td>...</td>\n",
       "      <td>New York</td>\n",
       "      <td>48</td>\n",
       "      <td>4/29/2018</td>\n",
       "      <td>2</td>\n",
       "      <td>married</td>\n",
       "      <td>43906</td>\n",
       "      <td>both</td>\n",
       "      <td>Northeast</td>\n",
       "      <td>High_Activity_Customer</td>\n",
       "      <td>Mid-Age Parents</td>\n",
       "    </tr>\n",
       "    <tr>\n",
       "      <th>64</th>\n",
       "      <td>1</td>\n",
       "      <td>Chocolate Sandwich Cookies</td>\n",
       "      <td>61</td>\n",
       "      <td>19</td>\n",
       "      <td>5</td>\n",
       "      <td>268206</td>\n",
       "      <td>6</td>\n",
       "      <td>1</td>\n",
       "      <td>196224</td>\n",
       "      <td>48</td>\n",
       "      <td>...</td>\n",
       "      <td>New York</td>\n",
       "      <td>48</td>\n",
       "      <td>4/29/2018</td>\n",
       "      <td>2</td>\n",
       "      <td>married</td>\n",
       "      <td>43906</td>\n",
       "      <td>both</td>\n",
       "      <td>Northeast</td>\n",
       "      <td>High_Activity_Customer</td>\n",
       "      <td>Mid-Age Parents</td>\n",
       "    </tr>\n",
       "  </tbody>\n",
       "</table>\n",
       "<p>5 rows × 36 columns</p>\n",
       "</div>"
      ],
      "text/plain": [
       "    product_id                product_name  aisle_id  department_id  prices  \\\n",
       "60           1  Chocolate Sandwich Cookies        61             19       5   \n",
       "61           1  Chocolate Sandwich Cookies        61             19       5   \n",
       "62           1  Chocolate Sandwich Cookies        61             19       5   \n",
       "63           1  Chocolate Sandwich Cookies        61             19       5   \n",
       "64           1  Chocolate Sandwich Cookies        61             19       5   \n",
       "\n",
       "    order_id  add_to_cart_order  reordered  user_id  order_number  ...  \\\n",
       "60      5319                  3          1   196224            65  ...   \n",
       "61     54412                  5          1   196224            23  ...   \n",
       "62    238541                  1          1   196224            73  ...   \n",
       "63    238782                  1          1   196224             6  ...   \n",
       "64    268206                  6          1   196224            48  ...   \n",
       "\n",
       "       STATE  Age  date_joined No_of_dependants Family_status Annual_income  \\\n",
       "60  New York   48    4/29/2018                2       married         43906   \n",
       "61  New York   48    4/29/2018                2       married         43906   \n",
       "62  New York   48    4/29/2018                2       married         43906   \n",
       "63  New York   48    4/29/2018                2       married         43906   \n",
       "64  New York   48    4/29/2018                2       married         43906   \n",
       "\n",
       "   _merge     Region           Activity_Flag    Parent_Status  \n",
       "60   both  Northeast  High_Activity_Customer  Mid-Age Parents  \n",
       "61   both  Northeast  High_Activity_Customer  Mid-Age Parents  \n",
       "62   both  Northeast  High_Activity_Customer  Mid-Age Parents  \n",
       "63   both  Northeast  High_Activity_Customer  Mid-Age Parents  \n",
       "64   both  Northeast  High_Activity_Customer  Mid-Age Parents  \n",
       "\n",
       "[5 rows x 36 columns]"
      ]
     },
     "execution_count": 31,
     "metadata": {},
     "output_type": "execute_result"
    }
   ],
   "source": [
    "df_final_data.head()"
   ]
  },
  {
   "cell_type": "markdown",
   "id": "f2bf3e1d",
   "metadata": {},
   "source": [
    "# 07. Creating Income profile"
   ]
  },
  {
   "cell_type": "code",
   "execution_count": 32,
   "id": "ac9a7c4f",
   "metadata": {},
   "outputs": [
    {
     "data": {
      "text/plain": [
       "count    2.441488e+07\n",
       "mean     9.989505e+04\n",
       "std      4.333357e+04\n",
       "min      2.590300e+04\n",
       "25%      6.752400e+04\n",
       "50%      9.683600e+04\n",
       "75%      1.281600e+05\n",
       "max      5.939010e+05\n",
       "Name: Annual_income, dtype: float64"
      ]
     },
     "execution_count": 32,
     "metadata": {},
     "output_type": "execute_result"
    }
   ],
   "source": [
    "# Checking the statistics for income\n",
    "df_final_data['Annual_income'].describe()"
   ]
  },
  {
   "cell_type": "code",
   "execution_count": 33,
   "id": "532737b7",
   "metadata": {},
   "outputs": [],
   "source": [
    "# Creating Income_Level column for low level income profiles\n",
    "df_final_data.loc[(df_final_data['Annual_income'] < 43000), 'Income Level'] = 'Lower Income'"
   ]
  },
  {
   "cell_type": "code",
   "execution_count": 34,
   "id": "c71f7ae3",
   "metadata": {},
   "outputs": [],
   "source": [
    "# Creating Income_Level column for Middle level income profiles\n",
    "df_final_data.loc[(df_final_data['Annual_income'] >= 43000) & (df_final_data['Annual_income'] < 128000), 'Income Level'] = 'Middle Income'"
   ]
  },
  {
   "cell_type": "code",
   "execution_count": 35,
   "id": "f9cf3149",
   "metadata": {},
   "outputs": [],
   "source": [
    "# Creating Income_Level column for High level income profiles\n",
    "df_final_data.loc[(df_final_data['Annual_income'] >= 128000), 'Income Level'] = 'Higher Income'"
   ]
  },
  {
   "cell_type": "code",
   "execution_count": 36,
   "id": "a3459a99",
   "metadata": {},
   "outputs": [
    {
     "data": {
      "text/plain": [
       "Middle Income    16672461\n",
       "Higher Income     6124002\n",
       "Lower Income      1618414\n",
       "Name: Income Level, dtype: int64"
      ]
     },
     "execution_count": 36,
     "metadata": {},
     "output_type": "execute_result"
    }
   ],
   "source": [
    "# Checking the count of Income Level column\n",
    "df_final_data['Income Level'].value_counts(dropna = False)"
   ]
  },
  {
   "cell_type": "code",
   "execution_count": 37,
   "id": "21868aa0",
   "metadata": {},
   "outputs": [
    {
     "data": {
      "text/html": [
       "<div>\n",
       "<style scoped>\n",
       "    .dataframe tbody tr th:only-of-type {\n",
       "        vertical-align: middle;\n",
       "    }\n",
       "\n",
       "    .dataframe tbody tr th {\n",
       "        vertical-align: top;\n",
       "    }\n",
       "\n",
       "    .dataframe thead th {\n",
       "        text-align: right;\n",
       "    }\n",
       "</style>\n",
       "<table border=\"1\" class=\"dataframe\">\n",
       "  <thead>\n",
       "    <tr style=\"text-align: right;\">\n",
       "      <th></th>\n",
       "      <th>product_id</th>\n",
       "      <th>product_name</th>\n",
       "      <th>aisle_id</th>\n",
       "      <th>department_id</th>\n",
       "      <th>prices</th>\n",
       "      <th>order_id</th>\n",
       "      <th>add_to_cart_order</th>\n",
       "      <th>reordered</th>\n",
       "      <th>user_id</th>\n",
       "      <th>order_number</th>\n",
       "      <th>...</th>\n",
       "      <th>Age</th>\n",
       "      <th>date_joined</th>\n",
       "      <th>No_of_dependants</th>\n",
       "      <th>Family_status</th>\n",
       "      <th>Annual_income</th>\n",
       "      <th>_merge</th>\n",
       "      <th>Region</th>\n",
       "      <th>Activity_Flag</th>\n",
       "      <th>Parent_Status</th>\n",
       "      <th>Income Level</th>\n",
       "    </tr>\n",
       "  </thead>\n",
       "  <tbody>\n",
       "    <tr>\n",
       "      <th>60</th>\n",
       "      <td>1</td>\n",
       "      <td>Chocolate Sandwich Cookies</td>\n",
       "      <td>61</td>\n",
       "      <td>19</td>\n",
       "      <td>5</td>\n",
       "      <td>5319</td>\n",
       "      <td>3</td>\n",
       "      <td>1</td>\n",
       "      <td>196224</td>\n",
       "      <td>65</td>\n",
       "      <td>...</td>\n",
       "      <td>48</td>\n",
       "      <td>4/29/2018</td>\n",
       "      <td>2</td>\n",
       "      <td>married</td>\n",
       "      <td>43906</td>\n",
       "      <td>both</td>\n",
       "      <td>Northeast</td>\n",
       "      <td>High_Activity_Customer</td>\n",
       "      <td>Mid-Age Parents</td>\n",
       "      <td>Middle Income</td>\n",
       "    </tr>\n",
       "    <tr>\n",
       "      <th>61</th>\n",
       "      <td>1</td>\n",
       "      <td>Chocolate Sandwich Cookies</td>\n",
       "      <td>61</td>\n",
       "      <td>19</td>\n",
       "      <td>5</td>\n",
       "      <td>54412</td>\n",
       "      <td>5</td>\n",
       "      <td>1</td>\n",
       "      <td>196224</td>\n",
       "      <td>23</td>\n",
       "      <td>...</td>\n",
       "      <td>48</td>\n",
       "      <td>4/29/2018</td>\n",
       "      <td>2</td>\n",
       "      <td>married</td>\n",
       "      <td>43906</td>\n",
       "      <td>both</td>\n",
       "      <td>Northeast</td>\n",
       "      <td>High_Activity_Customer</td>\n",
       "      <td>Mid-Age Parents</td>\n",
       "      <td>Middle Income</td>\n",
       "    </tr>\n",
       "    <tr>\n",
       "      <th>62</th>\n",
       "      <td>1</td>\n",
       "      <td>Chocolate Sandwich Cookies</td>\n",
       "      <td>61</td>\n",
       "      <td>19</td>\n",
       "      <td>5</td>\n",
       "      <td>238541</td>\n",
       "      <td>1</td>\n",
       "      <td>1</td>\n",
       "      <td>196224</td>\n",
       "      <td>73</td>\n",
       "      <td>...</td>\n",
       "      <td>48</td>\n",
       "      <td>4/29/2018</td>\n",
       "      <td>2</td>\n",
       "      <td>married</td>\n",
       "      <td>43906</td>\n",
       "      <td>both</td>\n",
       "      <td>Northeast</td>\n",
       "      <td>High_Activity_Customer</td>\n",
       "      <td>Mid-Age Parents</td>\n",
       "      <td>Middle Income</td>\n",
       "    </tr>\n",
       "    <tr>\n",
       "      <th>63</th>\n",
       "      <td>1</td>\n",
       "      <td>Chocolate Sandwich Cookies</td>\n",
       "      <td>61</td>\n",
       "      <td>19</td>\n",
       "      <td>5</td>\n",
       "      <td>238782</td>\n",
       "      <td>1</td>\n",
       "      <td>1</td>\n",
       "      <td>196224</td>\n",
       "      <td>6</td>\n",
       "      <td>...</td>\n",
       "      <td>48</td>\n",
       "      <td>4/29/2018</td>\n",
       "      <td>2</td>\n",
       "      <td>married</td>\n",
       "      <td>43906</td>\n",
       "      <td>both</td>\n",
       "      <td>Northeast</td>\n",
       "      <td>High_Activity_Customer</td>\n",
       "      <td>Mid-Age Parents</td>\n",
       "      <td>Middle Income</td>\n",
       "    </tr>\n",
       "    <tr>\n",
       "      <th>64</th>\n",
       "      <td>1</td>\n",
       "      <td>Chocolate Sandwich Cookies</td>\n",
       "      <td>61</td>\n",
       "      <td>19</td>\n",
       "      <td>5</td>\n",
       "      <td>268206</td>\n",
       "      <td>6</td>\n",
       "      <td>1</td>\n",
       "      <td>196224</td>\n",
       "      <td>48</td>\n",
       "      <td>...</td>\n",
       "      <td>48</td>\n",
       "      <td>4/29/2018</td>\n",
       "      <td>2</td>\n",
       "      <td>married</td>\n",
       "      <td>43906</td>\n",
       "      <td>both</td>\n",
       "      <td>Northeast</td>\n",
       "      <td>High_Activity_Customer</td>\n",
       "      <td>Mid-Age Parents</td>\n",
       "      <td>Middle Income</td>\n",
       "    </tr>\n",
       "  </tbody>\n",
       "</table>\n",
       "<p>5 rows × 37 columns</p>\n",
       "</div>"
      ],
      "text/plain": [
       "    product_id                product_name  aisle_id  department_id  prices  \\\n",
       "60           1  Chocolate Sandwich Cookies        61             19       5   \n",
       "61           1  Chocolate Sandwich Cookies        61             19       5   \n",
       "62           1  Chocolate Sandwich Cookies        61             19       5   \n",
       "63           1  Chocolate Sandwich Cookies        61             19       5   \n",
       "64           1  Chocolate Sandwich Cookies        61             19       5   \n",
       "\n",
       "    order_id  add_to_cart_order  reordered  user_id  order_number  ...  Age  \\\n",
       "60      5319                  3          1   196224            65  ...   48   \n",
       "61     54412                  5          1   196224            23  ...   48   \n",
       "62    238541                  1          1   196224            73  ...   48   \n",
       "63    238782                  1          1   196224             6  ...   48   \n",
       "64    268206                  6          1   196224            48  ...   48   \n",
       "\n",
       "    date_joined  No_of_dependants Family_status Annual_income _merge  \\\n",
       "60    4/29/2018                 2       married         43906   both   \n",
       "61    4/29/2018                 2       married         43906   both   \n",
       "62    4/29/2018                 2       married         43906   both   \n",
       "63    4/29/2018                 2       married         43906   both   \n",
       "64    4/29/2018                 2       married         43906   both   \n",
       "\n",
       "       Region           Activity_Flag    Parent_Status   Income Level  \n",
       "60  Northeast  High_Activity_Customer  Mid-Age Parents  Middle Income  \n",
       "61  Northeast  High_Activity_Customer  Mid-Age Parents  Middle Income  \n",
       "62  Northeast  High_Activity_Customer  Mid-Age Parents  Middle Income  \n",
       "63  Northeast  High_Activity_Customer  Mid-Age Parents  Middle Income  \n",
       "64  Northeast  High_Activity_Customer  Mid-Age Parents  Middle Income  \n",
       "\n",
       "[5 rows x 37 columns]"
      ]
     },
     "execution_count": 37,
     "metadata": {},
     "output_type": "execute_result"
    }
   ],
   "source": [
    "df_final_data.head()"
   ]
  },
  {
   "cell_type": "markdown",
   "id": "8eb11fd6",
   "metadata": {},
   "source": [
    "# 08. Create Alcohol Drinking Profile"
   ]
  },
  {
   "cell_type": "code",
   "execution_count": 38,
   "id": "f1deb0a2",
   "metadata": {},
   "outputs": [],
   "source": [
    "# First create alcohol order flag column with department_id 5 \n",
    "df_final_data.loc[(df_final_data['department_id'] == 5), 'Alcohol Order'] = 1"
   ]
  },
  {
   "cell_type": "code",
   "execution_count": 39,
   "id": "d9c42fef",
   "metadata": {},
   "outputs": [],
   "source": [
    "# Condition for no alcohol order\n",
    "df_final_data.loc[(df_final_data['department_id'] != 5), 'Alcohol Order'] = 0"
   ]
  },
  {
   "cell_type": "code",
   "execution_count": 42,
   "id": "0c0e130f",
   "metadata": {},
   "outputs": [
    {
     "data": {
      "text/plain": [
       "0    24306905\n",
       "1      107972\n",
       "Name: Alcohol Order, dtype: int64"
      ]
     },
     "execution_count": 42,
     "metadata": {},
     "output_type": "execute_result"
    }
   ],
   "source": [
    "# Count of Alcohol Order flag\n",
    "df_final_data['Alcohol Order'].value_counts(dropna = False)"
   ]
  },
  {
   "cell_type": "code",
   "execution_count": 43,
   "id": "9e724b3f",
   "metadata": {},
   "outputs": [
    {
     "data": {
      "text/html": [
       "<div>\n",
       "<style scoped>\n",
       "    .dataframe tbody tr th:only-of-type {\n",
       "        vertical-align: middle;\n",
       "    }\n",
       "\n",
       "    .dataframe tbody tr th {\n",
       "        vertical-align: top;\n",
       "    }\n",
       "\n",
       "    .dataframe thead th {\n",
       "        text-align: right;\n",
       "    }\n",
       "</style>\n",
       "<table border=\"1\" class=\"dataframe\">\n",
       "  <thead>\n",
       "    <tr style=\"text-align: right;\">\n",
       "      <th></th>\n",
       "      <th>product_id</th>\n",
       "      <th>product_name</th>\n",
       "      <th>aisle_id</th>\n",
       "      <th>department_id</th>\n",
       "      <th>prices</th>\n",
       "      <th>order_id</th>\n",
       "      <th>add_to_cart_order</th>\n",
       "      <th>reordered</th>\n",
       "      <th>user_id</th>\n",
       "      <th>order_number</th>\n",
       "      <th>...</th>\n",
       "      <th>date_joined</th>\n",
       "      <th>No_of_dependants</th>\n",
       "      <th>Family_status</th>\n",
       "      <th>Annual_income</th>\n",
       "      <th>_merge</th>\n",
       "      <th>Region</th>\n",
       "      <th>Activity_Flag</th>\n",
       "      <th>Parent_Status</th>\n",
       "      <th>Income Level</th>\n",
       "      <th>Alcohol Order</th>\n",
       "    </tr>\n",
       "  </thead>\n",
       "  <tbody>\n",
       "    <tr>\n",
       "      <th>60</th>\n",
       "      <td>1</td>\n",
       "      <td>Chocolate Sandwich Cookies</td>\n",
       "      <td>61</td>\n",
       "      <td>19</td>\n",
       "      <td>5</td>\n",
       "      <td>5319</td>\n",
       "      <td>3</td>\n",
       "      <td>1</td>\n",
       "      <td>196224</td>\n",
       "      <td>65</td>\n",
       "      <td>...</td>\n",
       "      <td>4/29/2018</td>\n",
       "      <td>2</td>\n",
       "      <td>married</td>\n",
       "      <td>43906</td>\n",
       "      <td>both</td>\n",
       "      <td>Northeast</td>\n",
       "      <td>High_Activity_Customer</td>\n",
       "      <td>Mid-Age Parents</td>\n",
       "      <td>Middle Income</td>\n",
       "      <td>0</td>\n",
       "    </tr>\n",
       "    <tr>\n",
       "      <th>61</th>\n",
       "      <td>1</td>\n",
       "      <td>Chocolate Sandwich Cookies</td>\n",
       "      <td>61</td>\n",
       "      <td>19</td>\n",
       "      <td>5</td>\n",
       "      <td>54412</td>\n",
       "      <td>5</td>\n",
       "      <td>1</td>\n",
       "      <td>196224</td>\n",
       "      <td>23</td>\n",
       "      <td>...</td>\n",
       "      <td>4/29/2018</td>\n",
       "      <td>2</td>\n",
       "      <td>married</td>\n",
       "      <td>43906</td>\n",
       "      <td>both</td>\n",
       "      <td>Northeast</td>\n",
       "      <td>High_Activity_Customer</td>\n",
       "      <td>Mid-Age Parents</td>\n",
       "      <td>Middle Income</td>\n",
       "      <td>0</td>\n",
       "    </tr>\n",
       "    <tr>\n",
       "      <th>62</th>\n",
       "      <td>1</td>\n",
       "      <td>Chocolate Sandwich Cookies</td>\n",
       "      <td>61</td>\n",
       "      <td>19</td>\n",
       "      <td>5</td>\n",
       "      <td>238541</td>\n",
       "      <td>1</td>\n",
       "      <td>1</td>\n",
       "      <td>196224</td>\n",
       "      <td>73</td>\n",
       "      <td>...</td>\n",
       "      <td>4/29/2018</td>\n",
       "      <td>2</td>\n",
       "      <td>married</td>\n",
       "      <td>43906</td>\n",
       "      <td>both</td>\n",
       "      <td>Northeast</td>\n",
       "      <td>High_Activity_Customer</td>\n",
       "      <td>Mid-Age Parents</td>\n",
       "      <td>Middle Income</td>\n",
       "      <td>0</td>\n",
       "    </tr>\n",
       "    <tr>\n",
       "      <th>63</th>\n",
       "      <td>1</td>\n",
       "      <td>Chocolate Sandwich Cookies</td>\n",
       "      <td>61</td>\n",
       "      <td>19</td>\n",
       "      <td>5</td>\n",
       "      <td>238782</td>\n",
       "      <td>1</td>\n",
       "      <td>1</td>\n",
       "      <td>196224</td>\n",
       "      <td>6</td>\n",
       "      <td>...</td>\n",
       "      <td>4/29/2018</td>\n",
       "      <td>2</td>\n",
       "      <td>married</td>\n",
       "      <td>43906</td>\n",
       "      <td>both</td>\n",
       "      <td>Northeast</td>\n",
       "      <td>High_Activity_Customer</td>\n",
       "      <td>Mid-Age Parents</td>\n",
       "      <td>Middle Income</td>\n",
       "      <td>0</td>\n",
       "    </tr>\n",
       "    <tr>\n",
       "      <th>64</th>\n",
       "      <td>1</td>\n",
       "      <td>Chocolate Sandwich Cookies</td>\n",
       "      <td>61</td>\n",
       "      <td>19</td>\n",
       "      <td>5</td>\n",
       "      <td>268206</td>\n",
       "      <td>6</td>\n",
       "      <td>1</td>\n",
       "      <td>196224</td>\n",
       "      <td>48</td>\n",
       "      <td>...</td>\n",
       "      <td>4/29/2018</td>\n",
       "      <td>2</td>\n",
       "      <td>married</td>\n",
       "      <td>43906</td>\n",
       "      <td>both</td>\n",
       "      <td>Northeast</td>\n",
       "      <td>High_Activity_Customer</td>\n",
       "      <td>Mid-Age Parents</td>\n",
       "      <td>Middle Income</td>\n",
       "      <td>0</td>\n",
       "    </tr>\n",
       "  </tbody>\n",
       "</table>\n",
       "<p>5 rows × 38 columns</p>\n",
       "</div>"
      ],
      "text/plain": [
       "    product_id                product_name  aisle_id  department_id  prices  \\\n",
       "60           1  Chocolate Sandwich Cookies        61             19       5   \n",
       "61           1  Chocolate Sandwich Cookies        61             19       5   \n",
       "62           1  Chocolate Sandwich Cookies        61             19       5   \n",
       "63           1  Chocolate Sandwich Cookies        61             19       5   \n",
       "64           1  Chocolate Sandwich Cookies        61             19       5   \n",
       "\n",
       "    order_id  add_to_cart_order  reordered  user_id  order_number  ...  \\\n",
       "60      5319                  3          1   196224            65  ...   \n",
       "61     54412                  5          1   196224            23  ...   \n",
       "62    238541                  1          1   196224            73  ...   \n",
       "63    238782                  1          1   196224             6  ...   \n",
       "64    268206                  6          1   196224            48  ...   \n",
       "\n",
       "    date_joined  No_of_dependants  Family_status Annual_income _merge  \\\n",
       "60    4/29/2018                 2        married         43906   both   \n",
       "61    4/29/2018                 2        married         43906   both   \n",
       "62    4/29/2018                 2        married         43906   both   \n",
       "63    4/29/2018                 2        married         43906   both   \n",
       "64    4/29/2018                 2        married         43906   both   \n",
       "\n",
       "       Region           Activity_Flag    Parent_Status   Income Level  \\\n",
       "60  Northeast  High_Activity_Customer  Mid-Age Parents  Middle Income   \n",
       "61  Northeast  High_Activity_Customer  Mid-Age Parents  Middle Income   \n",
       "62  Northeast  High_Activity_Customer  Mid-Age Parents  Middle Income   \n",
       "63  Northeast  High_Activity_Customer  Mid-Age Parents  Middle Income   \n",
       "64  Northeast  High_Activity_Customer  Mid-Age Parents  Middle Income   \n",
       "\n",
       "    Alcohol Order  \n",
       "60              0  \n",
       "61              0  \n",
       "62              0  \n",
       "63              0  \n",
       "64              0  \n",
       "\n",
       "[5 rows x 38 columns]"
      ]
     },
     "execution_count": 43,
     "metadata": {},
     "output_type": "execute_result"
    }
   ],
   "source": [
    "df_final_data.head()"
   ]
  },
  {
   "cell_type": "code",
   "execution_count": 44,
   "id": "025c812d",
   "metadata": {},
   "outputs": [
    {
     "data": {
      "text/plain": [
       "(24414877, 38)"
      ]
     },
     "execution_count": 44,
     "metadata": {},
     "output_type": "execute_result"
    }
   ],
   "source": [
    "df_final_data.shape"
   ]
  },
  {
   "cell_type": "markdown",
   "id": "5fbb8505",
   "metadata": {},
   "source": [
    "# Creating Alcohol Drinkers column"
   ]
  },
  {
   "cell_type": "code",
   "execution_count": 45,
   "id": "15d7b912",
   "metadata": {},
   "outputs": [],
   "source": [
    "# Grouping by user_id, sum by total num of orders in dept 5 per user_id (Alcohol Order Flag)\n",
    "\n",
    "df_group_Alcohol = df_final_data.groupby('user_id').agg({'Alcohol Order':'sum'})"
   ]
  },
  {
   "cell_type": "code",
   "execution_count": 46,
   "id": "3c082f62",
   "metadata": {},
   "outputs": [],
   "source": [
    "# Creating Alcohol Drinker column based on alcohol order flag\n",
    "\n",
    "df_group_Alcohol.loc[(df_group_Alcohol['Alcohol Order'] >= 1), 'Alcohol Drinker'] = \"Alcohol Drinker\""
   ]
  },
  {
   "cell_type": "code",
   "execution_count": 47,
   "id": "2599cee0",
   "metadata": {},
   "outputs": [],
   "source": [
    "df_group_Alcohol.loc[(df_group_Alcohol['Alcohol Order'] == 0), 'Alcohol Drinker'] = \"Not Alcohol Drinker\""
   ]
  },
  {
   "cell_type": "code",
   "execution_count": 48,
   "id": "5872f64a",
   "metadata": {},
   "outputs": [],
   "source": [
    "# Dropping Alcohol Order Flag column\n",
    "\n",
    "df_group_Alcohol = df_group_Alcohol.drop(columns = ['Alcohol Order'])"
   ]
  },
  {
   "cell_type": "code",
   "execution_count": 49,
   "id": "b7eecb15",
   "metadata": {},
   "outputs": [
    {
     "data": {
      "text/plain": [
       "(162631, 1)"
      ]
     },
     "execution_count": 49,
     "metadata": {},
     "output_type": "execute_result"
    }
   ],
   "source": [
    "df_group_Alcohol.shape"
   ]
  },
  {
   "cell_type": "code",
   "execution_count": 50,
   "id": "39a194ad",
   "metadata": {},
   "outputs": [
    {
     "data": {
      "text/plain": [
       "Not Alcohol Drinker    152643\n",
       "Alcohol Drinker          9988\n",
       "Name: Alcohol Drinker, dtype: int64"
      ]
     },
     "execution_count": 50,
     "metadata": {},
     "output_type": "execute_result"
    }
   ],
   "source": [
    "df_group_Alcohol['Alcohol Drinker'].value_counts(dropna = False)"
   ]
  },
  {
   "cell_type": "markdown",
   "id": "02951bce",
   "metadata": {},
   "source": [
    "# Merging original data set with alcohol drinkers data set"
   ]
  },
  {
   "cell_type": "code",
   "execution_count": 51,
   "id": "6610d6b5",
   "metadata": {},
   "outputs": [],
   "source": [
    "# Left join df_final_data (left) with df_group_Alcohol (right) to get \"Alcohol Drinker\" for each user_id\n",
    "df_final_data = df_final_data.merge(df_group_Alcohol, on='user_id', how='left')"
   ]
  },
  {
   "cell_type": "code",
   "execution_count": 52,
   "id": "f6d738f6",
   "metadata": {},
   "outputs": [
    {
     "data": {
      "text/plain": [
       "(24414877, 39)"
      ]
     },
     "execution_count": 52,
     "metadata": {},
     "output_type": "execute_result"
    }
   ],
   "source": [
    "df_final_data.shape"
   ]
  },
  {
   "cell_type": "code",
   "execution_count": 53,
   "id": "7660d595",
   "metadata": {},
   "outputs": [
    {
     "data": {
      "text/plain": [
       "Not Alcohol Drinker    22780060\n",
       "Alcohol Drinker         1634817\n",
       "Name: Alcohol Drinker, dtype: int64"
      ]
     },
     "execution_count": 53,
     "metadata": {},
     "output_type": "execute_result"
    }
   ],
   "source": [
    "df_final_data['Alcohol Drinker'].value_counts(dropna = False)"
   ]
  },
  {
   "cell_type": "code",
   "execution_count": 54,
   "id": "43ee9691",
   "metadata": {},
   "outputs": [
    {
     "data": {
      "text/html": [
       "<div>\n",
       "<style scoped>\n",
       "    .dataframe tbody tr th:only-of-type {\n",
       "        vertical-align: middle;\n",
       "    }\n",
       "\n",
       "    .dataframe tbody tr th {\n",
       "        vertical-align: top;\n",
       "    }\n",
       "\n",
       "    .dataframe thead th {\n",
       "        text-align: right;\n",
       "    }\n",
       "</style>\n",
       "<table border=\"1\" class=\"dataframe\">\n",
       "  <thead>\n",
       "    <tr style=\"text-align: right;\">\n",
       "      <th></th>\n",
       "      <th>product_id</th>\n",
       "      <th>product_name</th>\n",
       "      <th>aisle_id</th>\n",
       "      <th>department_id</th>\n",
       "      <th>prices</th>\n",
       "      <th>order_id</th>\n",
       "      <th>add_to_cart_order</th>\n",
       "      <th>reordered</th>\n",
       "      <th>user_id</th>\n",
       "      <th>order_number</th>\n",
       "      <th>...</th>\n",
       "      <th>No_of_dependants</th>\n",
       "      <th>Family_status</th>\n",
       "      <th>Annual_income</th>\n",
       "      <th>_merge</th>\n",
       "      <th>Region</th>\n",
       "      <th>Activity_Flag</th>\n",
       "      <th>Parent_Status</th>\n",
       "      <th>Income Level</th>\n",
       "      <th>Alcohol Order</th>\n",
       "      <th>Alcohol Drinker</th>\n",
       "    </tr>\n",
       "  </thead>\n",
       "  <tbody>\n",
       "    <tr>\n",
       "      <th>0</th>\n",
       "      <td>1</td>\n",
       "      <td>Chocolate Sandwich Cookies</td>\n",
       "      <td>61</td>\n",
       "      <td>19</td>\n",
       "      <td>5</td>\n",
       "      <td>5319</td>\n",
       "      <td>3</td>\n",
       "      <td>1</td>\n",
       "      <td>196224</td>\n",
       "      <td>65</td>\n",
       "      <td>...</td>\n",
       "      <td>2</td>\n",
       "      <td>married</td>\n",
       "      <td>43906</td>\n",
       "      <td>both</td>\n",
       "      <td>Northeast</td>\n",
       "      <td>High_Activity_Customer</td>\n",
       "      <td>Mid-Age Parents</td>\n",
       "      <td>Middle Income</td>\n",
       "      <td>0</td>\n",
       "      <td>Not Alcohol Drinker</td>\n",
       "    </tr>\n",
       "    <tr>\n",
       "      <th>1</th>\n",
       "      <td>1</td>\n",
       "      <td>Chocolate Sandwich Cookies</td>\n",
       "      <td>61</td>\n",
       "      <td>19</td>\n",
       "      <td>5</td>\n",
       "      <td>54412</td>\n",
       "      <td>5</td>\n",
       "      <td>1</td>\n",
       "      <td>196224</td>\n",
       "      <td>23</td>\n",
       "      <td>...</td>\n",
       "      <td>2</td>\n",
       "      <td>married</td>\n",
       "      <td>43906</td>\n",
       "      <td>both</td>\n",
       "      <td>Northeast</td>\n",
       "      <td>High_Activity_Customer</td>\n",
       "      <td>Mid-Age Parents</td>\n",
       "      <td>Middle Income</td>\n",
       "      <td>0</td>\n",
       "      <td>Not Alcohol Drinker</td>\n",
       "    </tr>\n",
       "    <tr>\n",
       "      <th>2</th>\n",
       "      <td>1</td>\n",
       "      <td>Chocolate Sandwich Cookies</td>\n",
       "      <td>61</td>\n",
       "      <td>19</td>\n",
       "      <td>5</td>\n",
       "      <td>238541</td>\n",
       "      <td>1</td>\n",
       "      <td>1</td>\n",
       "      <td>196224</td>\n",
       "      <td>73</td>\n",
       "      <td>...</td>\n",
       "      <td>2</td>\n",
       "      <td>married</td>\n",
       "      <td>43906</td>\n",
       "      <td>both</td>\n",
       "      <td>Northeast</td>\n",
       "      <td>High_Activity_Customer</td>\n",
       "      <td>Mid-Age Parents</td>\n",
       "      <td>Middle Income</td>\n",
       "      <td>0</td>\n",
       "      <td>Not Alcohol Drinker</td>\n",
       "    </tr>\n",
       "    <tr>\n",
       "      <th>3</th>\n",
       "      <td>1</td>\n",
       "      <td>Chocolate Sandwich Cookies</td>\n",
       "      <td>61</td>\n",
       "      <td>19</td>\n",
       "      <td>5</td>\n",
       "      <td>238782</td>\n",
       "      <td>1</td>\n",
       "      <td>1</td>\n",
       "      <td>196224</td>\n",
       "      <td>6</td>\n",
       "      <td>...</td>\n",
       "      <td>2</td>\n",
       "      <td>married</td>\n",
       "      <td>43906</td>\n",
       "      <td>both</td>\n",
       "      <td>Northeast</td>\n",
       "      <td>High_Activity_Customer</td>\n",
       "      <td>Mid-Age Parents</td>\n",
       "      <td>Middle Income</td>\n",
       "      <td>0</td>\n",
       "      <td>Not Alcohol Drinker</td>\n",
       "    </tr>\n",
       "    <tr>\n",
       "      <th>4</th>\n",
       "      <td>1</td>\n",
       "      <td>Chocolate Sandwich Cookies</td>\n",
       "      <td>61</td>\n",
       "      <td>19</td>\n",
       "      <td>5</td>\n",
       "      <td>268206</td>\n",
       "      <td>6</td>\n",
       "      <td>1</td>\n",
       "      <td>196224</td>\n",
       "      <td>48</td>\n",
       "      <td>...</td>\n",
       "      <td>2</td>\n",
       "      <td>married</td>\n",
       "      <td>43906</td>\n",
       "      <td>both</td>\n",
       "      <td>Northeast</td>\n",
       "      <td>High_Activity_Customer</td>\n",
       "      <td>Mid-Age Parents</td>\n",
       "      <td>Middle Income</td>\n",
       "      <td>0</td>\n",
       "      <td>Not Alcohol Drinker</td>\n",
       "    </tr>\n",
       "  </tbody>\n",
       "</table>\n",
       "<p>5 rows × 39 columns</p>\n",
       "</div>"
      ],
      "text/plain": [
       "   product_id                product_name  aisle_id  department_id  prices  \\\n",
       "0           1  Chocolate Sandwich Cookies        61             19       5   \n",
       "1           1  Chocolate Sandwich Cookies        61             19       5   \n",
       "2           1  Chocolate Sandwich Cookies        61             19       5   \n",
       "3           1  Chocolate Sandwich Cookies        61             19       5   \n",
       "4           1  Chocolate Sandwich Cookies        61             19       5   \n",
       "\n",
       "   order_id  add_to_cart_order  reordered  user_id  order_number  ...  \\\n",
       "0      5319                  3          1   196224            65  ...   \n",
       "1     54412                  5          1   196224            23  ...   \n",
       "2    238541                  1          1   196224            73  ...   \n",
       "3    238782                  1          1   196224             6  ...   \n",
       "4    268206                  6          1   196224            48  ...   \n",
       "\n",
       "   No_of_dependants  Family_status  Annual_income _merge     Region  \\\n",
       "0                 2        married          43906   both  Northeast   \n",
       "1                 2        married          43906   both  Northeast   \n",
       "2                 2        married          43906   both  Northeast   \n",
       "3                 2        married          43906   both  Northeast   \n",
       "4                 2        married          43906   both  Northeast   \n",
       "\n",
       "            Activity_Flag    Parent_Status   Income Level Alcohol Order  \\\n",
       "0  High_Activity_Customer  Mid-Age Parents  Middle Income             0   \n",
       "1  High_Activity_Customer  Mid-Age Parents  Middle Income             0   \n",
       "2  High_Activity_Customer  Mid-Age Parents  Middle Income             0   \n",
       "3  High_Activity_Customer  Mid-Age Parents  Middle Income             0   \n",
       "4  High_Activity_Customer  Mid-Age Parents  Middle Income             0   \n",
       "\n",
       "       Alcohol Drinker  \n",
       "0  Not Alcohol Drinker  \n",
       "1  Not Alcohol Drinker  \n",
       "2  Not Alcohol Drinker  \n",
       "3  Not Alcohol Drinker  \n",
       "4  Not Alcohol Drinker  \n",
       "\n",
       "[5 rows x 39 columns]"
      ]
     },
     "execution_count": 54,
     "metadata": {},
     "output_type": "execute_result"
    }
   ],
   "source": [
    "df_final_data.head()"
   ]
  },
  {
   "cell_type": "code",
   "execution_count": 55,
   "id": "4e764bd4",
   "metadata": {},
   "outputs": [
    {
     "name": "stdout",
     "output_type": "stream",
     "text": [
      "<class 'pandas.core.frame.DataFrame'>\n",
      "Int64Index: 24414877 entries, 0 to 24414876\n",
      "Data columns (total 39 columns):\n",
      " #   Column                  Dtype   \n",
      "---  ------                  -----   \n",
      " 0   product_id              int64   \n",
      " 1   product_name            object  \n",
      " 2   aisle_id                int16   \n",
      " 3   department_id           int64   \n",
      " 4   prices                  int32   \n",
      " 5   order_id                int64   \n",
      " 6   add_to_cart_order       int8    \n",
      " 7   reordered               int8    \n",
      " 8   user_id                 int64   \n",
      " 9   order_number            int8    \n",
      " 10  orders_day_of_week      int8    \n",
      " 11  order_hour_of_day       int8    \n",
      " 12  days_since_prior_order  int16   \n",
      " 13  price_range_loc         category\n",
      " 14  Busiest_Day             category\n",
      " 15  Busiest_Days            category\n",
      " 16  busiest_period_of_day   object  \n",
      " 17  max_order               int8    \n",
      " 18  loyalty_flag            object  \n",
      " 19  Spending                float16 \n",
      " 20  Spending_Flag           object  \n",
      " 21  Frequency               uint16  \n",
      " 22  Order_Frequency_Flag    object  \n",
      " 23  First_Name              object  \n",
      " 24  Surname                 category\n",
      " 25  Gender                  category\n",
      " 26  STATE                   category\n",
      " 27  Age                     int8    \n",
      " 28  date_joined             object  \n",
      " 29  No_of_dependants        int8    \n",
      " 30  Family_status           category\n",
      " 31  Annual_income           int64   \n",
      " 32  _merge                  category\n",
      " 33  Region                  object  \n",
      " 34  Activity_Flag           object  \n",
      " 35  Parent_Status           object  \n",
      " 36  Income Level            object  \n",
      " 37  Alcohol Order           int8    \n",
      " 38  Alcohol Drinker         object  \n",
      "dtypes: category(8), float16(1), int16(2), int32(1), int64(5), int8(9), object(12), uint16(1)\n",
      "memory usage: 4.0+ GB\n"
     ]
    }
   ],
   "source": [
    "df_final_data.info()"
   ]
  },
  {
   "cell_type": "code",
   "execution_count": 56,
   "id": "9bba8afc",
   "metadata": {},
   "outputs": [],
   "source": [
    "df_final_data['Region'] = df_final_data['Region'].astype('category')"
   ]
  },
  {
   "cell_type": "code",
   "execution_count": 57,
   "id": "1c3c481d",
   "metadata": {},
   "outputs": [],
   "source": [
    "df_final_data['Activity_Flag'] = df_final_data['Activity_Flag'].astype('category')"
   ]
  },
  {
   "cell_type": "code",
   "execution_count": 58,
   "id": "f079add0",
   "metadata": {},
   "outputs": [],
   "source": [
    "df_final_data['Parent_Status'] = df_final_data['Parent_Status'].astype('category')"
   ]
  },
  {
   "cell_type": "code",
   "execution_count": 59,
   "id": "a643ea29",
   "metadata": {},
   "outputs": [],
   "source": [
    "df_final_data['Income Level'] = df_final_data['Income Level'].astype('category')"
   ]
  },
  {
   "cell_type": "code",
   "execution_count": 60,
   "id": "609dfe9a",
   "metadata": {},
   "outputs": [],
   "source": [
    "df_final_data['Alcohol Drinker'] = df_final_data['Alcohol Drinker'].astype('category')"
   ]
  },
  {
   "cell_type": "code",
   "execution_count": 61,
   "id": "193b88e7",
   "metadata": {},
   "outputs": [],
   "source": [
    "df_final_data = df_final_data.drop(columns =['Alcohol Order'])"
   ]
  },
  {
   "cell_type": "code",
   "execution_count": 62,
   "id": "c12aaa2e",
   "metadata": {},
   "outputs": [],
   "source": [
    "df_final_data = df_final_data.drop(columns =['_merge'])"
   ]
  },
  {
   "cell_type": "markdown",
   "id": "4edacbed",
   "metadata": {},
   "source": [
    "# 09. Create breakfast profile"
   ]
  },
  {
   "cell_type": "code",
   "execution_count": 63,
   "id": "39f85db1",
   "metadata": {},
   "outputs": [],
   "source": [
    "# First create breakfast order flag depends on department id 14\n",
    "df_final_data.loc[(df_final_data['department_id'] == 14), 'Breakfast Order Flag'] = 1"
   ]
  },
  {
   "cell_type": "code",
   "execution_count": 64,
   "id": "ac2bba85",
   "metadata": {},
   "outputs": [],
   "source": [
    "# If no order for breakfast\n",
    "df_final_data.loc[(df_final_data['department_id'] != 14), 'Breakfast Order Flag'] = 0"
   ]
  },
  {
   "cell_type": "code",
   "execution_count": 67,
   "id": "1dc6d92c",
   "metadata": {
    "scrolled": true
   },
   "outputs": [
    {
     "data": {
      "text/plain": [
       "0    23889932\n",
       "1      524945\n",
       "Name: Breakfast Order Flag, dtype: int64"
      ]
     },
     "execution_count": 67,
     "metadata": {},
     "output_type": "execute_result"
    }
   ],
   "source": [
    "# Checking the values for new column#\n",
    "df_final_data['Breakfast Order Flag'].value_counts(dropna = False)"
   ]
  },
  {
   "cell_type": "markdown",
   "id": "39b64fa1",
   "metadata": {},
   "source": [
    "# Creating Breakfast buyer column"
   ]
  },
  {
   "cell_type": "code",
   "execution_count": 68,
   "id": "3bfa608a",
   "metadata": {},
   "outputs": [],
   "source": [
    "# Group by user_id, sum by total num of orders in breakfast dept per user_id (Breakfast Order Flag)\n",
    "df_group_breakfast = df_final_data.groupby('user_id').agg({'Breakfast Order Flag':'sum'})"
   ]
  },
  {
   "cell_type": "code",
   "execution_count": 69,
   "id": "61c85901",
   "metadata": {},
   "outputs": [],
   "source": [
    "# Creating Breakfast buyer column based on breakfast Order Flag\n",
    "df_group_breakfast.loc[(df_group_breakfast['Breakfast Order Flag'] >= 1), 'Breakfast Buyer'] = \"Breakfast Buyer\""
   ]
  },
  {
   "cell_type": "code",
   "execution_count": 70,
   "id": "9c08720f",
   "metadata": {},
   "outputs": [],
   "source": [
    "df_group_breakfast.loc[(df_group_breakfast['Breakfast Order Flag'] == 0), 'Breakfast Buyer'] = \"Not Breakfast Buyer\""
   ]
  },
  {
   "cell_type": "code",
   "execution_count": 71,
   "id": "26531241",
   "metadata": {},
   "outputs": [
    {
     "data": {
      "text/plain": [
       "(162631, 2)"
      ]
     },
     "execution_count": 71,
     "metadata": {},
     "output_type": "execute_result"
    }
   ],
   "source": [
    "df_group_breakfast.shape"
   ]
  },
  {
   "cell_type": "code",
   "execution_count": 72,
   "id": "43923a15",
   "metadata": {},
   "outputs": [
    {
     "data": {
      "text/html": [
       "<div>\n",
       "<style scoped>\n",
       "    .dataframe tbody tr th:only-of-type {\n",
       "        vertical-align: middle;\n",
       "    }\n",
       "\n",
       "    .dataframe tbody tr th {\n",
       "        vertical-align: top;\n",
       "    }\n",
       "\n",
       "    .dataframe thead th {\n",
       "        text-align: right;\n",
       "    }\n",
       "</style>\n",
       "<table border=\"1\" class=\"dataframe\">\n",
       "  <thead>\n",
       "    <tr style=\"text-align: right;\">\n",
       "      <th></th>\n",
       "      <th>Breakfast Order Flag</th>\n",
       "      <th>Breakfast Buyer</th>\n",
       "    </tr>\n",
       "    <tr>\n",
       "      <th>user_id</th>\n",
       "      <th></th>\n",
       "      <th></th>\n",
       "    </tr>\n",
       "  </thead>\n",
       "  <tbody>\n",
       "    <tr>\n",
       "      <th>1</th>\n",
       "      <td>2.0</td>\n",
       "      <td>Breakfast Buyer</td>\n",
       "    </tr>\n",
       "    <tr>\n",
       "      <th>2</th>\n",
       "      <td>3.0</td>\n",
       "      <td>Breakfast Buyer</td>\n",
       "    </tr>\n",
       "    <tr>\n",
       "      <th>3</th>\n",
       "      <td>0.0</td>\n",
       "      <td>Not Breakfast Buyer</td>\n",
       "    </tr>\n",
       "    <tr>\n",
       "      <th>4</th>\n",
       "      <td>0.0</td>\n",
       "      <td>Not Breakfast Buyer</td>\n",
       "    </tr>\n",
       "    <tr>\n",
       "      <th>7</th>\n",
       "      <td>0.0</td>\n",
       "      <td>Not Breakfast Buyer</td>\n",
       "    </tr>\n",
       "  </tbody>\n",
       "</table>\n",
       "</div>"
      ],
      "text/plain": [
       "         Breakfast Order Flag      Breakfast Buyer\n",
       "user_id                                           \n",
       "1                         2.0      Breakfast Buyer\n",
       "2                         3.0      Breakfast Buyer\n",
       "3                         0.0  Not Breakfast Buyer\n",
       "4                         0.0  Not Breakfast Buyer\n",
       "7                         0.0  Not Breakfast Buyer"
      ]
     },
     "execution_count": 72,
     "metadata": {},
     "output_type": "execute_result"
    }
   ],
   "source": [
    "df_group_breakfast.head()"
   ]
  },
  {
   "cell_type": "markdown",
   "id": "b36c7123",
   "metadata": {},
   "source": [
    "# Merging original data set with breakfast data set"
   ]
  },
  {
   "cell_type": "code",
   "execution_count": 73,
   "id": "f6823436",
   "metadata": {},
   "outputs": [],
   "source": [
    "# Left join df_final_data (left) with df_group_breakfast (right) to get \"Breakfast Buyer\" for each user_id\n",
    "df_final_data = df_final_data.merge(df_group_breakfast, on='user_id', how='left')"
   ]
  },
  {
   "cell_type": "code",
   "execution_count": 74,
   "id": "72c61a6f",
   "metadata": {},
   "outputs": [
    {
     "data": {
      "text/plain": [
       "(24414877, 40)"
      ]
     },
     "execution_count": 74,
     "metadata": {},
     "output_type": "execute_result"
    }
   ],
   "source": [
    "df_final_data.shape"
   ]
  },
  {
   "cell_type": "code",
   "execution_count": 78,
   "id": "13a570c9",
   "metadata": {},
   "outputs": [
    {
     "data": {
      "text/html": [
       "<div>\n",
       "<style scoped>\n",
       "    .dataframe tbody tr th:only-of-type {\n",
       "        vertical-align: middle;\n",
       "    }\n",
       "\n",
       "    .dataframe tbody tr th {\n",
       "        vertical-align: top;\n",
       "    }\n",
       "\n",
       "    .dataframe thead th {\n",
       "        text-align: right;\n",
       "    }\n",
       "</style>\n",
       "<table border=\"1\" class=\"dataframe\">\n",
       "  <thead>\n",
       "    <tr style=\"text-align: right;\">\n",
       "      <th></th>\n",
       "      <th>product_id</th>\n",
       "      <th>product_name</th>\n",
       "      <th>aisle_id</th>\n",
       "      <th>department_id</th>\n",
       "      <th>prices</th>\n",
       "      <th>order_id</th>\n",
       "      <th>add_to_cart_order</th>\n",
       "      <th>reordered</th>\n",
       "      <th>user_id</th>\n",
       "      <th>order_number</th>\n",
       "      <th>...</th>\n",
       "      <th>Family_status</th>\n",
       "      <th>Annual_income</th>\n",
       "      <th>Region</th>\n",
       "      <th>Activity_Flag</th>\n",
       "      <th>Parent_Status</th>\n",
       "      <th>Income Level</th>\n",
       "      <th>Alcohol Drinker</th>\n",
       "      <th>Breakfast Order Flag_x</th>\n",
       "      <th>Breakfast Order Flag_y</th>\n",
       "      <th>Breakfast Buyer</th>\n",
       "    </tr>\n",
       "  </thead>\n",
       "  <tbody>\n",
       "    <tr>\n",
       "      <th>0</th>\n",
       "      <td>1</td>\n",
       "      <td>Chocolate Sandwich Cookies</td>\n",
       "      <td>61</td>\n",
       "      <td>19</td>\n",
       "      <td>5</td>\n",
       "      <td>5319</td>\n",
       "      <td>3</td>\n",
       "      <td>1</td>\n",
       "      <td>196224</td>\n",
       "      <td>65</td>\n",
       "      <td>...</td>\n",
       "      <td>married</td>\n",
       "      <td>43906</td>\n",
       "      <td>Northeast</td>\n",
       "      <td>High_Activity_Customer</td>\n",
       "      <td>Mid-Age Parents</td>\n",
       "      <td>Middle Income</td>\n",
       "      <td>Not Alcohol Drinker</td>\n",
       "      <td>0</td>\n",
       "      <td>0.0</td>\n",
       "      <td>Not Breakfast Buyer</td>\n",
       "    </tr>\n",
       "    <tr>\n",
       "      <th>1</th>\n",
       "      <td>1</td>\n",
       "      <td>Chocolate Sandwich Cookies</td>\n",
       "      <td>61</td>\n",
       "      <td>19</td>\n",
       "      <td>5</td>\n",
       "      <td>54412</td>\n",
       "      <td>5</td>\n",
       "      <td>1</td>\n",
       "      <td>196224</td>\n",
       "      <td>23</td>\n",
       "      <td>...</td>\n",
       "      <td>married</td>\n",
       "      <td>43906</td>\n",
       "      <td>Northeast</td>\n",
       "      <td>High_Activity_Customer</td>\n",
       "      <td>Mid-Age Parents</td>\n",
       "      <td>Middle Income</td>\n",
       "      <td>Not Alcohol Drinker</td>\n",
       "      <td>0</td>\n",
       "      <td>0.0</td>\n",
       "      <td>Not Breakfast Buyer</td>\n",
       "    </tr>\n",
       "    <tr>\n",
       "      <th>2</th>\n",
       "      <td>1</td>\n",
       "      <td>Chocolate Sandwich Cookies</td>\n",
       "      <td>61</td>\n",
       "      <td>19</td>\n",
       "      <td>5</td>\n",
       "      <td>238541</td>\n",
       "      <td>1</td>\n",
       "      <td>1</td>\n",
       "      <td>196224</td>\n",
       "      <td>73</td>\n",
       "      <td>...</td>\n",
       "      <td>married</td>\n",
       "      <td>43906</td>\n",
       "      <td>Northeast</td>\n",
       "      <td>High_Activity_Customer</td>\n",
       "      <td>Mid-Age Parents</td>\n",
       "      <td>Middle Income</td>\n",
       "      <td>Not Alcohol Drinker</td>\n",
       "      <td>0</td>\n",
       "      <td>0.0</td>\n",
       "      <td>Not Breakfast Buyer</td>\n",
       "    </tr>\n",
       "    <tr>\n",
       "      <th>3</th>\n",
       "      <td>1</td>\n",
       "      <td>Chocolate Sandwich Cookies</td>\n",
       "      <td>61</td>\n",
       "      <td>19</td>\n",
       "      <td>5</td>\n",
       "      <td>238782</td>\n",
       "      <td>1</td>\n",
       "      <td>1</td>\n",
       "      <td>196224</td>\n",
       "      <td>6</td>\n",
       "      <td>...</td>\n",
       "      <td>married</td>\n",
       "      <td>43906</td>\n",
       "      <td>Northeast</td>\n",
       "      <td>High_Activity_Customer</td>\n",
       "      <td>Mid-Age Parents</td>\n",
       "      <td>Middle Income</td>\n",
       "      <td>Not Alcohol Drinker</td>\n",
       "      <td>0</td>\n",
       "      <td>0.0</td>\n",
       "      <td>Not Breakfast Buyer</td>\n",
       "    </tr>\n",
       "    <tr>\n",
       "      <th>4</th>\n",
       "      <td>1</td>\n",
       "      <td>Chocolate Sandwich Cookies</td>\n",
       "      <td>61</td>\n",
       "      <td>19</td>\n",
       "      <td>5</td>\n",
       "      <td>268206</td>\n",
       "      <td>6</td>\n",
       "      <td>1</td>\n",
       "      <td>196224</td>\n",
       "      <td>48</td>\n",
       "      <td>...</td>\n",
       "      <td>married</td>\n",
       "      <td>43906</td>\n",
       "      <td>Northeast</td>\n",
       "      <td>High_Activity_Customer</td>\n",
       "      <td>Mid-Age Parents</td>\n",
       "      <td>Middle Income</td>\n",
       "      <td>Not Alcohol Drinker</td>\n",
       "      <td>0</td>\n",
       "      <td>0.0</td>\n",
       "      <td>Not Breakfast Buyer</td>\n",
       "    </tr>\n",
       "  </tbody>\n",
       "</table>\n",
       "<p>5 rows × 40 columns</p>\n",
       "</div>"
      ],
      "text/plain": [
       "   product_id                product_name  aisle_id  department_id  prices  \\\n",
       "0           1  Chocolate Sandwich Cookies        61             19       5   \n",
       "1           1  Chocolate Sandwich Cookies        61             19       5   \n",
       "2           1  Chocolate Sandwich Cookies        61             19       5   \n",
       "3           1  Chocolate Sandwich Cookies        61             19       5   \n",
       "4           1  Chocolate Sandwich Cookies        61             19       5   \n",
       "\n",
       "   order_id  add_to_cart_order  reordered  user_id  order_number  ...  \\\n",
       "0      5319                  3          1   196224            65  ...   \n",
       "1     54412                  5          1   196224            23  ...   \n",
       "2    238541                  1          1   196224            73  ...   \n",
       "3    238782                  1          1   196224             6  ...   \n",
       "4    268206                  6          1   196224            48  ...   \n",
       "\n",
       "   Family_status  Annual_income     Region           Activity_Flag  \\\n",
       "0        married          43906  Northeast  High_Activity_Customer   \n",
       "1        married          43906  Northeast  High_Activity_Customer   \n",
       "2        married          43906  Northeast  High_Activity_Customer   \n",
       "3        married          43906  Northeast  High_Activity_Customer   \n",
       "4        married          43906  Northeast  High_Activity_Customer   \n",
       "\n",
       "     Parent_Status   Income Level      Alcohol Drinker  \\\n",
       "0  Mid-Age Parents  Middle Income  Not Alcohol Drinker   \n",
       "1  Mid-Age Parents  Middle Income  Not Alcohol Drinker   \n",
       "2  Mid-Age Parents  Middle Income  Not Alcohol Drinker   \n",
       "3  Mid-Age Parents  Middle Income  Not Alcohol Drinker   \n",
       "4  Mid-Age Parents  Middle Income  Not Alcohol Drinker   \n",
       "\n",
       "   Breakfast Order Flag_x Breakfast Order Flag_y      Breakfast Buyer  \n",
       "0                       0                    0.0  Not Breakfast Buyer  \n",
       "1                       0                    0.0  Not Breakfast Buyer  \n",
       "2                       0                    0.0  Not Breakfast Buyer  \n",
       "3                       0                    0.0  Not Breakfast Buyer  \n",
       "4                       0                    0.0  Not Breakfast Buyer  \n",
       "\n",
       "[5 rows x 40 columns]"
      ]
     },
     "execution_count": 78,
     "metadata": {},
     "output_type": "execute_result"
    }
   ],
   "source": [
    "df_final_data.head()"
   ]
  },
  {
   "cell_type": "code",
   "execution_count": 79,
   "id": "7e090715",
   "metadata": {},
   "outputs": [],
   "source": [
    "# Dropping _merge and Breakfast Order Flag \n",
    "df_final_data = df_final_data.drop(columns = ['Breakfast Order Flag_x','Breakfast Order Flag_y'])"
   ]
  },
  {
   "cell_type": "code",
   "execution_count": 80,
   "id": "3adf94bb",
   "metadata": {},
   "outputs": [
    {
     "data": {
      "text/plain": [
       "Breakfast Buyer        18879232\n",
       "Not Breakfast Buyer     5535645\n",
       "Name: Breakfast Buyer, dtype: int64"
      ]
     },
     "execution_count": 80,
     "metadata": {},
     "output_type": "execute_result"
    }
   ],
   "source": [
    "# Checking the count of new column\n",
    "df_final_data['Breakfast Buyer'].value_counts(dropna = False)"
   ]
  },
  {
   "cell_type": "code",
   "execution_count": 81,
   "id": "0203fd33",
   "metadata": {},
   "outputs": [
    {
     "data": {
      "text/plain": [
       "(24414877, 38)"
      ]
     },
     "execution_count": 81,
     "metadata": {},
     "output_type": "execute_result"
    }
   ],
   "source": [
    "df_final_data.shape"
   ]
  },
  {
   "cell_type": "markdown",
   "id": "a622dac5",
   "metadata": {},
   "source": [
    "# 10. Visualization of Profiles distribution"
   ]
  },
  {
   "cell_type": "code",
   "execution_count": 104,
   "id": "290b3988",
   "metadata": {
    "scrolled": true
   },
   "outputs": [
    {
     "data": {
      "text/plain": [
       "<AxesSubplot:title={'center':'Parent Status'}>"
      ]
     },
     "execution_count": 104,
     "metadata": {},
     "output_type": "execute_result"
    },
    {
     "data": {
      "image/png": "[encoded data removed]",
      "text/plain": [
       "<Figure size 432x288 with 1 Axes>"
      ]
     },
     "metadata": {
      "needs_background": "light"
     },
     "output_type": "display_data"
    }
   ],
   "source": [
    "# Creating bar plot for parent status\n",
    "df_final_data['Parent_Status'].value_counts().plot.bar(title = 'Parent Status')"
   ]
  },
  {
   "cell_type": "code",
   "execution_count": 107,
   "id": "3d650a19",
   "metadata": {},
   "outputs": [
    {
     "data": {
      "image/png": "[encoded data removed]",
      "text/plain": [
       "<Figure size 432x288 with 1 Axes>"
      ]
     },
     "metadata": {
      "needs_background": "light"
     },
     "output_type": "display_data"
    }
   ],
   "source": [
    "# Saving bar plot \n",
    "bar_Parent_Status = df_final_data['Parent_Status'].value_counts().plot.bar(title = 'Parent Status')"
   ]
  },
  {
   "cell_type": "code",
   "execution_count": 108,
   "id": "efabd34b",
   "metadata": {},
   "outputs": [],
   "source": [
    "# Exporting bar plot in image format\n",
    "bar_Parent_Status.figure.savefig(os.path.join(path, 'Analysis','Visualization', 'bar_parent_status.png'))"
   ]
  },
  {
   "cell_type": "code",
   "execution_count": 103,
   "id": "19128832",
   "metadata": {},
   "outputs": [
    {
     "data": {
      "text/plain": [
       "<AxesSubplot:title={'center':'Income Level'}>"
      ]
     },
     "execution_count": 103,
     "metadata": {},
     "output_type": "execute_result"
    },
    {
     "data": {
      "image/png": "[encoded data removed]",
      "text/plain": [
       "<Figure size 432x288 with 1 Axes>"
      ]
     },
     "metadata": {
      "needs_background": "light"
     },
     "output_type": "display_data"
    }
   ],
   "source": [
    "# Creating box plot for income profile\n",
    "df_final_data['Income Level'].value_counts().plot.bar(color ='purple', title = 'Income Level')"
   ]
  },
  {
   "cell_type": "code",
   "execution_count": 111,
   "id": "4902d324",
   "metadata": {
    "scrolled": true
   },
   "outputs": [
    {
     "data": {
      "image/png": "[encoded data removed]",
      "text/plain": [
       "<Figure size 432x288 with 1 Axes>"
      ]
     },
     "metadata": {
      "needs_background": "light"
     },
     "output_type": "display_data"
    }
   ],
   "source": [
    "# Saving bar plot \n",
    "bar_Income_Level = df_final_data['Income Level'].value_counts().plot.bar(color ='purple', title = 'Income Level')"
   ]
  },
  {
   "cell_type": "code",
   "execution_count": 112,
   "id": "2e768459",
   "metadata": {},
   "outputs": [],
   "source": [
    "# Exporting bar plot in image format\n",
    "bar_Income_Level.figure.savefig(os.path.join(path, 'Analysis','Visualization', 'bar_Income_Level.png'))"
   ]
  },
  {
   "cell_type": "code",
   "execution_count": 115,
   "id": "c857df9e",
   "metadata": {},
   "outputs": [
    {
     "data": {
      "text/plain": [
       "<AxesSubplot:title={'center':'Alcohol Drinker'}>"
      ]
     },
     "execution_count": 115,
     "metadata": {},
     "output_type": "execute_result"
    },
    {
     "data": {
      "image/png": "[encoded data removed]",
      "text/plain": [
       "<Figure size 432x288 with 1 Axes>"
      ]
     },
     "metadata": {
      "needs_background": "light"
     },
     "output_type": "display_data"
    }
   ],
   "source": [
    "# Creating bar plot for alcohol drinkers profile\n",
    "df_final_data['Alcohol Drinker'].value_counts().plot.bar(color ='orange', title = 'Alcohol Drinker')"
   ]
  },
  {
   "cell_type": "code",
   "execution_count": 116,
   "id": "c7cc26ac",
   "metadata": {},
   "outputs": [
    {
     "data": {
      "image/png": "[encoded data removed]",
      "text/plain": [
       "<Figure size 432x288 with 1 Axes>"
      ]
     },
     "metadata": {
      "needs_background": "light"
     },
     "output_type": "display_data"
    }
   ],
   "source": [
    "# Saving bar plot \n",
    "bar_Alcohol_Drinker = df_final_data['Alcohol Drinker'].value_counts().plot.bar(color ='orange', title = 'Alcohol Drinker')"
   ]
  },
  {
   "cell_type": "code",
   "execution_count": 117,
   "id": "9cf809cf",
   "metadata": {},
   "outputs": [],
   "source": [
    "# Exporting bar plot in image format\n",
    "bar_Alcohol_Drinker.figure.savefig(os.path.join(path, 'Analysis','Visualization', 'bar_Alcohol_Drinker.png'))"
   ]
  },
  {
   "cell_type": "code",
   "execution_count": 118,
   "id": "7e6536be",
   "metadata": {},
   "outputs": [
    {
     "data": {
      "text/plain": [
       "<AxesSubplot:title={'center':'Breakfast Buyer'}>"
      ]
     },
     "execution_count": 118,
     "metadata": {},
     "output_type": "execute_result"
    },
    {
     "data": {
      "image/png": "[encoded data removed]",
      "text/plain": [
       "<Figure size 432x288 with 1 Axes>"
      ]
     },
     "metadata": {
      "needs_background": "light"
     },
     "output_type": "display_data"
    }
   ],
   "source": [
    "# Creating Visualization of breakfast buyers\n",
    "df_final_data['Breakfast Buyer'].value_counts().plot.bar(color ='green', title = 'Breakfast Buyer')"
   ]
  },
  {
   "cell_type": "code",
   "execution_count": 119,
   "id": "71b11da4",
   "metadata": {},
   "outputs": [
    {
     "data": {
      "image/png": "[encoded data removed]",
      "text/plain": [
       "<Figure size 432x288 with 1 Axes>"
      ]
     },
     "metadata": {
      "needs_background": "light"
     },
     "output_type": "display_data"
    }
   ],
   "source": [
    "# Saving bar plot \n",
    "bar_Breakfast_Buyer = df_final_data['Breakfast Buyer'].value_counts().plot.bar(color ='green', title = 'Breakfast Buyer')"
   ]
  },
  {
   "cell_type": "code",
   "execution_count": 120,
   "id": "cd7e8e8c",
   "metadata": {},
   "outputs": [],
   "source": [
    "# Exporting bar plot in image format\n",
    "bar_Breakfast_Buyer.figure.savefig(os.path.join(path, 'Analysis','Visualization', 'bar_Breakfast_Buyer.png'))"
   ]
  },
  {
   "cell_type": "markdown",
   "id": "4d7203d5",
   "metadata": {},
   "source": [
    "# 11. Aggregate the max, mean, and min variables on a customer-profile level"
   ]
  },
  {
   "cell_type": "code",
   "execution_count": 121,
   "id": "ffd13272",
   "metadata": {},
   "outputs": [
    {
     "data": {
      "text/html": [
       "<div>\n",
       "<style scoped>\n",
       "    .dataframe tbody tr th:only-of-type {\n",
       "        vertical-align: middle;\n",
       "    }\n",
       "\n",
       "    .dataframe tbody tr th {\n",
       "        vertical-align: top;\n",
       "    }\n",
       "\n",
       "    .dataframe thead tr th {\n",
       "        text-align: left;\n",
       "    }\n",
       "\n",
       "    .dataframe thead tr:last-of-type th {\n",
       "        text-align: right;\n",
       "    }\n",
       "</style>\n",
       "<table border=\"1\" class=\"dataframe\">\n",
       "  <thead>\n",
       "    <tr>\n",
       "      <th></th>\n",
       "      <th colspan=\"4\" halign=\"left\">order_hour_of_day</th>\n",
       "    </tr>\n",
       "    <tr>\n",
       "      <th></th>\n",
       "      <th>max</th>\n",
       "      <th>min</th>\n",
       "      <th>mean</th>\n",
       "      <th>median</th>\n",
       "    </tr>\n",
       "    <tr>\n",
       "      <th>Parent_Status</th>\n",
       "      <th></th>\n",
       "      <th></th>\n",
       "      <th></th>\n",
       "      <th></th>\n",
       "    </tr>\n",
       "  </thead>\n",
       "  <tbody>\n",
       "    <tr>\n",
       "      <th>Mid-Age Parents</th>\n",
       "      <td>23</td>\n",
       "      <td>0</td>\n",
       "      <td>13.374915</td>\n",
       "      <td>13</td>\n",
       "    </tr>\n",
       "    <tr>\n",
       "      <th>No Dependants/Not Parents</th>\n",
       "      <td>23</td>\n",
       "      <td>0</td>\n",
       "      <td>13.365228</td>\n",
       "      <td>13</td>\n",
       "    </tr>\n",
       "    <tr>\n",
       "      <th>Old-Age Parents</th>\n",
       "      <td>23</td>\n",
       "      <td>0</td>\n",
       "      <td>13.362096</td>\n",
       "      <td>13</td>\n",
       "    </tr>\n",
       "    <tr>\n",
       "      <th>Young Parents</th>\n",
       "      <td>23</td>\n",
       "      <td>0</td>\n",
       "      <td>13.341019</td>\n",
       "      <td>13</td>\n",
       "    </tr>\n",
       "  </tbody>\n",
       "</table>\n",
       "</div>"
      ],
      "text/plain": [
       "                          order_hour_of_day                      \n",
       "                                        max min       mean median\n",
       "Parent_Status                                                    \n",
       "Mid-Age Parents                          23   0  13.374915     13\n",
       "No Dependants/Not Parents                23   0  13.365228     13\n",
       "Old-Age Parents                          23   0  13.362096     13\n",
       "Young Parents                            23   0  13.341019     13"
      ]
     },
     "execution_count": 121,
     "metadata": {},
     "output_type": "execute_result"
    }
   ],
   "source": [
    "#Do certain Parents categories shop at different hours of the day?\n",
    "\n",
    "df_final_data.groupby('Parent_Status').agg({'order_hour_of_day':['max','min','mean','median']})"
   ]
  },
  {
   "cell_type": "markdown",
   "id": "15f8f3ea",
   "metadata": {},
   "source": [
    "There is no strong co-relation found between the variables."
   ]
  },
  {
   "cell_type": "code",
   "execution_count": 123,
   "id": "1ca85588",
   "metadata": {},
   "outputs": [
    {
     "data": {
      "text/html": [
       "<div>\n",
       "<style scoped>\n",
       "    .dataframe tbody tr th:only-of-type {\n",
       "        vertical-align: middle;\n",
       "    }\n",
       "\n",
       "    .dataframe tbody tr th {\n",
       "        vertical-align: top;\n",
       "    }\n",
       "\n",
       "    .dataframe thead tr th {\n",
       "        text-align: left;\n",
       "    }\n",
       "\n",
       "    .dataframe thead tr:last-of-type th {\n",
       "        text-align: right;\n",
       "    }\n",
       "</style>\n",
       "<table border=\"1\" class=\"dataframe\">\n",
       "  <thead>\n",
       "    <tr>\n",
       "      <th></th>\n",
       "      <th colspan=\"4\" halign=\"left\">orders_day_of_week</th>\n",
       "    </tr>\n",
       "    <tr>\n",
       "      <th></th>\n",
       "      <th>max</th>\n",
       "      <th>min</th>\n",
       "      <th>mean</th>\n",
       "      <th>median</th>\n",
       "    </tr>\n",
       "    <tr>\n",
       "      <th>Parent_Status</th>\n",
       "      <th></th>\n",
       "      <th></th>\n",
       "      <th></th>\n",
       "      <th></th>\n",
       "    </tr>\n",
       "  </thead>\n",
       "  <tbody>\n",
       "    <tr>\n",
       "      <th>Mid-Age Parents</th>\n",
       "      <td>6</td>\n",
       "      <td>0</td>\n",
       "      <td>2.751182</td>\n",
       "      <td>3</td>\n",
       "    </tr>\n",
       "    <tr>\n",
       "      <th>No Dependants/Not Parents</th>\n",
       "      <td>6</td>\n",
       "      <td>0</td>\n",
       "      <td>2.741635</td>\n",
       "      <td>3</td>\n",
       "    </tr>\n",
       "    <tr>\n",
       "      <th>Old-Age Parents</th>\n",
       "      <td>6</td>\n",
       "      <td>0</td>\n",
       "      <td>2.753424</td>\n",
       "      <td>3</td>\n",
       "    </tr>\n",
       "    <tr>\n",
       "      <th>Young Parents</th>\n",
       "      <td>6</td>\n",
       "      <td>0</td>\n",
       "      <td>2.744084</td>\n",
       "      <td>3</td>\n",
       "    </tr>\n",
       "  </tbody>\n",
       "</table>\n",
       "</div>"
      ],
      "text/plain": [
       "                          orders_day_of_week                     \n",
       "                                         max min      mean median\n",
       "Parent_Status                                                    \n",
       "Mid-Age Parents                            6   0  2.751182      3\n",
       "No Dependants/Not Parents                  6   0  2.741635      3\n",
       "Old-Age Parents                            6   0  2.753424      3\n",
       "Young Parents                              6   0  2.744084      3"
      ]
     },
     "execution_count": 123,
     "metadata": {},
     "output_type": "execute_result"
    }
   ],
   "source": [
    "#Do certain Parents categories shop on different days of the week?\n",
    "\n",
    "df_final_data.groupby('Parent_Status').agg({'orders_day_of_week':['max','min','mean','median']})"
   ]
  },
  {
   "cell_type": "markdown",
   "id": "60821d02",
   "metadata": {},
   "source": [
    "No strong relation found between the variables"
   ]
  },
  {
   "cell_type": "code",
   "execution_count": 125,
   "id": "b96c7261",
   "metadata": {
    "scrolled": true
   },
   "outputs": [
    {
     "data": {
      "text/html": [
       "<div>\n",
       "<style scoped>\n",
       "    .dataframe tbody tr th:only-of-type {\n",
       "        vertical-align: middle;\n",
       "    }\n",
       "\n",
       "    .dataframe tbody tr th {\n",
       "        vertical-align: top;\n",
       "    }\n",
       "\n",
       "    .dataframe thead tr th {\n",
       "        text-align: left;\n",
       "    }\n",
       "\n",
       "    .dataframe thead tr:last-of-type th {\n",
       "        text-align: right;\n",
       "    }\n",
       "</style>\n",
       "<table border=\"1\" class=\"dataframe\">\n",
       "  <thead>\n",
       "    <tr>\n",
       "      <th></th>\n",
       "      <th colspan=\"4\" halign=\"left\">Age</th>\n",
       "    </tr>\n",
       "    <tr>\n",
       "      <th></th>\n",
       "      <th>mean</th>\n",
       "      <th>median</th>\n",
       "      <th>min</th>\n",
       "      <th>max</th>\n",
       "    </tr>\n",
       "    <tr>\n",
       "      <th>Alcohol Drinker</th>\n",
       "      <th></th>\n",
       "      <th></th>\n",
       "      <th></th>\n",
       "      <th></th>\n",
       "    </tr>\n",
       "  </thead>\n",
       "  <tbody>\n",
       "    <tr>\n",
       "      <th>Alcohol Drinker</th>\n",
       "      <td>49.278873</td>\n",
       "      <td>49</td>\n",
       "      <td>18</td>\n",
       "      <td>81</td>\n",
       "    </tr>\n",
       "    <tr>\n",
       "      <th>Not Alcohol Drinker</th>\n",
       "      <td>49.470146</td>\n",
       "      <td>49</td>\n",
       "      <td>18</td>\n",
       "      <td>81</td>\n",
       "    </tr>\n",
       "  </tbody>\n",
       "</table>\n",
       "</div>"
      ],
      "text/plain": [
       "                           Age               \n",
       "                          mean median min max\n",
       "Alcohol Drinker                              \n",
       "Alcohol Drinker      49.278873     49  18  81\n",
       "Not Alcohol Drinker  49.470146     49  18  81"
      ]
     },
     "execution_count": 125,
     "metadata": {},
     "output_type": "execute_result"
    }
   ],
   "source": [
    "# Are there customers with particular age who buy more alcohol?\n",
    "df_final_data.groupby('Alcohol Drinker').agg({'Age':['mean','median','min', 'max']})"
   ]
  },
  {
   "cell_type": "markdown",
   "id": "ec3a6ad9",
   "metadata": {},
   "source": [
    "No strong relation found between the variables"
   ]
  },
  {
   "cell_type": "code",
   "execution_count": 127,
   "id": "221fe16d",
   "metadata": {},
   "outputs": [
    {
     "data": {
      "text/html": [
       "<div>\n",
       "<style scoped>\n",
       "    .dataframe tbody tr th:only-of-type {\n",
       "        vertical-align: middle;\n",
       "    }\n",
       "\n",
       "    .dataframe tbody tr th {\n",
       "        vertical-align: top;\n",
       "    }\n",
       "\n",
       "    .dataframe thead tr th {\n",
       "        text-align: left;\n",
       "    }\n",
       "\n",
       "    .dataframe thead tr:last-of-type th {\n",
       "        text-align: right;\n",
       "    }\n",
       "</style>\n",
       "<table border=\"1\" class=\"dataframe\">\n",
       "  <thead>\n",
       "    <tr>\n",
       "      <th></th>\n",
       "      <th colspan=\"4\" halign=\"left\">Annual_income</th>\n",
       "    </tr>\n",
       "    <tr>\n",
       "      <th></th>\n",
       "      <th>mean</th>\n",
       "      <th>median</th>\n",
       "      <th>min</th>\n",
       "      <th>max</th>\n",
       "    </tr>\n",
       "    <tr>\n",
       "      <th>Alcohol Drinker</th>\n",
       "      <th></th>\n",
       "      <th></th>\n",
       "      <th></th>\n",
       "      <th></th>\n",
       "    </tr>\n",
       "  </thead>\n",
       "  <tbody>\n",
       "    <tr>\n",
       "      <th>Alcohol Drinker</th>\n",
       "      <td>112048.049284</td>\n",
       "      <td>100246</td>\n",
       "      <td>26170</td>\n",
       "      <td>593901</td>\n",
       "    </tr>\n",
       "    <tr>\n",
       "      <th>Not Alcohol Drinker</th>\n",
       "      <td>99022.886635</td>\n",
       "      <td>96579</td>\n",
       "      <td>25903</td>\n",
       "      <td>591089</td>\n",
       "    </tr>\n",
       "  </tbody>\n",
       "</table>\n",
       "</div>"
      ],
      "text/plain": [
       "                     Annual_income                       \n",
       "                              mean  median    min     max\n",
       "Alcohol Drinker                                          \n",
       "Alcohol Drinker      112048.049284  100246  26170  593901\n",
       "Not Alcohol Drinker   99022.886635   96579  25903  591089"
      ]
     },
     "execution_count": 127,
     "metadata": {},
     "output_type": "execute_result"
    }
   ],
   "source": [
    "# Are there customers with particular income who buy more alcohol?\n",
    "df_final_data.groupby('Alcohol Drinker').agg({'Annual_income':['mean','median','min', 'max']})"
   ]
  },
  {
   "cell_type": "markdown",
   "id": "cf6148a4",
   "metadata": {},
   "source": [
    "We can see that people with slightly high income tend to buy alcohol."
   ]
  },
  {
   "cell_type": "code",
   "execution_count": 128,
   "id": "9dbb8dc5",
   "metadata": {},
   "outputs": [
    {
     "data": {
      "text/html": [
       "<div>\n",
       "<style scoped>\n",
       "    .dataframe tbody tr th:only-of-type {\n",
       "        vertical-align: middle;\n",
       "    }\n",
       "\n",
       "    .dataframe tbody tr th {\n",
       "        vertical-align: top;\n",
       "    }\n",
       "\n",
       "    .dataframe thead tr th {\n",
       "        text-align: left;\n",
       "    }\n",
       "\n",
       "    .dataframe thead tr:last-of-type th {\n",
       "        text-align: right;\n",
       "    }\n",
       "</style>\n",
       "<table border=\"1\" class=\"dataframe\">\n",
       "  <thead>\n",
       "    <tr>\n",
       "      <th></th>\n",
       "      <th colspan=\"4\" halign=\"left\">order_hour_of_day</th>\n",
       "    </tr>\n",
       "    <tr>\n",
       "      <th></th>\n",
       "      <th>mean</th>\n",
       "      <th>median</th>\n",
       "      <th>min</th>\n",
       "      <th>max</th>\n",
       "    </tr>\n",
       "    <tr>\n",
       "      <th>Breakfast Buyer</th>\n",
       "      <th></th>\n",
       "      <th></th>\n",
       "      <th></th>\n",
       "      <th></th>\n",
       "    </tr>\n",
       "  </thead>\n",
       "  <tbody>\n",
       "    <tr>\n",
       "      <th>Breakfast Buyer</th>\n",
       "      <td>13.346211</td>\n",
       "      <td>13</td>\n",
       "      <td>0</td>\n",
       "      <td>23</td>\n",
       "    </tr>\n",
       "    <tr>\n",
       "      <th>Not Breakfast Buyer</th>\n",
       "      <td>13.417800</td>\n",
       "      <td>13</td>\n",
       "      <td>0</td>\n",
       "      <td>23</td>\n",
       "    </tr>\n",
       "  </tbody>\n",
       "</table>\n",
       "</div>"
      ],
      "text/plain": [
       "                    order_hour_of_day               \n",
       "                                 mean median min max\n",
       "Breakfast Buyer                                     \n",
       "Breakfast Buyer             13.346211     13   0  23\n",
       "Not Breakfast Buyer         13.417800     13   0  23"
      ]
     },
     "execution_count": 128,
     "metadata": {},
     "output_type": "execute_result"
    }
   ],
   "source": [
    "# People who buy breakfast, do they shop at any particular time of day?\n",
    "df_final_data.groupby('Breakfast Buyer').agg({'order_hour_of_day':['mean','median','min', 'max']})"
   ]
  },
  {
   "cell_type": "markdown",
   "id": "dd500c5c",
   "metadata": {},
   "source": [
    "No strong co-relation found between the variables"
   ]
  },
  {
   "cell_type": "code",
   "execution_count": 130,
   "id": "517b32b5",
   "metadata": {},
   "outputs": [
    {
     "data": {
      "text/html": [
       "<div>\n",
       "<style scoped>\n",
       "    .dataframe tbody tr th:only-of-type {\n",
       "        vertical-align: middle;\n",
       "    }\n",
       "\n",
       "    .dataframe tbody tr th {\n",
       "        vertical-align: top;\n",
       "    }\n",
       "\n",
       "    .dataframe thead tr th {\n",
       "        text-align: left;\n",
       "    }\n",
       "\n",
       "    .dataframe thead tr:last-of-type th {\n",
       "        text-align: right;\n",
       "    }\n",
       "</style>\n",
       "<table border=\"1\" class=\"dataframe\">\n",
       "  <thead>\n",
       "    <tr>\n",
       "      <th></th>\n",
       "      <th colspan=\"4\" halign=\"left\">Annual_income</th>\n",
       "    </tr>\n",
       "    <tr>\n",
       "      <th></th>\n",
       "      <th>mean</th>\n",
       "      <th>median</th>\n",
       "      <th>min</th>\n",
       "      <th>max</th>\n",
       "    </tr>\n",
       "    <tr>\n",
       "      <th>Breakfast Buyer</th>\n",
       "      <th></th>\n",
       "      <th></th>\n",
       "      <th></th>\n",
       "      <th></th>\n",
       "    </tr>\n",
       "  </thead>\n",
       "  <tbody>\n",
       "    <tr>\n",
       "      <th>Breakfast Buyer</th>\n",
       "      <td>100724.010493</td>\n",
       "      <td>97278</td>\n",
       "      <td>25937</td>\n",
       "      <td>593901</td>\n",
       "    </tr>\n",
       "    <tr>\n",
       "      <th>Not Breakfast Buyer</th>\n",
       "      <td>97067.892292</td>\n",
       "      <td>95323</td>\n",
       "      <td>25903</td>\n",
       "      <td>590790</td>\n",
       "    </tr>\n",
       "  </tbody>\n",
       "</table>\n",
       "</div>"
      ],
      "text/plain": [
       "                     Annual_income                      \n",
       "                              mean median    min     max\n",
       "Breakfast Buyer                                         \n",
       "Breakfast Buyer      100724.010493  97278  25937  593901\n",
       "Not Breakfast Buyer   97067.892292  95323  25903  590790"
      ]
     },
     "execution_count": 130,
     "metadata": {},
     "output_type": "execute_result"
    }
   ],
   "source": [
    "# Do breakfast buyers tend to have higher incomes?\n",
    "df_final_data.groupby('Breakfast Buyer').agg({'Annual_income':['mean','median','min', 'max']})"
   ]
  },
  {
   "cell_type": "markdown",
   "id": "ffa11516",
   "metadata": {},
   "source": [
    "Yes, breakfast buyers tend to have higher income."
   ]
  },
  {
   "cell_type": "code",
   "execution_count": 131,
   "id": "51814296",
   "metadata": {},
   "outputs": [
    {
     "data": {
      "text/html": [
       "<div>\n",
       "<style scoped>\n",
       "    .dataframe tbody tr th:only-of-type {\n",
       "        vertical-align: middle;\n",
       "    }\n",
       "\n",
       "    .dataframe tbody tr th {\n",
       "        vertical-align: top;\n",
       "    }\n",
       "\n",
       "    .dataframe thead tr th {\n",
       "        text-align: left;\n",
       "    }\n",
       "\n",
       "    .dataframe thead tr:last-of-type th {\n",
       "        text-align: right;\n",
       "    }\n",
       "</style>\n",
       "<table border=\"1\" class=\"dataframe\">\n",
       "  <thead>\n",
       "    <tr>\n",
       "      <th></th>\n",
       "      <th colspan=\"4\" halign=\"left\">days_since_prior_order</th>\n",
       "    </tr>\n",
       "    <tr>\n",
       "      <th></th>\n",
       "      <th>mean</th>\n",
       "      <th>median</th>\n",
       "      <th>min</th>\n",
       "      <th>max</th>\n",
       "    </tr>\n",
       "    <tr>\n",
       "      <th>Alcohol Drinker</th>\n",
       "      <th></th>\n",
       "      <th></th>\n",
       "      <th></th>\n",
       "      <th></th>\n",
       "    </tr>\n",
       "  </thead>\n",
       "  <tbody>\n",
       "    <tr>\n",
       "      <th>Alcohol Drinker</th>\n",
       "      <td>9.489670</td>\n",
       "      <td>7</td>\n",
       "      <td>0</td>\n",
       "      <td>30</td>\n",
       "    </tr>\n",
       "    <tr>\n",
       "      <th>Not Alcohol Drinker</th>\n",
       "      <td>10.127975</td>\n",
       "      <td>7</td>\n",
       "      <td>0</td>\n",
       "      <td>30</td>\n",
       "    </tr>\n",
       "  </tbody>\n",
       "</table>\n",
       "</div>"
      ],
      "text/plain": [
       "                    days_since_prior_order               \n",
       "                                      mean median min max\n",
       "Alcohol Drinker                                          \n",
       "Alcohol Drinker                   9.489670      7   0  30\n",
       "Not Alcohol Drinker              10.127975      7   0  30"
      ]
     },
     "execution_count": 131,
     "metadata": {},
     "output_type": "execute_result"
    }
   ],
   "source": [
    "# Do alcohol drinkers place orders more frequently\n",
    "\n",
    "df_final_data.groupby('Alcohol Drinker').agg({'days_since_prior_order':['mean','median','min', 'max']})"
   ]
  },
  {
   "cell_type": "markdown",
   "id": "5697540d",
   "metadata": {},
   "source": [
    "Yes, alcohol drinkers shop more frequently as compared to non alcohol drinkers."
   ]
  },
  {
   "cell_type": "markdown",
   "id": "0547de6a",
   "metadata": {},
   "source": [
    "# 12.Compare your customer profiles with regions and departments"
   ]
  },
  {
   "cell_type": "code",
   "execution_count": 132,
   "id": "67929942",
   "metadata": {},
   "outputs": [],
   "source": [
    "# First we will create customers profiles with regions and departments\n",
    "df_customer_profile = df_final_data[['user_id', 'Region', 'department_id', 'Parent_Status', 'Income Level', 'Alcohol Drinker', 'Breakfast Buyer']]"
   ]
  },
  {
   "cell_type": "code",
   "execution_count": 133,
   "id": "6c102717",
   "metadata": {},
   "outputs": [
    {
     "data": {
      "text/plain": [
       "(24414877, 7)"
      ]
     },
     "execution_count": 133,
     "metadata": {},
     "output_type": "execute_result"
    }
   ],
   "source": [
    "# Checking the size of new dataframe\n",
    "df_customer_profile.shape"
   ]
  },
  {
   "cell_type": "code",
   "execution_count": 134,
   "id": "3877d182",
   "metadata": {},
   "outputs": [
    {
     "data": {
      "text/html": [
       "<div>\n",
       "<style scoped>\n",
       "    .dataframe tbody tr th:only-of-type {\n",
       "        vertical-align: middle;\n",
       "    }\n",
       "\n",
       "    .dataframe tbody tr th {\n",
       "        vertical-align: top;\n",
       "    }\n",
       "\n",
       "    .dataframe thead th {\n",
       "        text-align: right;\n",
       "    }\n",
       "</style>\n",
       "<table border=\"1\" class=\"dataframe\">\n",
       "  <thead>\n",
       "    <tr style=\"text-align: right;\">\n",
       "      <th></th>\n",
       "      <th>user_id</th>\n",
       "      <th>Region</th>\n",
       "      <th>department_id</th>\n",
       "      <th>Parent_Status</th>\n",
       "      <th>Income Level</th>\n",
       "      <th>Alcohol Drinker</th>\n",
       "      <th>Breakfast Buyer</th>\n",
       "    </tr>\n",
       "  </thead>\n",
       "  <tbody>\n",
       "    <tr>\n",
       "      <th>0</th>\n",
       "      <td>196224</td>\n",
       "      <td>Northeast</td>\n",
       "      <td>19</td>\n",
       "      <td>Mid-Age Parents</td>\n",
       "      <td>Middle Income</td>\n",
       "      <td>Not Alcohol Drinker</td>\n",
       "      <td>Not Breakfast Buyer</td>\n",
       "    </tr>\n",
       "    <tr>\n",
       "      <th>1</th>\n",
       "      <td>196224</td>\n",
       "      <td>Northeast</td>\n",
       "      <td>19</td>\n",
       "      <td>Mid-Age Parents</td>\n",
       "      <td>Middle Income</td>\n",
       "      <td>Not Alcohol Drinker</td>\n",
       "      <td>Not Breakfast Buyer</td>\n",
       "    </tr>\n",
       "    <tr>\n",
       "      <th>2</th>\n",
       "      <td>196224</td>\n",
       "      <td>Northeast</td>\n",
       "      <td>19</td>\n",
       "      <td>Mid-Age Parents</td>\n",
       "      <td>Middle Income</td>\n",
       "      <td>Not Alcohol Drinker</td>\n",
       "      <td>Not Breakfast Buyer</td>\n",
       "    </tr>\n",
       "    <tr>\n",
       "      <th>3</th>\n",
       "      <td>196224</td>\n",
       "      <td>Northeast</td>\n",
       "      <td>19</td>\n",
       "      <td>Mid-Age Parents</td>\n",
       "      <td>Middle Income</td>\n",
       "      <td>Not Alcohol Drinker</td>\n",
       "      <td>Not Breakfast Buyer</td>\n",
       "    </tr>\n",
       "    <tr>\n",
       "      <th>4</th>\n",
       "      <td>196224</td>\n",
       "      <td>Northeast</td>\n",
       "      <td>19</td>\n",
       "      <td>Mid-Age Parents</td>\n",
       "      <td>Middle Income</td>\n",
       "      <td>Not Alcohol Drinker</td>\n",
       "      <td>Not Breakfast Buyer</td>\n",
       "    </tr>\n",
       "  </tbody>\n",
       "</table>\n",
       "</div>"
      ],
      "text/plain": [
       "   user_id     Region  department_id    Parent_Status   Income Level  \\\n",
       "0   196224  Northeast             19  Mid-Age Parents  Middle Income   \n",
       "1   196224  Northeast             19  Mid-Age Parents  Middle Income   \n",
       "2   196224  Northeast             19  Mid-Age Parents  Middle Income   \n",
       "3   196224  Northeast             19  Mid-Age Parents  Middle Income   \n",
       "4   196224  Northeast             19  Mid-Age Parents  Middle Income   \n",
       "\n",
       "       Alcohol Drinker      Breakfast Buyer  \n",
       "0  Not Alcohol Drinker  Not Breakfast Buyer  \n",
       "1  Not Alcohol Drinker  Not Breakfast Buyer  \n",
       "2  Not Alcohol Drinker  Not Breakfast Buyer  \n",
       "3  Not Alcohol Drinker  Not Breakfast Buyer  \n",
       "4  Not Alcohol Drinker  Not Breakfast Buyer  "
      ]
     },
     "execution_count": 134,
     "metadata": {},
     "output_type": "execute_result"
    }
   ],
   "source": [
    "# Checking the first 5 rows\n",
    "df_customer_profile.head()"
   ]
  },
  {
   "cell_type": "markdown",
   "id": "3d30cac1",
   "metadata": {},
   "source": [
    "# Parent status profile with department and region"
   ]
  },
  {
   "cell_type": "code",
   "execution_count": 136,
   "id": "03eca17b",
   "metadata": {},
   "outputs": [],
   "source": [
    "# Parent status by department\n",
    "crosstab_parent_dept = pd.crosstab(df_customer_profile['department_id'],df_customer_profile['Parent_Status'], dropna=False )"
   ]
  },
  {
   "cell_type": "code",
   "execution_count": 138,
   "id": "2963015a",
   "metadata": {},
   "outputs": [
    {
     "data": {
      "text/html": [
       "<div>\n",
       "<style scoped>\n",
       "    .dataframe tbody tr th:only-of-type {\n",
       "        vertical-align: middle;\n",
       "    }\n",
       "\n",
       "    .dataframe tbody tr th {\n",
       "        vertical-align: top;\n",
       "    }\n",
       "\n",
       "    .dataframe thead th {\n",
       "        text-align: right;\n",
       "    }\n",
       "</style>\n",
       "<table border=\"1\" class=\"dataframe\">\n",
       "  <thead>\n",
       "    <tr style=\"text-align: right;\">\n",
       "      <th>Parent_Status</th>\n",
       "      <th>Mid-Age Parents</th>\n",
       "      <th>No Dependants/Not Parents</th>\n",
       "      <th>Old-Age Parents</th>\n",
       "      <th>Young Parents</th>\n",
       "    </tr>\n",
       "    <tr>\n",
       "      <th>department_id</th>\n",
       "      <th></th>\n",
       "      <th></th>\n",
       "      <th></th>\n",
       "      <th></th>\n",
       "    </tr>\n",
       "  </thead>\n",
       "  <tbody>\n",
       "    <tr>\n",
       "      <th>1</th>\n",
       "      <td>479820</td>\n",
       "      <td>405513</td>\n",
       "      <td>417655</td>\n",
       "      <td>324626</td>\n",
       "    </tr>\n",
       "    <tr>\n",
       "      <th>2</th>\n",
       "      <td>7734</td>\n",
       "      <td>6935</td>\n",
       "      <td>6858</td>\n",
       "      <td>5639</td>\n",
       "    </tr>\n",
       "    <tr>\n",
       "      <th>3</th>\n",
       "      <td>259877</td>\n",
       "      <td>221599</td>\n",
       "      <td>225756</td>\n",
       "      <td>176098</td>\n",
       "    </tr>\n",
       "    <tr>\n",
       "      <th>4</th>\n",
       "      <td>2125440</td>\n",
       "      <td>1812885</td>\n",
       "      <td>1849447</td>\n",
       "      <td>1439319</td>\n",
       "    </tr>\n",
       "    <tr>\n",
       "      <th>5</th>\n",
       "      <td>30666</td>\n",
       "      <td>27959</td>\n",
       "      <td>26386</td>\n",
       "      <td>22961</td>\n",
       "    </tr>\n",
       "    <tr>\n",
       "      <th>6</th>\n",
       "      <td>58413</td>\n",
       "      <td>50038</td>\n",
       "      <td>49693</td>\n",
       "      <td>39756</td>\n",
       "    </tr>\n",
       "    <tr>\n",
       "      <th>7</th>\n",
       "      <td>598183</td>\n",
       "      <td>512055</td>\n",
       "      <td>524930</td>\n",
       "      <td>401279</td>\n",
       "    </tr>\n",
       "    <tr>\n",
       "      <th>8</th>\n",
       "      <td>20922</td>\n",
       "      <td>18250</td>\n",
       "      <td>18484</td>\n",
       "      <td>14455</td>\n",
       "    </tr>\n",
       "    <tr>\n",
       "      <th>9</th>\n",
       "      <td>187875</td>\n",
       "      <td>157414</td>\n",
       "      <td>161388</td>\n",
       "      <td>127048</td>\n",
       "    </tr>\n",
       "    <tr>\n",
       "      <th>10</th>\n",
       "      <td>8128</td>\n",
       "      <td>6585</td>\n",
       "      <td>7225</td>\n",
       "      <td>5620</td>\n",
       "    </tr>\n",
       "    <tr>\n",
       "      <th>11</th>\n",
       "      <td>98557</td>\n",
       "      <td>82361</td>\n",
       "      <td>82754</td>\n",
       "      <td>64808</td>\n",
       "    </tr>\n",
       "    <tr>\n",
       "      <th>12</th>\n",
       "      <td>154284</td>\n",
       "      <td>128206</td>\n",
       "      <td>135898</td>\n",
       "      <td>105502</td>\n",
       "    </tr>\n",
       "    <tr>\n",
       "      <th>13</th>\n",
       "      <td>408662</td>\n",
       "      <td>345318</td>\n",
       "      <td>354770</td>\n",
       "      <td>276625</td>\n",
       "    </tr>\n",
       "    <tr>\n",
       "      <th>14</th>\n",
       "      <td>154728</td>\n",
       "      <td>130160</td>\n",
       "      <td>133591</td>\n",
       "      <td>106466</td>\n",
       "    </tr>\n",
       "    <tr>\n",
       "      <th>15</th>\n",
       "      <td>232208</td>\n",
       "      <td>195449</td>\n",
       "      <td>201899</td>\n",
       "      <td>158234</td>\n",
       "    </tr>\n",
       "    <tr>\n",
       "      <th>16</th>\n",
       "      <td>1211959</td>\n",
       "      <td>1030238</td>\n",
       "      <td>1048117</td>\n",
       "      <td>830174</td>\n",
       "    </tr>\n",
       "    <tr>\n",
       "      <th>17</th>\n",
       "      <td>160710</td>\n",
       "      <td>132159</td>\n",
       "      <td>140171</td>\n",
       "      <td>106309</td>\n",
       "    </tr>\n",
       "    <tr>\n",
       "      <th>18</th>\n",
       "      <td>101319</td>\n",
       "      <td>84313</td>\n",
       "      <td>85358</td>\n",
       "      <td>64957</td>\n",
       "    </tr>\n",
       "    <tr>\n",
       "      <th>19</th>\n",
       "      <td>644293</td>\n",
       "      <td>545439</td>\n",
       "      <td>556461</td>\n",
       "      <td>440928</td>\n",
       "    </tr>\n",
       "    <tr>\n",
       "      <th>20</th>\n",
       "      <td>229459</td>\n",
       "      <td>197994</td>\n",
       "      <td>199755</td>\n",
       "      <td>155803</td>\n",
       "    </tr>\n",
       "    <tr>\n",
       "      <th>21</th>\n",
       "      <td>16896</td>\n",
       "      <td>14132</td>\n",
       "      <td>14790</td>\n",
       "      <td>11749</td>\n",
       "    </tr>\n",
       "  </tbody>\n",
       "</table>\n",
       "</div>"
      ],
      "text/plain": [
       "Parent_Status  Mid-Age Parents  No Dependants/Not Parents  Old-Age Parents  \\\n",
       "department_id                                                                \n",
       "1                       479820                     405513           417655   \n",
       "2                         7734                       6935             6858   \n",
       "3                       259877                     221599           225756   \n",
       "4                      2125440                    1812885          1849447   \n",
       "5                        30666                      27959            26386   \n",
       "6                        58413                      50038            49693   \n",
       "7                       598183                     512055           524930   \n",
       "8                        20922                      18250            18484   \n",
       "9                       187875                     157414           161388   \n",
       "10                        8128                       6585             7225   \n",
       "11                       98557                      82361            82754   \n",
       "12                      154284                     128206           135898   \n",
       "13                      408662                     345318           354770   \n",
       "14                      154728                     130160           133591   \n",
       "15                      232208                     195449           201899   \n",
       "16                     1211959                    1030238          1048117   \n",
       "17                      160710                     132159           140171   \n",
       "18                      101319                      84313            85358   \n",
       "19                      644293                     545439           556461   \n",
       "20                      229459                     197994           199755   \n",
       "21                       16896                      14132            14790   \n",
       "\n",
       "Parent_Status  Young Parents  \n",
       "department_id                 \n",
       "1                     324626  \n",
       "2                       5639  \n",
       "3                     176098  \n",
       "4                    1439319  \n",
       "5                      22961  \n",
       "6                      39756  \n",
       "7                     401279  \n",
       "8                      14455  \n",
       "9                     127048  \n",
       "10                      5620  \n",
       "11                     64808  \n",
       "12                    105502  \n",
       "13                    276625  \n",
       "14                    106466  \n",
       "15                    158234  \n",
       "16                    830174  \n",
       "17                    106309  \n",
       "18                     64957  \n",
       "19                    440928  \n",
       "20                    155803  \n",
       "21                     11749  "
      ]
     },
     "execution_count": 138,
     "metadata": {},
     "output_type": "execute_result"
    }
   ],
   "source": [
    "crosstab_parent_dept"
   ]
  },
  {
   "cell_type": "code",
   "execution_count": 154,
   "id": "0dd03f9f",
   "metadata": {},
   "outputs": [
    {
     "data": {
      "image/png": "[encoded data removed]",
      "text/plain": [
       "<Figure size 432x288 with 1 Axes>"
      ]
     },
     "metadata": {
      "needs_background": "light"
     },
     "output_type": "display_data"
    }
   ],
   "source": [
    "# Stacked bar plot for parent department\n",
    "parent_dept_stacked_bar = crosstab_parent_dept.plot.bar(stacked= True, title = 'Parent status and Department Relationship')"
   ]
  },
  {
   "cell_type": "code",
   "execution_count": 155,
   "id": "3890fe56",
   "metadata": {},
   "outputs": [],
   "source": [
    "# Exporting bar chart\n",
    "parent_dept_stacked_bar.figure.savefig(os.path.join(path, 'Analysis','Visualization', 'Parent_department_stacked_bar.png'))"
   ]
  },
  {
   "cell_type": "code",
   "execution_count": 139,
   "id": "bb2fbb6d",
   "metadata": {},
   "outputs": [],
   "source": [
    "# Parent status by region\n",
    "crosstab_parent_region = pd.crosstab(df_customer_profile['Region'],df_customer_profile['Parent_Status'], dropna=False )"
   ]
  },
  {
   "cell_type": "code",
   "execution_count": 140,
   "id": "69d6852d",
   "metadata": {},
   "outputs": [
    {
     "data": {
      "text/html": [
       "<div>\n",
       "<style scoped>\n",
       "    .dataframe tbody tr th:only-of-type {\n",
       "        vertical-align: middle;\n",
       "    }\n",
       "\n",
       "    .dataframe tbody tr th {\n",
       "        vertical-align: top;\n",
       "    }\n",
       "\n",
       "    .dataframe thead th {\n",
       "        text-align: right;\n",
       "    }\n",
       "</style>\n",
       "<table border=\"1\" class=\"dataframe\">\n",
       "  <thead>\n",
       "    <tr style=\"text-align: right;\">\n",
       "      <th>Parent_Status</th>\n",
       "      <th>Mid-Age Parents</th>\n",
       "      <th>No Dependants/Not Parents</th>\n",
       "      <th>Old-Age Parents</th>\n",
       "      <th>Young Parents</th>\n",
       "    </tr>\n",
       "    <tr>\n",
       "      <th>Region</th>\n",
       "      <th></th>\n",
       "      <th></th>\n",
       "      <th></th>\n",
       "      <th></th>\n",
       "    </tr>\n",
       "  </thead>\n",
       "  <tbody>\n",
       "    <tr>\n",
       "      <th>Midwest</th>\n",
       "      <td>1700196</td>\n",
       "      <td>1436961</td>\n",
       "      <td>1438890</td>\n",
       "      <td>1135709</td>\n",
       "    </tr>\n",
       "    <tr>\n",
       "      <th>Northeast</th>\n",
       "      <td>1279495</td>\n",
       "      <td>1065138</td>\n",
       "      <td>1109306</td>\n",
       "      <td>861332</td>\n",
       "    </tr>\n",
       "    <tr>\n",
       "      <th>South</th>\n",
       "      <td>2370419</td>\n",
       "      <td>2038334</td>\n",
       "      <td>2081415</td>\n",
       "      <td>1638918</td>\n",
       "    </tr>\n",
       "    <tr>\n",
       "      <th>West</th>\n",
       "      <td>1840023</td>\n",
       "      <td>1564569</td>\n",
       "      <td>1611775</td>\n",
       "      <td>1242397</td>\n",
       "    </tr>\n",
       "  </tbody>\n",
       "</table>\n",
       "</div>"
      ],
      "text/plain": [
       "Parent_Status  Mid-Age Parents  No Dependants/Not Parents  Old-Age Parents  \\\n",
       "Region                                                                       \n",
       "Midwest                1700196                    1436961          1438890   \n",
       "Northeast              1279495                    1065138          1109306   \n",
       "South                  2370419                    2038334          2081415   \n",
       "West                   1840023                    1564569          1611775   \n",
       "\n",
       "Parent_Status  Young Parents  \n",
       "Region                        \n",
       "Midwest              1135709  \n",
       "Northeast             861332  \n",
       "South                1638918  \n",
       "West                 1242397  "
      ]
     },
     "execution_count": 140,
     "metadata": {},
     "output_type": "execute_result"
    }
   ],
   "source": [
    "crosstab_parent_region"
   ]
  },
  {
   "cell_type": "code",
   "execution_count": 156,
   "id": "f4a76e53",
   "metadata": {},
   "outputs": [
    {
     "data": {
      "image/png": "[encoded data removed]",
      "text/plain": [
       "<Figure size 432x288 with 1 Axes>"
      ]
     },
     "metadata": {
      "needs_background": "light"
     },
     "output_type": "display_data"
    }
   ],
   "source": [
    "# Stacked bar plot for parent region\n",
    "parent_region_stacked_bar = crosstab_parent_region.plot.bar(stacked= True, title = 'Parent status and Region Relationship')"
   ]
  },
  {
   "cell_type": "code",
   "execution_count": 157,
   "id": "c958293e",
   "metadata": {},
   "outputs": [],
   "source": [
    "# Exporting bar chart\n",
    "parent_region_stacked_bar.figure.savefig(os.path.join(path, 'Analysis','Visualization', 'parent_region_stacked_bar.png'))"
   ]
  },
  {
   "cell_type": "markdown",
   "id": "3a7f80f9",
   "metadata": {},
   "source": [
    "# Income profile with department and region"
   ]
  },
  {
   "cell_type": "code",
   "execution_count": 141,
   "id": "1ba5f85f",
   "metadata": {},
   "outputs": [],
   "source": [
    "# Income status by department\n",
    "crosstab_income_dept = pd.crosstab(df_customer_profile['department_id'],df_customer_profile['Income Level'], dropna=False )"
   ]
  },
  {
   "cell_type": "code",
   "execution_count": 142,
   "id": "f546dcd3",
   "metadata": {},
   "outputs": [
    {
     "data": {
      "text/html": [
       "<div>\n",
       "<style scoped>\n",
       "    .dataframe tbody tr th:only-of-type {\n",
       "        vertical-align: middle;\n",
       "    }\n",
       "\n",
       "    .dataframe tbody tr th {\n",
       "        vertical-align: top;\n",
       "    }\n",
       "\n",
       "    .dataframe thead th {\n",
       "        text-align: right;\n",
       "    }\n",
       "</style>\n",
       "<table border=\"1\" class=\"dataframe\">\n",
       "  <thead>\n",
       "    <tr style=\"text-align: right;\">\n",
       "      <th>Income Level</th>\n",
       "      <th>Higher Income</th>\n",
       "      <th>Lower Income</th>\n",
       "      <th>Middle Income</th>\n",
       "    </tr>\n",
       "    <tr>\n",
       "      <th>department_id</th>\n",
       "      <th></th>\n",
       "      <th></th>\n",
       "      <th></th>\n",
       "    </tr>\n",
       "  </thead>\n",
       "  <tbody>\n",
       "    <tr>\n",
       "      <th>1</th>\n",
       "      <td>418152</td>\n",
       "      <td>99903</td>\n",
       "      <td>1109559</td>\n",
       "    </tr>\n",
       "    <tr>\n",
       "      <th>2</th>\n",
       "      <td>6925</td>\n",
       "      <td>1918</td>\n",
       "      <td>18323</td>\n",
       "    </tr>\n",
       "    <tr>\n",
       "      <th>3</th>\n",
       "      <td>230059</td>\n",
       "      <td>49309</td>\n",
       "      <td>603962</td>\n",
       "    </tr>\n",
       "    <tr>\n",
       "      <th>4</th>\n",
       "      <td>1826609</td>\n",
       "      <td>387955</td>\n",
       "      <td>5012527</td>\n",
       "    </tr>\n",
       "    <tr>\n",
       "      <th>5</th>\n",
       "      <td>31353</td>\n",
       "      <td>7619</td>\n",
       "      <td>69000</td>\n",
       "    </tr>\n",
       "    <tr>\n",
       "      <th>6</th>\n",
       "      <td>50635</td>\n",
       "      <td>9839</td>\n",
       "      <td>137426</td>\n",
       "    </tr>\n",
       "    <tr>\n",
       "      <th>7</th>\n",
       "      <td>491879</td>\n",
       "      <td>194261</td>\n",
       "      <td>1350307</td>\n",
       "    </tr>\n",
       "    <tr>\n",
       "      <th>8</th>\n",
       "      <td>19489</td>\n",
       "      <td>4397</td>\n",
       "      <td>48225</td>\n",
       "    </tr>\n",
       "    <tr>\n",
       "      <th>9</th>\n",
       "      <td>164762</td>\n",
       "      <td>28127</td>\n",
       "      <td>440836</td>\n",
       "    </tr>\n",
       "    <tr>\n",
       "      <th>10</th>\n",
       "      <td>6151</td>\n",
       "      <td>2403</td>\n",
       "      <td>19004</td>\n",
       "    </tr>\n",
       "    <tr>\n",
       "      <th>11</th>\n",
       "      <td>82469</td>\n",
       "      <td>22466</td>\n",
       "      <td>223545</td>\n",
       "    </tr>\n",
       "    <tr>\n",
       "      <th>12</th>\n",
       "      <td>142801</td>\n",
       "      <td>13134</td>\n",
       "      <td>367955</td>\n",
       "    </tr>\n",
       "    <tr>\n",
       "      <th>13</th>\n",
       "      <td>356339</td>\n",
       "      <td>76216</td>\n",
       "      <td>952820</td>\n",
       "    </tr>\n",
       "    <tr>\n",
       "      <th>14</th>\n",
       "      <td>127738</td>\n",
       "      <td>45875</td>\n",
       "      <td>351332</td>\n",
       "    </tr>\n",
       "    <tr>\n",
       "      <th>15</th>\n",
       "      <td>207792</td>\n",
       "      <td>34835</td>\n",
       "      <td>545163</td>\n",
       "    </tr>\n",
       "    <tr>\n",
       "      <th>16</th>\n",
       "      <td>1048463</td>\n",
       "      <td>240147</td>\n",
       "      <td>2831878</td>\n",
       "    </tr>\n",
       "    <tr>\n",
       "      <th>17</th>\n",
       "      <td>137418</td>\n",
       "      <td>41644</td>\n",
       "      <td>360287</td>\n",
       "    </tr>\n",
       "    <tr>\n",
       "      <th>18</th>\n",
       "      <td>86913</td>\n",
       "      <td>13259</td>\n",
       "      <td>235775</td>\n",
       "    </tr>\n",
       "    <tr>\n",
       "      <th>19</th>\n",
       "      <td>476895</td>\n",
       "      <td>290257</td>\n",
       "      <td>1419969</td>\n",
       "    </tr>\n",
       "    <tr>\n",
       "      <th>20</th>\n",
       "      <td>196622</td>\n",
       "      <td>51260</td>\n",
       "      <td>535129</td>\n",
       "    </tr>\n",
       "    <tr>\n",
       "      <th>21</th>\n",
       "      <td>14538</td>\n",
       "      <td>3590</td>\n",
       "      <td>39439</td>\n",
       "    </tr>\n",
       "  </tbody>\n",
       "</table>\n",
       "</div>"
      ],
      "text/plain": [
       "Income Level   Higher Income  Lower Income  Middle Income\n",
       "department_id                                            \n",
       "1                     418152         99903        1109559\n",
       "2                       6925          1918          18323\n",
       "3                     230059         49309         603962\n",
       "4                    1826609        387955        5012527\n",
       "5                      31353          7619          69000\n",
       "6                      50635          9839         137426\n",
       "7                     491879        194261        1350307\n",
       "8                      19489          4397          48225\n",
       "9                     164762         28127         440836\n",
       "10                      6151          2403          19004\n",
       "11                     82469         22466         223545\n",
       "12                    142801         13134         367955\n",
       "13                    356339         76216         952820\n",
       "14                    127738         45875         351332\n",
       "15                    207792         34835         545163\n",
       "16                   1048463        240147        2831878\n",
       "17                    137418         41644         360287\n",
       "18                     86913         13259         235775\n",
       "19                    476895        290257        1419969\n",
       "20                    196622         51260         535129\n",
       "21                     14538          3590          39439"
      ]
     },
     "execution_count": 142,
     "metadata": {},
     "output_type": "execute_result"
    }
   ],
   "source": [
    "crosstab_income_dept"
   ]
  },
  {
   "cell_type": "code",
   "execution_count": 158,
   "id": "8a1d8ed7",
   "metadata": {},
   "outputs": [
    {
     "data": {
      "image/png": "[encoded data removed]",
      "text/plain": [
       "<Figure size 432x288 with 1 Axes>"
      ]
     },
     "metadata": {
      "needs_background": "light"
     },
     "output_type": "display_data"
    }
   ],
   "source": [
    "# Stacked bar plot for parent region\n",
    "income_dept_stacked_bar = crosstab_income_dept.plot.bar(stacked= True, title = 'Income level and Department Relationship')"
   ]
  },
  {
   "cell_type": "code",
   "execution_count": 159,
   "id": "75503127",
   "metadata": {},
   "outputs": [],
   "source": [
    "# Exporting bar chart\n",
    "income_dept_stacked_bar.figure.savefig(os.path.join(path, 'Analysis','Visualization', 'income_dept_stacked_bar.png'))"
   ]
  },
  {
   "cell_type": "code",
   "execution_count": 143,
   "id": "56d21753",
   "metadata": {},
   "outputs": [],
   "source": [
    "# Income status by region\n",
    "crosstab_income_region = pd.crosstab(df_customer_profile['Region'],df_customer_profile['Income Level'], dropna=False )"
   ]
  },
  {
   "cell_type": "code",
   "execution_count": 144,
   "id": "dd50bb80",
   "metadata": {
    "scrolled": false
   },
   "outputs": [
    {
     "data": {
      "text/html": [
       "<div>\n",
       "<style scoped>\n",
       "    .dataframe tbody tr th:only-of-type {\n",
       "        vertical-align: middle;\n",
       "    }\n",
       "\n",
       "    .dataframe tbody tr th {\n",
       "        vertical-align: top;\n",
       "    }\n",
       "\n",
       "    .dataframe thead th {\n",
       "        text-align: right;\n",
       "    }\n",
       "</style>\n",
       "<table border=\"1\" class=\"dataframe\">\n",
       "  <thead>\n",
       "    <tr style=\"text-align: right;\">\n",
       "      <th>Income Level</th>\n",
       "      <th>Higher Income</th>\n",
       "      <th>Lower Income</th>\n",
       "      <th>Middle Income</th>\n",
       "    </tr>\n",
       "    <tr>\n",
       "      <th>Region</th>\n",
       "      <th></th>\n",
       "      <th></th>\n",
       "      <th></th>\n",
       "    </tr>\n",
       "  </thead>\n",
       "  <tbody>\n",
       "    <tr>\n",
       "      <th>Midwest</th>\n",
       "      <td>1456024</td>\n",
       "      <td>370703</td>\n",
       "      <td>3885029</td>\n",
       "    </tr>\n",
       "    <tr>\n",
       "      <th>Northeast</th>\n",
       "      <td>1083488</td>\n",
       "      <td>288083</td>\n",
       "      <td>2943700</td>\n",
       "    </tr>\n",
       "    <tr>\n",
       "      <th>South</th>\n",
       "      <td>2018129</td>\n",
       "      <td>554057</td>\n",
       "      <td>5556900</td>\n",
       "    </tr>\n",
       "    <tr>\n",
       "      <th>West</th>\n",
       "      <td>1566361</td>\n",
       "      <td>405571</td>\n",
       "      <td>4286832</td>\n",
       "    </tr>\n",
       "  </tbody>\n",
       "</table>\n",
       "</div>"
      ],
      "text/plain": [
       "Income Level  Higher Income  Lower Income  Middle Income\n",
       "Region                                                  \n",
       "Midwest             1456024        370703        3885029\n",
       "Northeast           1083488        288083        2943700\n",
       "South               2018129        554057        5556900\n",
       "West                1566361        405571        4286832"
      ]
     },
     "execution_count": 144,
     "metadata": {},
     "output_type": "execute_result"
    }
   ],
   "source": [
    "crosstab_income_region"
   ]
  },
  {
   "cell_type": "code",
   "execution_count": 161,
   "id": "b07d74f1",
   "metadata": {},
   "outputs": [
    {
     "data": {
      "image/png": "[encoded data removed]",
      "text/plain": [
       "<Figure size 432x288 with 1 Axes>"
      ]
     },
     "metadata": {
      "needs_background": "light"
     },
     "output_type": "display_data"
    }
   ],
   "source": [
    "# Stacked bar plot for parent region\n",
    "income_region_stacked_bar = crosstab_income_region.plot.bar(stacked= True, title = 'Income level status and Region Relationship')"
   ]
  },
  {
   "cell_type": "code",
   "execution_count": 162,
   "id": "dab613d5",
   "metadata": {},
   "outputs": [],
   "source": [
    "# Exporting bar chart\n",
    "income_region_stacked_bar.figure.savefig(os.path.join(path, 'Analysis','Visualization', 'income_region_stacked_bar.png'))"
   ]
  },
  {
   "cell_type": "markdown",
   "id": "6f7dc713",
   "metadata": {},
   "source": [
    "# Alcohol drinkers profile with department and region"
   ]
  },
  {
   "cell_type": "code",
   "execution_count": 145,
   "id": "c1b5e805",
   "metadata": {},
   "outputs": [],
   "source": [
    "# Alcohol drinkers status by department\n",
    "crosstab_alcohol_dept = pd.crosstab(df_customer_profile['department_id'],df_customer_profile['Alcohol Drinker'], dropna=False )"
   ]
  },
  {
   "cell_type": "code",
   "execution_count": 146,
   "id": "395394e0",
   "metadata": {},
   "outputs": [
    {
     "data": {
      "text/html": [
       "<div>\n",
       "<style scoped>\n",
       "    .dataframe tbody tr th:only-of-type {\n",
       "        vertical-align: middle;\n",
       "    }\n",
       "\n",
       "    .dataframe tbody tr th {\n",
       "        vertical-align: top;\n",
       "    }\n",
       "\n",
       "    .dataframe thead th {\n",
       "        text-align: right;\n",
       "    }\n",
       "</style>\n",
       "<table border=\"1\" class=\"dataframe\">\n",
       "  <thead>\n",
       "    <tr style=\"text-align: right;\">\n",
       "      <th>Alcohol Drinker</th>\n",
       "      <th>Alcohol Drinker</th>\n",
       "      <th>Not Alcohol Drinker</th>\n",
       "    </tr>\n",
       "    <tr>\n",
       "      <th>department_id</th>\n",
       "      <th></th>\n",
       "      <th></th>\n",
       "    </tr>\n",
       "  </thead>\n",
       "  <tbody>\n",
       "    <tr>\n",
       "      <th>1</th>\n",
       "      <td>109212</td>\n",
       "      <td>1518402</td>\n",
       "    </tr>\n",
       "    <tr>\n",
       "      <th>2</th>\n",
       "      <td>4618</td>\n",
       "      <td>22548</td>\n",
       "    </tr>\n",
       "    <tr>\n",
       "      <th>3</th>\n",
       "      <td>74727</td>\n",
       "      <td>808603</td>\n",
       "    </tr>\n",
       "    <tr>\n",
       "      <th>4</th>\n",
       "      <td>293108</td>\n",
       "      <td>6933983</td>\n",
       "    </tr>\n",
       "    <tr>\n",
       "      <th>5</th>\n",
       "      <td>107972</td>\n",
       "      <td>0</td>\n",
       "    </tr>\n",
       "    <tr>\n",
       "      <th>6</th>\n",
       "      <td>14550</td>\n",
       "      <td>183350</td>\n",
       "    </tr>\n",
       "    <tr>\n",
       "      <th>7</th>\n",
       "      <td>180859</td>\n",
       "      <td>1855588</td>\n",
       "    </tr>\n",
       "    <tr>\n",
       "      <th>8</th>\n",
       "      <td>12780</td>\n",
       "      <td>59331</td>\n",
       "    </tr>\n",
       "    <tr>\n",
       "      <th>9</th>\n",
       "      <td>43777</td>\n",
       "      <td>589948</td>\n",
       "    </tr>\n",
       "    <tr>\n",
       "      <th>10</th>\n",
       "      <td>371</td>\n",
       "      <td>27187</td>\n",
       "    </tr>\n",
       "    <tr>\n",
       "      <th>11</th>\n",
       "      <td>26642</td>\n",
       "      <td>301838</td>\n",
       "    </tr>\n",
       "    <tr>\n",
       "      <th>12</th>\n",
       "      <td>36112</td>\n",
       "      <td>487778</td>\n",
       "    </tr>\n",
       "    <tr>\n",
       "      <th>13</th>\n",
       "      <td>105846</td>\n",
       "      <td>1279529</td>\n",
       "    </tr>\n",
       "    <tr>\n",
       "      <th>14</th>\n",
       "      <td>36902</td>\n",
       "      <td>488043</td>\n",
       "    </tr>\n",
       "    <tr>\n",
       "      <th>15</th>\n",
       "      <td>54261</td>\n",
       "      <td>733529</td>\n",
       "    </tr>\n",
       "    <tr>\n",
       "      <th>16</th>\n",
       "      <td>251244</td>\n",
       "      <td>3869244</td>\n",
       "    </tr>\n",
       "    <tr>\n",
       "      <th>17</th>\n",
       "      <td>71601</td>\n",
       "      <td>467748</td>\n",
       "    </tr>\n",
       "    <tr>\n",
       "      <th>18</th>\n",
       "      <td>10520</td>\n",
       "      <td>325427</td>\n",
       "    </tr>\n",
       "    <tr>\n",
       "      <th>19</th>\n",
       "      <td>153380</td>\n",
       "      <td>2033741</td>\n",
       "    </tr>\n",
       "    <tr>\n",
       "      <th>20</th>\n",
       "      <td>44043</td>\n",
       "      <td>738968</td>\n",
       "    </tr>\n",
       "    <tr>\n",
       "      <th>21</th>\n",
       "      <td>2292</td>\n",
       "      <td>55275</td>\n",
       "    </tr>\n",
       "  </tbody>\n",
       "</table>\n",
       "</div>"
      ],
      "text/plain": [
       "Alcohol Drinker  Alcohol Drinker  Not Alcohol Drinker\n",
       "department_id                                        \n",
       "1                         109212              1518402\n",
       "2                           4618                22548\n",
       "3                          74727               808603\n",
       "4                         293108              6933983\n",
       "5                         107972                    0\n",
       "6                          14550               183350\n",
       "7                         180859              1855588\n",
       "8                          12780                59331\n",
       "9                          43777               589948\n",
       "10                           371                27187\n",
       "11                         26642               301838\n",
       "12                         36112               487778\n",
       "13                        105846              1279529\n",
       "14                         36902               488043\n",
       "15                         54261               733529\n",
       "16                        251244              3869244\n",
       "17                         71601               467748\n",
       "18                         10520               325427\n",
       "19                        153380              2033741\n",
       "20                         44043               738968\n",
       "21                          2292                55275"
      ]
     },
     "execution_count": 146,
     "metadata": {},
     "output_type": "execute_result"
    }
   ],
   "source": [
    "crosstab_alcohol_dept"
   ]
  },
  {
   "cell_type": "code",
   "execution_count": 163,
   "id": "b711a194",
   "metadata": {
    "scrolled": true
   },
   "outputs": [
    {
     "data": {
      "image/png": "[encoded data removed]",
      "text/plain": [
       "<Figure size 432x288 with 1 Axes>"
      ]
     },
     "metadata": {
      "needs_background": "light"
     },
     "output_type": "display_data"
    }
   ],
   "source": [
    "# Stacked bar plot for parent department\n",
    "alcohol_dept_stacked_bar = crosstab_alcohol_dept.plot.bar(stacked= True, title = 'Alcohol drinkers and Department Relationship')"
   ]
  },
  {
   "cell_type": "code",
   "execution_count": 164,
   "id": "619e56f3",
   "metadata": {},
   "outputs": [],
   "source": [
    "# Exporting bar chart\n",
    "alcohol_dept_stacked_bar.figure.savefig(os.path.join(path, 'Analysis','Visualization', 'alcohol_dept_stacked_bar.png'))"
   ]
  },
  {
   "cell_type": "code",
   "execution_count": 147,
   "id": "99e67b2e",
   "metadata": {},
   "outputs": [],
   "source": [
    "# Alcohol drinker status by region\n",
    "crosstab_alcohol_region = pd.crosstab(df_customer_profile['Region'],df_customer_profile['Alcohol Drinker'], dropna=False )"
   ]
  },
  {
   "cell_type": "code",
   "execution_count": 148,
   "id": "f7e2762d",
   "metadata": {
    "scrolled": true
   },
   "outputs": [
    {
     "data": {
      "text/html": [
       "<div>\n",
       "<style scoped>\n",
       "    .dataframe tbody tr th:only-of-type {\n",
       "        vertical-align: middle;\n",
       "    }\n",
       "\n",
       "    .dataframe tbody tr th {\n",
       "        vertical-align: top;\n",
       "    }\n",
       "\n",
       "    .dataframe thead th {\n",
       "        text-align: right;\n",
       "    }\n",
       "</style>\n",
       "<table border=\"1\" class=\"dataframe\">\n",
       "  <thead>\n",
       "    <tr style=\"text-align: right;\">\n",
       "      <th>Alcohol Drinker</th>\n",
       "      <th>Alcohol Drinker</th>\n",
       "      <th>Not Alcohol Drinker</th>\n",
       "    </tr>\n",
       "    <tr>\n",
       "      <th>Region</th>\n",
       "      <th></th>\n",
       "      <th></th>\n",
       "    </tr>\n",
       "  </thead>\n",
       "  <tbody>\n",
       "    <tr>\n",
       "      <th>Midwest</th>\n",
       "      <td>377761</td>\n",
       "      <td>5333995</td>\n",
       "    </tr>\n",
       "    <tr>\n",
       "      <th>Northeast</th>\n",
       "      <td>273088</td>\n",
       "      <td>4042183</td>\n",
       "    </tr>\n",
       "    <tr>\n",
       "      <th>South</th>\n",
       "      <td>559573</td>\n",
       "      <td>7569513</td>\n",
       "    </tr>\n",
       "    <tr>\n",
       "      <th>West</th>\n",
       "      <td>424395</td>\n",
       "      <td>5834369</td>\n",
       "    </tr>\n",
       "  </tbody>\n",
       "</table>\n",
       "</div>"
      ],
      "text/plain": [
       "Alcohol Drinker  Alcohol Drinker  Not Alcohol Drinker\n",
       "Region                                               \n",
       "Midwest                   377761              5333995\n",
       "Northeast                 273088              4042183\n",
       "South                     559573              7569513\n",
       "West                      424395              5834369"
      ]
     },
     "execution_count": 148,
     "metadata": {},
     "output_type": "execute_result"
    }
   ],
   "source": [
    "crosstab_alcohol_region"
   ]
  },
  {
   "cell_type": "code",
   "execution_count": 165,
   "id": "72985175",
   "metadata": {},
   "outputs": [
    {
     "data": {
      "image/png": "[encoded data removed]",
      "text/plain": [
       "<Figure size 432x288 with 1 Axes>"
      ]
     },
     "metadata": {
      "needs_background": "light"
     },
     "output_type": "display_data"
    }
   ],
   "source": [
    "# Stacked bar plot for parent region\n",
    "alcohol_region_stacked_bar = crosstab_alcohol_region.plot.bar(stacked= True, title = 'Alcohol drinkers and Region Relationship')"
   ]
  },
  {
   "cell_type": "code",
   "execution_count": 166,
   "id": "550f742f",
   "metadata": {},
   "outputs": [],
   "source": [
    "# Exporting bar chart\n",
    "alcohol_region_stacked_bar.figure.savefig(os.path.join(path, 'Analysis','Visualization', 'alcohol_region_stacked_bar.png'))"
   ]
  },
  {
   "cell_type": "markdown",
   "id": "7d7fe192",
   "metadata": {},
   "source": [
    "# Breakfast buyers profile with department and region"
   ]
  },
  {
   "cell_type": "code",
   "execution_count": 150,
   "id": "be15836b",
   "metadata": {},
   "outputs": [],
   "source": [
    "# Breakfast buyers status by department\n",
    "crosstab_breakfast_dept = pd.crosstab(df_customer_profile['department_id'],df_customer_profile['Breakfast Buyer'], dropna=False )"
   ]
  },
  {
   "cell_type": "code",
   "execution_count": 151,
   "id": "9cd50072",
   "metadata": {},
   "outputs": [
    {
     "data": {
      "text/html": [
       "<div>\n",
       "<style scoped>\n",
       "    .dataframe tbody tr th:only-of-type {\n",
       "        vertical-align: middle;\n",
       "    }\n",
       "\n",
       "    .dataframe tbody tr th {\n",
       "        vertical-align: top;\n",
       "    }\n",
       "\n",
       "    .dataframe thead th {\n",
       "        text-align: right;\n",
       "    }\n",
       "</style>\n",
       "<table border=\"1\" class=\"dataframe\">\n",
       "  <thead>\n",
       "    <tr style=\"text-align: right;\">\n",
       "      <th>Breakfast Buyer</th>\n",
       "      <th>Breakfast Buyer</th>\n",
       "      <th>Not Breakfast Buyer</th>\n",
       "    </tr>\n",
       "    <tr>\n",
       "      <th>department_id</th>\n",
       "      <th></th>\n",
       "      <th></th>\n",
       "    </tr>\n",
       "  </thead>\n",
       "  <tbody>\n",
       "    <tr>\n",
       "      <th>1</th>\n",
       "      <td>1265568</td>\n",
       "      <td>362046</td>\n",
       "    </tr>\n",
       "    <tr>\n",
       "      <th>2</th>\n",
       "      <td>20351</td>\n",
       "      <td>6815</td>\n",
       "    </tr>\n",
       "    <tr>\n",
       "      <th>3</th>\n",
       "      <td>716924</td>\n",
       "      <td>166406</td>\n",
       "    </tr>\n",
       "    <tr>\n",
       "      <th>4</th>\n",
       "      <td>5382347</td>\n",
       "      <td>1844744</td>\n",
       "    </tr>\n",
       "    <tr>\n",
       "      <th>5</th>\n",
       "      <td>62514</td>\n",
       "      <td>45458</td>\n",
       "    </tr>\n",
       "    <tr>\n",
       "      <th>6</th>\n",
       "      <td>151796</td>\n",
       "      <td>46104</td>\n",
       "    </tr>\n",
       "    <tr>\n",
       "      <th>7</th>\n",
       "      <td>1510261</td>\n",
       "      <td>526186</td>\n",
       "    </tr>\n",
       "    <tr>\n",
       "      <th>8</th>\n",
       "      <td>52505</td>\n",
       "      <td>19606</td>\n",
       "    </tr>\n",
       "    <tr>\n",
       "      <th>9</th>\n",
       "      <td>508713</td>\n",
       "      <td>125012</td>\n",
       "    </tr>\n",
       "    <tr>\n",
       "      <th>10</th>\n",
       "      <td>20459</td>\n",
       "      <td>7099</td>\n",
       "    </tr>\n",
       "    <tr>\n",
       "      <th>11</th>\n",
       "      <td>250226</td>\n",
       "      <td>78254</td>\n",
       "    </tr>\n",
       "    <tr>\n",
       "      <th>12</th>\n",
       "      <td>395999</td>\n",
       "      <td>127891</td>\n",
       "    </tr>\n",
       "    <tr>\n",
       "      <th>13</th>\n",
       "      <td>1069784</td>\n",
       "      <td>315591</td>\n",
       "    </tr>\n",
       "    <tr>\n",
       "      <th>14</th>\n",
       "      <td>524945</td>\n",
       "      <td>0</td>\n",
       "    </tr>\n",
       "    <tr>\n",
       "      <th>15</th>\n",
       "      <td>607913</td>\n",
       "      <td>179877</td>\n",
       "    </tr>\n",
       "    <tr>\n",
       "      <th>16</th>\n",
       "      <td>3248096</td>\n",
       "      <td>872392</td>\n",
       "    </tr>\n",
       "    <tr>\n",
       "      <th>17</th>\n",
       "      <td>407045</td>\n",
       "      <td>132304</td>\n",
       "    </tr>\n",
       "    <tr>\n",
       "      <th>18</th>\n",
       "      <td>286039</td>\n",
       "      <td>49908</td>\n",
       "    </tr>\n",
       "    <tr>\n",
       "      <th>19</th>\n",
       "      <td>1751171</td>\n",
       "      <td>435950</td>\n",
       "    </tr>\n",
       "    <tr>\n",
       "      <th>20</th>\n",
       "      <td>604330</td>\n",
       "      <td>178681</td>\n",
       "    </tr>\n",
       "    <tr>\n",
       "      <th>21</th>\n",
       "      <td>42246</td>\n",
       "      <td>15321</td>\n",
       "    </tr>\n",
       "  </tbody>\n",
       "</table>\n",
       "</div>"
      ],
      "text/plain": [
       "Breakfast Buyer  Breakfast Buyer  Not Breakfast Buyer\n",
       "department_id                                        \n",
       "1                        1265568               362046\n",
       "2                          20351                 6815\n",
       "3                         716924               166406\n",
       "4                        5382347              1844744\n",
       "5                          62514                45458\n",
       "6                         151796                46104\n",
       "7                        1510261               526186\n",
       "8                          52505                19606\n",
       "9                         508713               125012\n",
       "10                         20459                 7099\n",
       "11                        250226                78254\n",
       "12                        395999               127891\n",
       "13                       1069784               315591\n",
       "14                        524945                    0\n",
       "15                        607913               179877\n",
       "16                       3248096               872392\n",
       "17                        407045               132304\n",
       "18                        286039                49908\n",
       "19                       1751171               435950\n",
       "20                        604330               178681\n",
       "21                         42246                15321"
      ]
     },
     "execution_count": 151,
     "metadata": {},
     "output_type": "execute_result"
    }
   ],
   "source": [
    "crosstab_breakfast_dept"
   ]
  },
  {
   "cell_type": "code",
   "execution_count": 167,
   "id": "5833c41a",
   "metadata": {},
   "outputs": [
    {
     "data": {
      "image/png": "[encoded data removed]",
      "text/plain": [
       "<Figure size 432x288 with 1 Axes>"
      ]
     },
     "metadata": {
      "needs_background": "light"
     },
     "output_type": "display_data"
    }
   ],
   "source": [
    "# Stacked bar plot for parent department\n",
    "breakfast_dept_stacked_bar = crosstab_breakfast_dept.plot.bar(stacked= True, title = 'Breakfast buyers and Department Relationship')"
   ]
  },
  {
   "cell_type": "code",
   "execution_count": 168,
   "id": "b3a0db98",
   "metadata": {},
   "outputs": [],
   "source": [
    "# Exporting bar chart\n",
    "breakfast_dept_stacked_bar.figure.savefig(os.path.join(path, 'Analysis','Visualization', 'breakfast_dept_stacked_bar.png'))"
   ]
  },
  {
   "cell_type": "code",
   "execution_count": 152,
   "id": "a88ccbb1",
   "metadata": {},
   "outputs": [],
   "source": [
    "# Breakfast buyers status by region\n",
    "crosstab_breakfast_region = pd.crosstab(df_customer_profile['Region'],df_customer_profile['Breakfast Buyer'], dropna=False )"
   ]
  },
  {
   "cell_type": "code",
   "execution_count": 153,
   "id": "9df5f0eb",
   "metadata": {
    "scrolled": true
   },
   "outputs": [
    {
     "data": {
      "text/html": [
       "<div>\n",
       "<style scoped>\n",
       "    .dataframe tbody tr th:only-of-type {\n",
       "        vertical-align: middle;\n",
       "    }\n",
       "\n",
       "    .dataframe tbody tr th {\n",
       "        vertical-align: top;\n",
       "    }\n",
       "\n",
       "    .dataframe thead th {\n",
       "        text-align: right;\n",
       "    }\n",
       "</style>\n",
       "<table border=\"1\" class=\"dataframe\">\n",
       "  <thead>\n",
       "    <tr style=\"text-align: right;\">\n",
       "      <th>Breakfast Buyer</th>\n",
       "      <th>Breakfast Buyer</th>\n",
       "      <th>Not Breakfast Buyer</th>\n",
       "    </tr>\n",
       "    <tr>\n",
       "      <th>Region</th>\n",
       "      <th></th>\n",
       "      <th></th>\n",
       "    </tr>\n",
       "  </thead>\n",
       "  <tbody>\n",
       "    <tr>\n",
       "      <th>Midwest</th>\n",
       "      <td>4391872</td>\n",
       "      <td>1319884</td>\n",
       "    </tr>\n",
       "    <tr>\n",
       "      <th>Northeast</th>\n",
       "      <td>3333598</td>\n",
       "      <td>981673</td>\n",
       "    </tr>\n",
       "    <tr>\n",
       "      <th>South</th>\n",
       "      <td>6281781</td>\n",
       "      <td>1847305</td>\n",
       "    </tr>\n",
       "    <tr>\n",
       "      <th>West</th>\n",
       "      <td>4871981</td>\n",
       "      <td>1386783</td>\n",
       "    </tr>\n",
       "  </tbody>\n",
       "</table>\n",
       "</div>"
      ],
      "text/plain": [
       "Breakfast Buyer  Breakfast Buyer  Not Breakfast Buyer\n",
       "Region                                               \n",
       "Midwest                  4391872              1319884\n",
       "Northeast                3333598               981673\n",
       "South                    6281781              1847305\n",
       "West                     4871981              1386783"
      ]
     },
     "execution_count": 153,
     "metadata": {},
     "output_type": "execute_result"
    }
   ],
   "source": [
    "crosstab_breakfast_region"
   ]
  },
  {
   "cell_type": "code",
   "execution_count": 169,
   "id": "0149f9a5",
   "metadata": {},
   "outputs": [
    {
     "data": {
      "image/png": "[encoded data removed]",
      "text/plain": [
       "<Figure size 432x288 with 1 Axes>"
      ]
     },
     "metadata": {
      "needs_background": "light"
     },
     "output_type": "display_data"
    }
   ],
   "source": [
    "# Stacked bar plot for parent region\n",
    "breakfast_region_stacked_bar = crosstab_breakfast_region.plot.bar(stacked= True, title = 'Breakfast buyers and Region Relationship')"
   ]
  },
  {
   "cell_type": "code",
   "execution_count": 170,
   "id": "c8e136b7",
   "metadata": {},
   "outputs": [],
   "source": [
    "# Exporting bar chart\n",
    "breakfast_region_stacked_bar.figure.savefig(os.path.join(path, 'Analysis','Visualization', 'breakfast_region_stacked_bar.png'))"
   ]
  },
  {
   "cell_type": "code",
   "execution_count": 171,
   "id": "4bc706b7",
   "metadata": {},
   "outputs": [],
   "source": [
    "#Export df_final_data with all new changes\n",
    "\n",
    "df_final_data.to_pickle(os.path.join(path,'Data','Prepared_data', 'Final_data_Task10.pkl'))"
   ]
  },
  {
   "cell_type": "code",
   "execution_count": null,
   "id": "3775abb7",
   "metadata": {},
   "outputs": [],
   "source": []
  }
 ],
 "metadata": {
  "kernelspec": {
   "display_name": "Python 3",
   "language": "python",
   "name": "python3"
  },
  "language_info": {
   "codemirror_mode": {
    "name": "ipython",
    "version": 3
   },
   "file_extension": ".py",
   "mimetype": "text/x-python",
   "name": "python",
   "nbconvert_exporter": "python",
   "pygments_lexer": "ipython3",
   "version": "3.8.8"
  }
 },
 "nbformat": 4,
 "nbformat_minor": 5
}
