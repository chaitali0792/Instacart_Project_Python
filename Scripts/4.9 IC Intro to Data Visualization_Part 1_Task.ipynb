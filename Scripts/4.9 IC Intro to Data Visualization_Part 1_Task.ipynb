{
 "cells": [
  {
   "cell_type": "markdown",
   "id": "1c301b22",
   "metadata": {},
   "source": [
    "# CONTENT LIST\n",
    "1. Importing libraries\n",
    "2. Importing customers data\n",
    "3. Exploring the customers data\n",
    "4. Renaming the column names\n",
    "5. Changing the data types\n",
    "6. Data consistency check\n",
    "7. Combining and exporting the datasets"
   ]
  },
  {
   "cell_type": "markdown",
   "id": "3991718b",
   "metadata": {},
   "source": [
    "# 01 Importing libraries"
   ]
  },
  {
   "cell_type": "code",
   "execution_count": 1,
   "id": "ab88498a",
   "metadata": {},
   "outputs": [],
   "source": [
    "# Importing libraries\n",
    "import pandas as pd\n",
    "import numpy as np\n",
    "import os"
   ]
  },
  {
   "cell_type": "markdown",
   "id": "9057cc50",
   "metadata": {},
   "source": [
    "# 02 Importing customers data\n"
   ]
  },
  {
   "cell_type": "code",
   "execution_count": 2,
   "id": "b3c761cc",
   "metadata": {},
   "outputs": [],
   "source": [
    "# Creating common folder path\n",
    "path = r'C:\\Users\\Mukund\\Desktop\\Career Foundry\\Instacart_Grocery_Basket_Analysis_May_2021'"
   ]
  },
  {
   "cell_type": "code",
   "execution_count": 3,
   "id": "687fd49b",
   "metadata": {
    "scrolled": true
   },
   "outputs": [
    {
     "data": {
      "text/plain": [
       "'C:\\\\Users\\\\Mukund\\\\Desktop\\\\Career Foundry\\\\Instacart_Grocery_Basket_Analysis_May_2021'"
      ]
     },
     "execution_count": 3,
     "metadata": {},
     "output_type": "execute_result"
    }
   ],
   "source": [
    "path"
   ]
  },
  {
   "cell_type": "code",
   "execution_count": 4,
   "id": "ab1b2f83",
   "metadata": {},
   "outputs": [],
   "source": [
    "# Importing customers data using OS library\n",
    "df_customers = pd.read_csv(os.path.join(path, 'Data', 'Original_data', 'customers.csv'), index_col = False)"
   ]
  },
  {
   "cell_type": "markdown",
   "id": "ee12f15e",
   "metadata": {},
   "source": [
    "# 03 Exploring the customers data"
   ]
  },
  {
   "cell_type": "code",
   "execution_count": 5,
   "id": "fea298c4",
   "metadata": {},
   "outputs": [
    {
     "data": {
      "text/html": [
       "<div>\n",
       "<style scoped>\n",
       "    .dataframe tbody tr th:only-of-type {\n",
       "        vertical-align: middle;\n",
       "    }\n",
       "\n",
       "    .dataframe tbody tr th {\n",
       "        vertical-align: top;\n",
       "    }\n",
       "\n",
       "    .dataframe thead th {\n",
       "        text-align: right;\n",
       "    }\n",
       "</style>\n",
       "<table border=\"1\" class=\"dataframe\">\n",
       "  <thead>\n",
       "    <tr style=\"text-align: right;\">\n",
       "      <th></th>\n",
       "      <th>user_id</th>\n",
       "      <th>First Name</th>\n",
       "      <th>Surnam</th>\n",
       "      <th>Gender</th>\n",
       "      <th>STATE</th>\n",
       "      <th>Age</th>\n",
       "      <th>date_joined</th>\n",
       "      <th>n_dependants</th>\n",
       "      <th>fam_status</th>\n",
       "      <th>income</th>\n",
       "    </tr>\n",
       "  </thead>\n",
       "  <tbody>\n",
       "    <tr>\n",
       "      <th>0</th>\n",
       "      <td>26711</td>\n",
       "      <td>Deborah</td>\n",
       "      <td>Esquivel</td>\n",
       "      <td>Female</td>\n",
       "      <td>Missouri</td>\n",
       "      <td>48</td>\n",
       "      <td>1/1/2017</td>\n",
       "      <td>3</td>\n",
       "      <td>married</td>\n",
       "      <td>165665</td>\n",
       "    </tr>\n",
       "    <tr>\n",
       "      <th>1</th>\n",
       "      <td>33890</td>\n",
       "      <td>Patricia</td>\n",
       "      <td>Hart</td>\n",
       "      <td>Female</td>\n",
       "      <td>New Mexico</td>\n",
       "      <td>36</td>\n",
       "      <td>1/1/2017</td>\n",
       "      <td>0</td>\n",
       "      <td>single</td>\n",
       "      <td>59285</td>\n",
       "    </tr>\n",
       "    <tr>\n",
       "      <th>2</th>\n",
       "      <td>65803</td>\n",
       "      <td>Kenneth</td>\n",
       "      <td>Farley</td>\n",
       "      <td>Male</td>\n",
       "      <td>Idaho</td>\n",
       "      <td>35</td>\n",
       "      <td>1/1/2017</td>\n",
       "      <td>2</td>\n",
       "      <td>married</td>\n",
       "      <td>99568</td>\n",
       "    </tr>\n",
       "    <tr>\n",
       "      <th>3</th>\n",
       "      <td>125935</td>\n",
       "      <td>Michelle</td>\n",
       "      <td>Hicks</td>\n",
       "      <td>Female</td>\n",
       "      <td>Iowa</td>\n",
       "      <td>40</td>\n",
       "      <td>1/1/2017</td>\n",
       "      <td>0</td>\n",
       "      <td>single</td>\n",
       "      <td>42049</td>\n",
       "    </tr>\n",
       "    <tr>\n",
       "      <th>4</th>\n",
       "      <td>130797</td>\n",
       "      <td>Ann</td>\n",
       "      <td>Gilmore</td>\n",
       "      <td>Female</td>\n",
       "      <td>Maryland</td>\n",
       "      <td>26</td>\n",
       "      <td>1/1/2017</td>\n",
       "      <td>1</td>\n",
       "      <td>married</td>\n",
       "      <td>40374</td>\n",
       "    </tr>\n",
       "    <tr>\n",
       "      <th>...</th>\n",
       "      <td>...</td>\n",
       "      <td>...</td>\n",
       "      <td>...</td>\n",
       "      <td>...</td>\n",
       "      <td>...</td>\n",
       "      <td>...</td>\n",
       "      <td>...</td>\n",
       "      <td>...</td>\n",
       "      <td>...</td>\n",
       "      <td>...</td>\n",
       "    </tr>\n",
       "    <tr>\n",
       "      <th>206204</th>\n",
       "      <td>168073</td>\n",
       "      <td>Lisa</td>\n",
       "      <td>Case</td>\n",
       "      <td>Female</td>\n",
       "      <td>North Carolina</td>\n",
       "      <td>44</td>\n",
       "      <td>4/1/2020</td>\n",
       "      <td>1</td>\n",
       "      <td>married</td>\n",
       "      <td>148828</td>\n",
       "    </tr>\n",
       "    <tr>\n",
       "      <th>206205</th>\n",
       "      <td>49635</td>\n",
       "      <td>Jeremy</td>\n",
       "      <td>Robbins</td>\n",
       "      <td>Male</td>\n",
       "      <td>Hawaii</td>\n",
       "      <td>62</td>\n",
       "      <td>4/1/2020</td>\n",
       "      <td>3</td>\n",
       "      <td>married</td>\n",
       "      <td>168639</td>\n",
       "    </tr>\n",
       "    <tr>\n",
       "      <th>206206</th>\n",
       "      <td>135902</td>\n",
       "      <td>Doris</td>\n",
       "      <td>Richmond</td>\n",
       "      <td>Female</td>\n",
       "      <td>Missouri</td>\n",
       "      <td>66</td>\n",
       "      <td>4/1/2020</td>\n",
       "      <td>2</td>\n",
       "      <td>married</td>\n",
       "      <td>53374</td>\n",
       "    </tr>\n",
       "    <tr>\n",
       "      <th>206207</th>\n",
       "      <td>81095</td>\n",
       "      <td>Rose</td>\n",
       "      <td>Rollins</td>\n",
       "      <td>Female</td>\n",
       "      <td>California</td>\n",
       "      <td>27</td>\n",
       "      <td>4/1/2020</td>\n",
       "      <td>1</td>\n",
       "      <td>married</td>\n",
       "      <td>99799</td>\n",
       "    </tr>\n",
       "    <tr>\n",
       "      <th>206208</th>\n",
       "      <td>80148</td>\n",
       "      <td>Cynthia</td>\n",
       "      <td>Noble</td>\n",
       "      <td>Female</td>\n",
       "      <td>New York</td>\n",
       "      <td>55</td>\n",
       "      <td>4/1/2020</td>\n",
       "      <td>1</td>\n",
       "      <td>married</td>\n",
       "      <td>57095</td>\n",
       "    </tr>\n",
       "  </tbody>\n",
       "</table>\n",
       "<p>206209 rows × 10 columns</p>\n",
       "</div>"
      ],
      "text/plain": [
       "        user_id First Name    Surnam  Gender           STATE  Age date_joined  \\\n",
       "0         26711    Deborah  Esquivel  Female        Missouri   48    1/1/2017   \n",
       "1         33890   Patricia      Hart  Female      New Mexico   36    1/1/2017   \n",
       "2         65803    Kenneth    Farley    Male           Idaho   35    1/1/2017   \n",
       "3        125935   Michelle     Hicks  Female            Iowa   40    1/1/2017   \n",
       "4        130797        Ann   Gilmore  Female        Maryland   26    1/1/2017   \n",
       "...         ...        ...       ...     ...             ...  ...         ...   \n",
       "206204   168073       Lisa      Case  Female  North Carolina   44    4/1/2020   \n",
       "206205    49635     Jeremy   Robbins    Male          Hawaii   62    4/1/2020   \n",
       "206206   135902      Doris  Richmond  Female        Missouri   66    4/1/2020   \n",
       "206207    81095       Rose   Rollins  Female      California   27    4/1/2020   \n",
       "206208    80148    Cynthia     Noble  Female        New York   55    4/1/2020   \n",
       "\n",
       "        n_dependants fam_status  income  \n",
       "0                  3    married  165665  \n",
       "1                  0     single   59285  \n",
       "2                  2    married   99568  \n",
       "3                  0     single   42049  \n",
       "4                  1    married   40374  \n",
       "...              ...        ...     ...  \n",
       "206204             1    married  148828  \n",
       "206205             3    married  168639  \n",
       "206206             2    married   53374  \n",
       "206207             1    married   99799  \n",
       "206208             1    married   57095  \n",
       "\n",
       "[206209 rows x 10 columns]"
      ]
     },
     "execution_count": 5,
     "metadata": {},
     "output_type": "execute_result"
    }
   ],
   "source": [
    "# checking the rows and columns\n",
    "df_customers"
   ]
  },
  {
   "cell_type": "code",
   "execution_count": 6,
   "id": "13e27eb5",
   "metadata": {},
   "outputs": [
    {
     "name": "stdout",
     "output_type": "stream",
     "text": [
      "<class 'pandas.core.frame.DataFrame'>\n",
      "RangeIndex: 206209 entries, 0 to 206208\n",
      "Data columns (total 10 columns):\n",
      " #   Column        Non-Null Count   Dtype \n",
      "---  ------        --------------   ----- \n",
      " 0   user_id       206209 non-null  int64 \n",
      " 1   First Name    194950 non-null  object\n",
      " 2   Surnam        206209 non-null  object\n",
      " 3   Gender        206209 non-null  object\n",
      " 4   STATE         206209 non-null  object\n",
      " 5   Age           206209 non-null  int64 \n",
      " 6   date_joined   206209 non-null  object\n",
      " 7   n_dependants  206209 non-null  int64 \n",
      " 8   fam_status    206209 non-null  object\n",
      " 9   income        206209 non-null  int64 \n",
      "dtypes: int64(4), object(6)\n",
      "memory usage: 15.7+ MB\n"
     ]
    }
   ],
   "source": [
    "# Checking some basic information of dataset\n",
    "df_customers.info()"
   ]
  },
  {
   "cell_type": "code",
   "execution_count": 7,
   "id": "189f383f",
   "metadata": {},
   "outputs": [
    {
     "data": {
      "text/html": [
       "<div>\n",
       "<style scoped>\n",
       "    .dataframe tbody tr th:only-of-type {\n",
       "        vertical-align: middle;\n",
       "    }\n",
       "\n",
       "    .dataframe tbody tr th {\n",
       "        vertical-align: top;\n",
       "    }\n",
       "\n",
       "    .dataframe thead th {\n",
       "        text-align: right;\n",
       "    }\n",
       "</style>\n",
       "<table border=\"1\" class=\"dataframe\">\n",
       "  <thead>\n",
       "    <tr style=\"text-align: right;\">\n",
       "      <th></th>\n",
       "      <th>user_id</th>\n",
       "      <th>Age</th>\n",
       "      <th>n_dependants</th>\n",
       "      <th>income</th>\n",
       "    </tr>\n",
       "  </thead>\n",
       "  <tbody>\n",
       "    <tr>\n",
       "      <th>count</th>\n",
       "      <td>206209.000000</td>\n",
       "      <td>206209.000000</td>\n",
       "      <td>206209.000000</td>\n",
       "      <td>206209.000000</td>\n",
       "    </tr>\n",
       "    <tr>\n",
       "      <th>mean</th>\n",
       "      <td>103105.000000</td>\n",
       "      <td>49.501646</td>\n",
       "      <td>1.499823</td>\n",
       "      <td>94632.852548</td>\n",
       "    </tr>\n",
       "    <tr>\n",
       "      <th>std</th>\n",
       "      <td>59527.555167</td>\n",
       "      <td>18.480962</td>\n",
       "      <td>1.118433</td>\n",
       "      <td>42473.786988</td>\n",
       "    </tr>\n",
       "    <tr>\n",
       "      <th>min</th>\n",
       "      <td>1.000000</td>\n",
       "      <td>18.000000</td>\n",
       "      <td>0.000000</td>\n",
       "      <td>25903.000000</td>\n",
       "    </tr>\n",
       "    <tr>\n",
       "      <th>25%</th>\n",
       "      <td>51553.000000</td>\n",
       "      <td>33.000000</td>\n",
       "      <td>0.000000</td>\n",
       "      <td>59874.000000</td>\n",
       "    </tr>\n",
       "    <tr>\n",
       "      <th>50%</th>\n",
       "      <td>103105.000000</td>\n",
       "      <td>49.000000</td>\n",
       "      <td>1.000000</td>\n",
       "      <td>93547.000000</td>\n",
       "    </tr>\n",
       "    <tr>\n",
       "      <th>75%</th>\n",
       "      <td>154657.000000</td>\n",
       "      <td>66.000000</td>\n",
       "      <td>3.000000</td>\n",
       "      <td>124244.000000</td>\n",
       "    </tr>\n",
       "    <tr>\n",
       "      <th>max</th>\n",
       "      <td>206209.000000</td>\n",
       "      <td>81.000000</td>\n",
       "      <td>3.000000</td>\n",
       "      <td>593901.000000</td>\n",
       "    </tr>\n",
       "  </tbody>\n",
       "</table>\n",
       "</div>"
      ],
      "text/plain": [
       "             user_id            Age   n_dependants         income\n",
       "count  206209.000000  206209.000000  206209.000000  206209.000000\n",
       "mean   103105.000000      49.501646       1.499823   94632.852548\n",
       "std     59527.555167      18.480962       1.118433   42473.786988\n",
       "min         1.000000      18.000000       0.000000   25903.000000\n",
       "25%     51553.000000      33.000000       0.000000   59874.000000\n",
       "50%    103105.000000      49.000000       1.000000   93547.000000\n",
       "75%    154657.000000      66.000000       3.000000  124244.000000\n",
       "max    206209.000000      81.000000       3.000000  593901.000000"
      ]
     },
     "execution_count": 7,
     "metadata": {},
     "output_type": "execute_result"
    }
   ],
   "source": [
    "# Checking descriptive statistics\n",
    "df_customers.describe()"
   ]
  },
  {
   "cell_type": "markdown",
   "id": "1be3fdd4",
   "metadata": {},
   "source": [
    "# 04 Renaming the column names"
   ]
  },
  {
   "cell_type": "code",
   "execution_count": 8,
   "id": "a36d029d",
   "metadata": {},
   "outputs": [],
   "source": [
    "df_customers.rename(columns = {'First Name' : 'First_Name','Surnam' : 'Surname','n_dependants':'No_of_dependants','fam_status':'Family_status','income':'Annual_income'}, inplace = True)"
   ]
  },
  {
   "cell_type": "markdown",
   "id": "8fc59390",
   "metadata": {},
   "source": [
    "# 05 Changing the data types"
   ]
  },
  {
   "cell_type": "code",
   "execution_count": 9,
   "id": "5bd11e33",
   "metadata": {},
   "outputs": [],
   "source": [
    "df_customers['First_Name'] = df_customers['First_Name'].astype('str')"
   ]
  },
  {
   "cell_type": "code",
   "execution_count": 10,
   "id": "ea7a196a",
   "metadata": {},
   "outputs": [],
   "source": [
    "df_customers['Surname'] = df_customers['Surname'].astype('category')"
   ]
  },
  {
   "cell_type": "code",
   "execution_count": 11,
   "id": "ce7c054f",
   "metadata": {},
   "outputs": [],
   "source": [
    "df_customers['Gender'] = df_customers['Gender'].astype('category')"
   ]
  },
  {
   "cell_type": "code",
   "execution_count": 12,
   "id": "b54d90b7",
   "metadata": {},
   "outputs": [],
   "source": [
    "df_customers['STATE'] = df_customers['STATE'].astype('category')"
   ]
  },
  {
   "cell_type": "code",
   "execution_count": 13,
   "id": "3204ee6b",
   "metadata": {},
   "outputs": [],
   "source": [
    "df_customers['Family_status'] = df_customers['Family_status'].astype('category')"
   ]
  },
  {
   "cell_type": "code",
   "execution_count": 14,
   "id": "194baf57",
   "metadata": {},
   "outputs": [],
   "source": [
    "df_customers['No_of_dependants'] = df_customers['No_of_dependants'].astype('int8')"
   ]
  },
  {
   "cell_type": "code",
   "execution_count": 15,
   "id": "8b30a3c7",
   "metadata": {},
   "outputs": [],
   "source": [
    "df_customers['Age'] = df_customers['Age'].astype('int8')"
   ]
  },
  {
   "cell_type": "code",
   "execution_count": 16,
   "id": "de6625a4",
   "metadata": {},
   "outputs": [
    {
     "name": "stdout",
     "output_type": "stream",
     "text": [
      "<class 'pandas.core.frame.DataFrame'>\n",
      "RangeIndex: 206209 entries, 0 to 206208\n",
      "Data columns (total 10 columns):\n",
      " #   Column            Non-Null Count   Dtype   \n",
      "---  ------            --------------   -----   \n",
      " 0   user_id           206209 non-null  int64   \n",
      " 1   First_Name        206209 non-null  object  \n",
      " 2   Surname           206209 non-null  category\n",
      " 3   Gender            206209 non-null  category\n",
      " 4   STATE             206209 non-null  category\n",
      " 5   Age               206209 non-null  int8    \n",
      " 6   date_joined       206209 non-null  object  \n",
      " 7   No_of_dependants  206209 non-null  int8    \n",
      " 8   Family_status     206209 non-null  category\n",
      " 9   Annual_income     206209 non-null  int64   \n",
      "dtypes: category(4), int64(2), int8(2), object(2)\n",
      "memory usage: 7.7+ MB\n"
     ]
    }
   ],
   "source": [
    "df_customers.info()"
   ]
  },
  {
   "cell_type": "markdown",
   "id": "e950d349",
   "metadata": {},
   "source": [
    "# 06 Data consistency check"
   ]
  },
  {
   "cell_type": "code",
   "execution_count": 17,
   "id": "b6f2537e",
   "metadata": {},
   "outputs": [],
   "source": [
    "# Checking for mixed-type data\n",
    "for col in df_customers.columns.tolist():\n",
    "  mixed_type = (df_customers[[col]].applymap(type) != df_customers[[col]].iloc[0].apply(type)).any(axis = 1)\n",
    "  if len (df_customers[mixed_type]) > 0:\n",
    "    print (col)"
   ]
  },
  {
   "cell_type": "markdown",
   "id": "e4547cd5",
   "metadata": {},
   "source": [
    "No Mixed-type data found"
   ]
  },
  {
   "cell_type": "code",
   "execution_count": 18,
   "id": "1a42f381",
   "metadata": {},
   "outputs": [
    {
     "data": {
      "text/plain": [
       "user_id             0\n",
       "First_Name          0\n",
       "Surname             0\n",
       "Gender              0\n",
       "STATE               0\n",
       "Age                 0\n",
       "date_joined         0\n",
       "No_of_dependants    0\n",
       "Family_status       0\n",
       "Annual_income       0\n",
       "dtype: int64"
      ]
     },
     "execution_count": 18,
     "metadata": {},
     "output_type": "execute_result"
    }
   ],
   "source": [
    "# Checking for missing values in customers data\n",
    "df_customers.isnull().sum()"
   ]
  },
  {
   "cell_type": "markdown",
   "id": "0c9a47bd",
   "metadata": {},
   "source": [
    "There are no missing values in dataset"
   ]
  },
  {
   "cell_type": "code",
   "execution_count": 19,
   "id": "1148511d",
   "metadata": {},
   "outputs": [],
   "source": [
    "# Checking for duplicates in customers data\n",
    "df_customers_dups = df_customers[df_customers.duplicated()]"
   ]
  },
  {
   "cell_type": "code",
   "execution_count": 20,
   "id": "266559e1",
   "metadata": {
    "scrolled": true
   },
   "outputs": [
    {
     "data": {
      "text/html": [
       "<div>\n",
       "<style scoped>\n",
       "    .dataframe tbody tr th:only-of-type {\n",
       "        vertical-align: middle;\n",
       "    }\n",
       "\n",
       "    .dataframe tbody tr th {\n",
       "        vertical-align: top;\n",
       "    }\n",
       "\n",
       "    .dataframe thead th {\n",
       "        text-align: right;\n",
       "    }\n",
       "</style>\n",
       "<table border=\"1\" class=\"dataframe\">\n",
       "  <thead>\n",
       "    <tr style=\"text-align: right;\">\n",
       "      <th></th>\n",
       "      <th>user_id</th>\n",
       "      <th>First_Name</th>\n",
       "      <th>Surname</th>\n",
       "      <th>Gender</th>\n",
       "      <th>STATE</th>\n",
       "      <th>Age</th>\n",
       "      <th>date_joined</th>\n",
       "      <th>No_of_dependants</th>\n",
       "      <th>Family_status</th>\n",
       "      <th>Annual_income</th>\n",
       "    </tr>\n",
       "  </thead>\n",
       "  <tbody>\n",
       "  </tbody>\n",
       "</table>\n",
       "</div>"
      ],
      "text/plain": [
       "Empty DataFrame\n",
       "Columns: [user_id, First_Name, Surname, Gender, STATE, Age, date_joined, No_of_dependants, Family_status, Annual_income]\n",
       "Index: []"
      ]
     },
     "execution_count": 20,
     "metadata": {},
     "output_type": "execute_result"
    }
   ],
   "source": [
    "df_customers_dups"
   ]
  },
  {
   "cell_type": "markdown",
   "id": "b39b6cbf",
   "metadata": {},
   "source": [
    "No duplicates found"
   ]
  },
  {
   "cell_type": "code",
   "execution_count": 21,
   "id": "e4514f97",
   "metadata": {},
   "outputs": [
    {
     "data": {
      "text/plain": [
       "206209"
      ]
     },
     "execution_count": 21,
     "metadata": {},
     "output_type": "execute_result"
    }
   ],
   "source": [
    "df_customers['user_id'].max()"
   ]
  },
  {
   "cell_type": "code",
   "execution_count": 22,
   "id": "95046b63",
   "metadata": {},
   "outputs": [
    {
     "data": {
      "text/plain": [
       "array([ 26711,  33890,  65803, ..., 135902,  81095,  80148], dtype=int64)"
      ]
     },
     "execution_count": 22,
     "metadata": {},
     "output_type": "execute_result"
    }
   ],
   "source": [
    "df_customers['user_id'].unique()"
   ]
  },
  {
   "cell_type": "markdown",
   "id": "5d2833a6",
   "metadata": {},
   "source": [
    "# 07 Combining and exporting the datasets"
   ]
  },
  {
   "cell_type": "code",
   "execution_count": 23,
   "id": "1e4f7dc1",
   "metadata": {},
   "outputs": [],
   "source": [
    "# First we will import the orders and products merged data set\n",
    "df_ords_prods_merged  = pd.read_pickle(os.path.join(path, 'Data', 'Prepared_data', 'Orders_Poducts_Mrged_task_4_8_Final.pkl'))"
   ]
  },
  {
   "cell_type": "code",
   "execution_count": 24,
   "id": "6be56ff4",
   "metadata": {},
   "outputs": [],
   "source": [
    "# Removing '_merge' column\n",
    "df_ords_prods_merged_1 = df_ords_prods_merged.drop(columns = ['_merge'])"
   ]
  },
  {
   "cell_type": "code",
   "execution_count": 25,
   "id": "be22ef94",
   "metadata": {
    "scrolled": true
   },
   "outputs": [
    {
     "data": {
      "text/plain": [
       "(32404859, 23)"
      ]
     },
     "execution_count": 25,
     "metadata": {},
     "output_type": "execute_result"
    }
   ],
   "source": [
    "df_ords_prods_merged_1.shape"
   ]
  },
  {
   "cell_type": "code",
   "execution_count": 26,
   "id": "5df22131",
   "metadata": {
    "scrolled": false
   },
   "outputs": [
    {
     "data": {
      "text/plain": [
       "array([ 38259, 196224, 138499, ...,  27382,  56454,  74506], dtype=int64)"
      ]
     },
     "execution_count": 26,
     "metadata": {},
     "output_type": "execute_result"
    }
   ],
   "source": [
    "df_ords_prods_merged_1['user_id'].unique()"
   ]
  },
  {
   "cell_type": "code",
   "execution_count": 27,
   "id": "ba4d0771",
   "metadata": {},
   "outputs": [],
   "source": [
    "df_ords_prods_merged_1['Busiest_Day'] = df_ords_prods_merged_1['Busiest_Day'].astype('category')"
   ]
  },
  {
   "cell_type": "code",
   "execution_count": 28,
   "id": "6c0cb9be",
   "metadata": {},
   "outputs": [],
   "source": [
    "df_ords_prods_merged_1['Busiest_Days'] = df_ords_prods_merged_1['Busiest_Days'].astype('category')"
   ]
  },
  {
   "cell_type": "code",
   "execution_count": 29,
   "id": "a0e7c5bf",
   "metadata": {},
   "outputs": [],
   "source": [
    "df_ords_prods_merged_1['price_range_loc'] = df_ords_prods_merged_1['price_range_loc'].astype('category')"
   ]
  },
  {
   "cell_type": "code",
   "execution_count": 30,
   "id": "c9448d2f",
   "metadata": {},
   "outputs": [],
   "source": [
    "df_ords_prods_merged_1['max_order'] = df_ords_prods_merged_1['max_order'].astype('int8')"
   ]
  },
  {
   "cell_type": "code",
   "execution_count": 31,
   "id": "5f96e183",
   "metadata": {},
   "outputs": [],
   "source": [
    "df_ords_prods_merged_1['aisle_id'] = df_ords_prods_merged_1['aisle_id'].astype('int16')"
   ]
  },
  {
   "cell_type": "code",
   "execution_count": 32,
   "id": "63171f49",
   "metadata": {},
   "outputs": [],
   "source": [
    "df_ords_prods_merged_1['add_to_cart_order'] = df_ords_prods_merged_1['add_to_cart_order'].astype('int8')"
   ]
  },
  {
   "cell_type": "code",
   "execution_count": 33,
   "id": "0722d89c",
   "metadata": {},
   "outputs": [],
   "source": [
    "df_ords_prods_merged_1['order_number'] = df_ords_prods_merged_1['order_number'].astype('int8')"
   ]
  },
  {
   "cell_type": "code",
   "execution_count": 34,
   "id": "63b7f773",
   "metadata": {
    "scrolled": true
   },
   "outputs": [],
   "source": [
    "df_ords_prods_merged_1['Frequency'] = df_ords_prods_merged_1['Frequency'].astype('uint16')"
   ]
  },
  {
   "cell_type": "code",
   "execution_count": 35,
   "id": "39c0aa63",
   "metadata": {},
   "outputs": [],
   "source": [
    "df_ords_prods_merged_1['Spending'] = df_ords_prods_merged_1['Spending'].astype('float16')"
   ]
  },
  {
   "cell_type": "code",
   "execution_count": 36,
   "id": "b86374fd",
   "metadata": {},
   "outputs": [],
   "source": [
    "df_ords_prods_merged_1['prices'] = df_ords_prods_merged_1['Spending'].astype('int32')"
   ]
  },
  {
   "cell_type": "code",
   "execution_count": 37,
   "id": "ddcbe3f4",
   "metadata": {
    "scrolled": true
   },
   "outputs": [
    {
     "name": "stdout",
     "output_type": "stream",
     "text": [
      "<class 'pandas.core.frame.DataFrame'>\n",
      "Int64Index: 32404859 entries, 0 to 32404858\n",
      "Data columns (total 23 columns):\n",
      " #   Column                  Dtype   \n",
      "---  ------                  -----   \n",
      " 0   product_id              int64   \n",
      " 1   product_name            object  \n",
      " 2   aisle_id                int16   \n",
      " 3   department_id           int64   \n",
      " 4   prices                  int32   \n",
      " 5   order_id                int64   \n",
      " 6   add_to_cart_order       int8    \n",
      " 7   reordered               int8    \n",
      " 8   user_id                 int64   \n",
      " 9   order_number            int8    \n",
      " 10  orders_day_of_week      int8    \n",
      " 11  order_hour_of_day       int8    \n",
      " 12  days_since_prior_order  int16   \n",
      " 13  price_range_loc         category\n",
      " 14  Busiest_Day             category\n",
      " 15  Busiest_Days            category\n",
      " 16  busiest_period_of_day   object  \n",
      " 17  max_order               int8    \n",
      " 18  loyalty_flag            object  \n",
      " 19  Spending                float16 \n",
      " 20  Spending_Flag           object  \n",
      " 21  Frequency               uint16  \n",
      " 22  Order_Frequency_Flag    object  \n",
      "dtypes: category(3), float16(1), int16(2), int32(1), int64(4), int8(6), object(5), uint16(1)\n",
      "memory usage: 3.0+ GB\n"
     ]
    }
   ],
   "source": [
    "df_ords_prods_merged_1.info()"
   ]
  },
  {
   "cell_type": "code",
   "execution_count": 38,
   "id": "20f5d013",
   "metadata": {
    "scrolled": true
   },
   "outputs": [
    {
     "data": {
      "text/html": [
       "<div>\n",
       "<style scoped>\n",
       "    .dataframe tbody tr th:only-of-type {\n",
       "        vertical-align: middle;\n",
       "    }\n",
       "\n",
       "    .dataframe tbody tr th {\n",
       "        vertical-align: top;\n",
       "    }\n",
       "\n",
       "    .dataframe thead th {\n",
       "        text-align: right;\n",
       "    }\n",
       "</style>\n",
       "<table border=\"1\" class=\"dataframe\">\n",
       "  <thead>\n",
       "    <tr style=\"text-align: right;\">\n",
       "      <th></th>\n",
       "      <th>product_id</th>\n",
       "      <th>product_name</th>\n",
       "      <th>aisle_id</th>\n",
       "      <th>department_id</th>\n",
       "      <th>prices</th>\n",
       "      <th>order_id</th>\n",
       "      <th>add_to_cart_order</th>\n",
       "      <th>reordered</th>\n",
       "      <th>user_id</th>\n",
       "      <th>order_number</th>\n",
       "      <th>...</th>\n",
       "      <th>price_range_loc</th>\n",
       "      <th>Busiest_Day</th>\n",
       "      <th>Busiest_Days</th>\n",
       "      <th>busiest_period_of_day</th>\n",
       "      <th>max_order</th>\n",
       "      <th>loyalty_flag</th>\n",
       "      <th>Spending</th>\n",
       "      <th>Spending_Flag</th>\n",
       "      <th>Frequency</th>\n",
       "      <th>Order_Frequency_Flag</th>\n",
       "    </tr>\n",
       "  </thead>\n",
       "  <tbody>\n",
       "    <tr>\n",
       "      <th>0</th>\n",
       "      <td>1</td>\n",
       "      <td>Chocolate Sandwich Cookies</td>\n",
       "      <td>61</td>\n",
       "      <td>19</td>\n",
       "      <td>7</td>\n",
       "      <td>1107</td>\n",
       "      <td>7</td>\n",
       "      <td>0</td>\n",
       "      <td>38259</td>\n",
       "      <td>2</td>\n",
       "      <td>...</td>\n",
       "      <td>Mid-range product</td>\n",
       "      <td>Regularly busy</td>\n",
       "      <td>Busiest days</td>\n",
       "      <td>Most orders</td>\n",
       "      <td>4</td>\n",
       "      <td>New customer</td>\n",
       "      <td>7.164062</td>\n",
       "      <td>Low spender</td>\n",
       "      <td>7</td>\n",
       "      <td>Non-frequent customer</td>\n",
       "    </tr>\n",
       "    <tr>\n",
       "      <th>1</th>\n",
       "      <td>1</td>\n",
       "      <td>Chocolate Sandwich Cookies</td>\n",
       "      <td>61</td>\n",
       "      <td>19</td>\n",
       "      <td>5</td>\n",
       "      <td>5319</td>\n",
       "      <td>3</td>\n",
       "      <td>1</td>\n",
       "      <td>196224</td>\n",
       "      <td>65</td>\n",
       "      <td>...</td>\n",
       "      <td>Mid-range product</td>\n",
       "      <td>Regularly busy</td>\n",
       "      <td>Busiest days</td>\n",
       "      <td>Most orders</td>\n",
       "      <td>99</td>\n",
       "      <td>Loyal customer</td>\n",
       "      <td>5.343750</td>\n",
       "      <td>Low spender</td>\n",
       "      <td>1</td>\n",
       "      <td>Non-frequent customer</td>\n",
       "    </tr>\n",
       "    <tr>\n",
       "      <th>2</th>\n",
       "      <td>1</td>\n",
       "      <td>Chocolate Sandwich Cookies</td>\n",
       "      <td>61</td>\n",
       "      <td>19</td>\n",
       "      <td>7</td>\n",
       "      <td>7540</td>\n",
       "      <td>4</td>\n",
       "      <td>1</td>\n",
       "      <td>138499</td>\n",
       "      <td>8</td>\n",
       "      <td>...</td>\n",
       "      <td>Mid-range product</td>\n",
       "      <td>Busiest day</td>\n",
       "      <td>Busiest days</td>\n",
       "      <td>Most orders</td>\n",
       "      <td>23</td>\n",
       "      <td>Regular customer</td>\n",
       "      <td>7.468750</td>\n",
       "      <td>Low spender</td>\n",
       "      <td>7</td>\n",
       "      <td>Non-frequent customer</td>\n",
       "    </tr>\n",
       "    <tr>\n",
       "      <th>3</th>\n",
       "      <td>1</td>\n",
       "      <td>Chocolate Sandwich Cookies</td>\n",
       "      <td>61</td>\n",
       "      <td>19</td>\n",
       "      <td>6</td>\n",
       "      <td>9228</td>\n",
       "      <td>2</td>\n",
       "      <td>0</td>\n",
       "      <td>79603</td>\n",
       "      <td>2</td>\n",
       "      <td>...</td>\n",
       "      <td>Mid-range product</td>\n",
       "      <td>Regularly busy</td>\n",
       "      <td>Regular days</td>\n",
       "      <td>Most orders</td>\n",
       "      <td>5</td>\n",
       "      <td>New customer</td>\n",
       "      <td>6.984375</td>\n",
       "      <td>Low spender</td>\n",
       "      <td>28</td>\n",
       "      <td>Non-frequent customer</td>\n",
       "    </tr>\n",
       "    <tr>\n",
       "      <th>4</th>\n",
       "      <td>1</td>\n",
       "      <td>Chocolate Sandwich Cookies</td>\n",
       "      <td>61</td>\n",
       "      <td>19</td>\n",
       "      <td>7</td>\n",
       "      <td>9273</td>\n",
       "      <td>30</td>\n",
       "      <td>0</td>\n",
       "      <td>50005</td>\n",
       "      <td>1</td>\n",
       "      <td>...</td>\n",
       "      <td>Mid-range product</td>\n",
       "      <td>Regularly busy</td>\n",
       "      <td>Busiest days</td>\n",
       "      <td>Most orders</td>\n",
       "      <td>22</td>\n",
       "      <td>Regular customer</td>\n",
       "      <td>7.492188</td>\n",
       "      <td>Low spender</td>\n",
       "      <td>7</td>\n",
       "      <td>Non-frequent customer</td>\n",
       "    </tr>\n",
       "  </tbody>\n",
       "</table>\n",
       "<p>5 rows × 23 columns</p>\n",
       "</div>"
      ],
      "text/plain": [
       "   product_id                product_name  aisle_id  department_id  prices  \\\n",
       "0           1  Chocolate Sandwich Cookies        61             19       7   \n",
       "1           1  Chocolate Sandwich Cookies        61             19       5   \n",
       "2           1  Chocolate Sandwich Cookies        61             19       7   \n",
       "3           1  Chocolate Sandwich Cookies        61             19       6   \n",
       "4           1  Chocolate Sandwich Cookies        61             19       7   \n",
       "\n",
       "   order_id  add_to_cart_order  reordered  user_id  order_number  ...  \\\n",
       "0      1107                  7          0    38259             2  ...   \n",
       "1      5319                  3          1   196224            65  ...   \n",
       "2      7540                  4          1   138499             8  ...   \n",
       "3      9228                  2          0    79603             2  ...   \n",
       "4      9273                 30          0    50005             1  ...   \n",
       "\n",
       "     price_range_loc     Busiest_Day  Busiest_Days busiest_period_of_day  \\\n",
       "0  Mid-range product  Regularly busy  Busiest days           Most orders   \n",
       "1  Mid-range product  Regularly busy  Busiest days           Most orders   \n",
       "2  Mid-range product     Busiest day  Busiest days           Most orders   \n",
       "3  Mid-range product  Regularly busy  Regular days           Most orders   \n",
       "4  Mid-range product  Regularly busy  Busiest days           Most orders   \n",
       "\n",
       "  max_order      loyalty_flag  Spending  Spending_Flag Frequency  \\\n",
       "0         4      New customer  7.164062    Low spender         7   \n",
       "1        99    Loyal customer  5.343750    Low spender         1   \n",
       "2        23  Regular customer  7.468750    Low spender         7   \n",
       "3         5      New customer  6.984375    Low spender        28   \n",
       "4        22  Regular customer  7.492188    Low spender         7   \n",
       "\n",
       "    Order_Frequency_Flag  \n",
       "0  Non-frequent customer  \n",
       "1  Non-frequent customer  \n",
       "2  Non-frequent customer  \n",
       "3  Non-frequent customer  \n",
       "4  Non-frequent customer  \n",
       "\n",
       "[5 rows x 23 columns]"
      ]
     },
     "execution_count": 38,
     "metadata": {},
     "output_type": "execute_result"
    }
   ],
   "source": [
    "df_ords_prods_merged_1.head()"
   ]
  },
  {
   "cell_type": "code",
   "execution_count": 39,
   "id": "d0009147",
   "metadata": {},
   "outputs": [],
   "source": [
    "# We have user_id column as a common variable in both data sets. So, we will merge both of them using user_id\n",
    "df_final_data = df_ords_prods_merged_1.merge(df_customers, on = 'user_id', indicator = True)"
   ]
  },
  {
   "cell_type": "code",
   "execution_count": 40,
   "id": "98ac4b09",
   "metadata": {},
   "outputs": [
    {
     "data": {
      "text/html": [
       "<div>\n",
       "<style scoped>\n",
       "    .dataframe tbody tr th:only-of-type {\n",
       "        vertical-align: middle;\n",
       "    }\n",
       "\n",
       "    .dataframe tbody tr th {\n",
       "        vertical-align: top;\n",
       "    }\n",
       "\n",
       "    .dataframe thead th {\n",
       "        text-align: right;\n",
       "    }\n",
       "</style>\n",
       "<table border=\"1\" class=\"dataframe\">\n",
       "  <thead>\n",
       "    <tr style=\"text-align: right;\">\n",
       "      <th></th>\n",
       "      <th>product_id</th>\n",
       "      <th>product_name</th>\n",
       "      <th>aisle_id</th>\n",
       "      <th>department_id</th>\n",
       "      <th>prices</th>\n",
       "      <th>order_id</th>\n",
       "      <th>add_to_cart_order</th>\n",
       "      <th>reordered</th>\n",
       "      <th>user_id</th>\n",
       "      <th>order_number</th>\n",
       "      <th>...</th>\n",
       "      <th>First_Name</th>\n",
       "      <th>Surname</th>\n",
       "      <th>Gender</th>\n",
       "      <th>STATE</th>\n",
       "      <th>Age</th>\n",
       "      <th>date_joined</th>\n",
       "      <th>No_of_dependants</th>\n",
       "      <th>Family_status</th>\n",
       "      <th>Annual_income</th>\n",
       "      <th>_merge</th>\n",
       "    </tr>\n",
       "  </thead>\n",
       "  <tbody>\n",
       "    <tr>\n",
       "      <th>0</th>\n",
       "      <td>1</td>\n",
       "      <td>Chocolate Sandwich Cookies</td>\n",
       "      <td>61</td>\n",
       "      <td>19</td>\n",
       "      <td>7</td>\n",
       "      <td>1107</td>\n",
       "      <td>7</td>\n",
       "      <td>0</td>\n",
       "      <td>38259</td>\n",
       "      <td>2</td>\n",
       "      <td>...</td>\n",
       "      <td>nan</td>\n",
       "      <td>Bean</td>\n",
       "      <td>Female</td>\n",
       "      <td>District of Columbia</td>\n",
       "      <td>68</td>\n",
       "      <td>6/30/2019</td>\n",
       "      <td>2</td>\n",
       "      <td>married</td>\n",
       "      <td>142744</td>\n",
       "      <td>both</td>\n",
       "    </tr>\n",
       "    <tr>\n",
       "      <th>1</th>\n",
       "      <td>769</td>\n",
       "      <td>Sliced American Cheese</td>\n",
       "      <td>21</td>\n",
       "      <td>16</td>\n",
       "      <td>7</td>\n",
       "      <td>1107</td>\n",
       "      <td>10</td>\n",
       "      <td>0</td>\n",
       "      <td>38259</td>\n",
       "      <td>2</td>\n",
       "      <td>...</td>\n",
       "      <td>nan</td>\n",
       "      <td>Bean</td>\n",
       "      <td>Female</td>\n",
       "      <td>District of Columbia</td>\n",
       "      <td>68</td>\n",
       "      <td>6/30/2019</td>\n",
       "      <td>2</td>\n",
       "      <td>married</td>\n",
       "      <td>142744</td>\n",
       "      <td>both</td>\n",
       "    </tr>\n",
       "    <tr>\n",
       "      <th>2</th>\n",
       "      <td>5258</td>\n",
       "      <td>Sparkling Water</td>\n",
       "      <td>115</td>\n",
       "      <td>7</td>\n",
       "      <td>7</td>\n",
       "      <td>3369664</td>\n",
       "      <td>9</td>\n",
       "      <td>0</td>\n",
       "      <td>38259</td>\n",
       "      <td>3</td>\n",
       "      <td>...</td>\n",
       "      <td>nan</td>\n",
       "      <td>Bean</td>\n",
       "      <td>Female</td>\n",
       "      <td>District of Columbia</td>\n",
       "      <td>68</td>\n",
       "      <td>6/30/2019</td>\n",
       "      <td>2</td>\n",
       "      <td>married</td>\n",
       "      <td>142744</td>\n",
       "      <td>both</td>\n",
       "    </tr>\n",
       "    <tr>\n",
       "      <th>3</th>\n",
       "      <td>6184</td>\n",
       "      <td>Clementines</td>\n",
       "      <td>32</td>\n",
       "      <td>4</td>\n",
       "      <td>7</td>\n",
       "      <td>1107</td>\n",
       "      <td>14</td>\n",
       "      <td>1</td>\n",
       "      <td>38259</td>\n",
       "      <td>2</td>\n",
       "      <td>...</td>\n",
       "      <td>nan</td>\n",
       "      <td>Bean</td>\n",
       "      <td>Female</td>\n",
       "      <td>District of Columbia</td>\n",
       "      <td>68</td>\n",
       "      <td>6/30/2019</td>\n",
       "      <td>2</td>\n",
       "      <td>married</td>\n",
       "      <td>142744</td>\n",
       "      <td>both</td>\n",
       "    </tr>\n",
       "    <tr>\n",
       "      <th>4</th>\n",
       "      <td>6184</td>\n",
       "      <td>Clementines</td>\n",
       "      <td>32</td>\n",
       "      <td>4</td>\n",
       "      <td>7</td>\n",
       "      <td>2899757</td>\n",
       "      <td>6</td>\n",
       "      <td>0</td>\n",
       "      <td>38259</td>\n",
       "      <td>1</td>\n",
       "      <td>...</td>\n",
       "      <td>nan</td>\n",
       "      <td>Bean</td>\n",
       "      <td>Female</td>\n",
       "      <td>District of Columbia</td>\n",
       "      <td>68</td>\n",
       "      <td>6/30/2019</td>\n",
       "      <td>2</td>\n",
       "      <td>married</td>\n",
       "      <td>142744</td>\n",
       "      <td>both</td>\n",
       "    </tr>\n",
       "  </tbody>\n",
       "</table>\n",
       "<p>5 rows × 33 columns</p>\n",
       "</div>"
      ],
      "text/plain": [
       "   product_id                product_name  aisle_id  department_id  prices  \\\n",
       "0           1  Chocolate Sandwich Cookies        61             19       7   \n",
       "1         769      Sliced American Cheese        21             16       7   \n",
       "2        5258             Sparkling Water       115              7       7   \n",
       "3        6184                 Clementines        32              4       7   \n",
       "4        6184                 Clementines        32              4       7   \n",
       "\n",
       "   order_id  add_to_cart_order  reordered  user_id  order_number  ...  \\\n",
       "0      1107                  7          0    38259             2  ...   \n",
       "1      1107                 10          0    38259             2  ...   \n",
       "2   3369664                  9          0    38259             3  ...   \n",
       "3      1107                 14          1    38259             2  ...   \n",
       "4   2899757                  6          0    38259             1  ...   \n",
       "\n",
       "   First_Name  Surname  Gender                 STATE Age date_joined  \\\n",
       "0         nan     Bean  Female  District of Columbia  68   6/30/2019   \n",
       "1         nan     Bean  Female  District of Columbia  68   6/30/2019   \n",
       "2         nan     Bean  Female  District of Columbia  68   6/30/2019   \n",
       "3         nan     Bean  Female  District of Columbia  68   6/30/2019   \n",
       "4         nan     Bean  Female  District of Columbia  68   6/30/2019   \n",
       "\n",
       "  No_of_dependants  Family_status Annual_income  _merge  \n",
       "0                2        married        142744    both  \n",
       "1                2        married        142744    both  \n",
       "2                2        married        142744    both  \n",
       "3                2        married        142744    both  \n",
       "4                2        married        142744    both  \n",
       "\n",
       "[5 rows x 33 columns]"
      ]
     },
     "execution_count": 40,
     "metadata": {},
     "output_type": "execute_result"
    }
   ],
   "source": [
    "# Checking the first rows of final merged data\n",
    "df_final_data.head()"
   ]
  },
  {
   "cell_type": "code",
   "execution_count": 41,
   "id": "f361bf73",
   "metadata": {
    "scrolled": true
   },
   "outputs": [
    {
     "data": {
      "text/plain": [
       "(32404859, 33)"
      ]
     },
     "execution_count": 41,
     "metadata": {},
     "output_type": "execute_result"
    }
   ],
   "source": [
    "df_final_data.shape"
   ]
  },
  {
   "cell_type": "code",
   "execution_count": 42,
   "id": "1b6c06d3",
   "metadata": {},
   "outputs": [
    {
     "name": "stdout",
     "output_type": "stream",
     "text": [
      "<class 'pandas.core.frame.DataFrame'>\n",
      "Int64Index: 32404859 entries, 0 to 32404858\n",
      "Data columns (total 33 columns):\n",
      " #   Column                  Dtype   \n",
      "---  ------                  -----   \n",
      " 0   product_id              int64   \n",
      " 1   product_name            object  \n",
      " 2   aisle_id                int16   \n",
      " 3   department_id           int64   \n",
      " 4   prices                  int32   \n",
      " 5   order_id                int64   \n",
      " 6   add_to_cart_order       int8    \n",
      " 7   reordered               int8    \n",
      " 8   user_id                 int64   \n",
      " 9   order_number            int8    \n",
      " 10  orders_day_of_week      int8    \n",
      " 11  order_hour_of_day       int8    \n",
      " 12  days_since_prior_order  int16   \n",
      " 13  price_range_loc         category\n",
      " 14  Busiest_Day             category\n",
      " 15  Busiest_Days            category\n",
      " 16  busiest_period_of_day   object  \n",
      " 17  max_order               int8    \n",
      " 18  loyalty_flag            object  \n",
      " 19  Spending                float16 \n",
      " 20  Spending_Flag           object  \n",
      " 21  Frequency               uint16  \n",
      " 22  Order_Frequency_Flag    object  \n",
      " 23  First_Name              object  \n",
      " 24  Surname                 category\n",
      " 25  Gender                  category\n",
      " 26  STATE                   category\n",
      " 27  Age                     int8    \n",
      " 28  date_joined             object  \n",
      " 29  No_of_dependants        int8    \n",
      " 30  Family_status           category\n",
      " 31  Annual_income           int64   \n",
      " 32  _merge                  category\n",
      "dtypes: category(8), float16(1), int16(2), int32(1), int64(5), int8(8), object(7), uint16(1)\n",
      "memory usage: 4.0+ GB\n"
     ]
    }
   ],
   "source": [
    "df_final_data.info()"
   ]
  },
  {
   "cell_type": "code",
   "execution_count": 43,
   "id": "721dd927",
   "metadata": {},
   "outputs": [
    {
     "data": {
      "text/plain": [
       "both          32404859\n",
       "left_only            0\n",
       "right_only           0\n",
       "Name: _merge, dtype: int64"
      ]
     },
     "execution_count": 43,
     "metadata": {},
     "output_type": "execute_result"
    }
   ],
   "source": [
    "df_final_data['_merge'].value_counts()"
   ]
  },
  {
   "cell_type": "code",
   "execution_count": 44,
   "id": "4ccac4ae",
   "metadata": {},
   "outputs": [
    {
     "data": {
      "text/html": [
       "<div>\n",
       "<style scoped>\n",
       "    .dataframe tbody tr th:only-of-type {\n",
       "        vertical-align: middle;\n",
       "    }\n",
       "\n",
       "    .dataframe tbody tr th {\n",
       "        vertical-align: top;\n",
       "    }\n",
       "\n",
       "    .dataframe thead th {\n",
       "        text-align: right;\n",
       "    }\n",
       "</style>\n",
       "<table border=\"1\" class=\"dataframe\">\n",
       "  <thead>\n",
       "    <tr style=\"text-align: right;\">\n",
       "      <th></th>\n",
       "      <th>product_id</th>\n",
       "      <th>aisle_id</th>\n",
       "      <th>department_id</th>\n",
       "      <th>prices</th>\n",
       "      <th>order_id</th>\n",
       "      <th>add_to_cart_order</th>\n",
       "      <th>reordered</th>\n",
       "      <th>user_id</th>\n",
       "      <th>order_number</th>\n",
       "      <th>orders_day_of_week</th>\n",
       "      <th>order_hour_of_day</th>\n",
       "      <th>days_since_prior_order</th>\n",
       "      <th>max_order</th>\n",
       "      <th>Spending</th>\n",
       "      <th>Frequency</th>\n",
       "      <th>Age</th>\n",
       "      <th>No_of_dependants</th>\n",
       "      <th>Annual_income</th>\n",
       "    </tr>\n",
       "  </thead>\n",
       "  <tbody>\n",
       "    <tr>\n",
       "      <th>count</th>\n",
       "      <td>3.240486e+07</td>\n",
       "      <td>3.240486e+07</td>\n",
       "      <td>3.240486e+07</td>\n",
       "      <td>3.240486e+07</td>\n",
       "      <td>3.240486e+07</td>\n",
       "      <td>3.240486e+07</td>\n",
       "      <td>3.240486e+07</td>\n",
       "      <td>3.240486e+07</td>\n",
       "      <td>3.240486e+07</td>\n",
       "      <td>3.240486e+07</td>\n",
       "      <td>3.240486e+07</td>\n",
       "      <td>3.240486e+07</td>\n",
       "      <td>3.240486e+07</td>\n",
       "      <td>3.240486e+07</td>\n",
       "      <td>3.240486e+07</td>\n",
       "      <td>3.240486e+07</td>\n",
       "      <td>3.240486e+07</td>\n",
       "      <td>3.240486e+07</td>\n",
       "    </tr>\n",
       "    <tr>\n",
       "      <th>mean</th>\n",
       "      <td>2.559866e+04</td>\n",
       "      <td>7.119612e+01</td>\n",
       "      <td>9.919792e+00</td>\n",
       "      <td>1.148251e+01</td>\n",
       "      <td>1.710745e+06</td>\n",
       "      <td>8.352325e+00</td>\n",
       "      <td>5.895873e-01</td>\n",
       "      <td>1.029372e+05</td>\n",
       "      <td>1.714230e+01</td>\n",
       "      <td>2.738867e+00</td>\n",
       "      <td>1.342515e+01</td>\n",
       "      <td>1.039267e+01</td>\n",
       "      <td>3.305217e+01</td>\n",
       "      <td>NaN</td>\n",
       "      <td>9.606230e+00</td>\n",
       "      <td>4.946527e+01</td>\n",
       "      <td>1.501896e+00</td>\n",
       "      <td>9.943773e+04</td>\n",
       "    </tr>\n",
       "    <tr>\n",
       "      <th>std</th>\n",
       "      <td>1.408400e+04</td>\n",
       "      <td>3.821139e+01</td>\n",
       "      <td>6.281485e+00</td>\n",
       "      <td>8.325486e+01</td>\n",
       "      <td>9.872988e+05</td>\n",
       "      <td>7.127111e+00</td>\n",
       "      <td>4.919087e-01</td>\n",
       "      <td>5.946610e+04</td>\n",
       "      <td>1.753532e+01</td>\n",
       "      <td>2.090077e+00</td>\n",
       "      <td>4.246380e+00</td>\n",
       "      <td>8.917825e+00</td>\n",
       "      <td>2.515525e+01</td>\n",
       "      <td>NaN</td>\n",
       "      <td>6.452981e+00</td>\n",
       "      <td>1.848558e+01</td>\n",
       "      <td>1.118865e+00</td>\n",
       "      <td>4.305727e+04</td>\n",
       "    </tr>\n",
       "    <tr>\n",
       "      <th>min</th>\n",
       "      <td>1.000000e+00</td>\n",
       "      <td>1.000000e+00</td>\n",
       "      <td>1.000000e+00</td>\n",
       "      <td>1.000000e+00</td>\n",
       "      <td>2.000000e+00</td>\n",
       "      <td>-1.280000e+02</td>\n",
       "      <td>0.000000e+00</td>\n",
       "      <td>1.000000e+00</td>\n",
       "      <td>1.000000e+00</td>\n",
       "      <td>0.000000e+00</td>\n",
       "      <td>0.000000e+00</td>\n",
       "      <td>0.000000e+00</td>\n",
       "      <td>1.000000e+00</td>\n",
       "      <td>1.000000e+00</td>\n",
       "      <td>0.000000e+00</td>\n",
       "      <td>1.800000e+01</td>\n",
       "      <td>0.000000e+00</td>\n",
       "      <td>2.590300e+04</td>\n",
       "    </tr>\n",
       "    <tr>\n",
       "      <th>25%</th>\n",
       "      <td>1.354400e+04</td>\n",
       "      <td>3.100000e+01</td>\n",
       "      <td>4.000000e+00</td>\n",
       "      <td>7.000000e+00</td>\n",
       "      <td>8.559470e+05</td>\n",
       "      <td>3.000000e+00</td>\n",
       "      <td>0.000000e+00</td>\n",
       "      <td>5.142200e+04</td>\n",
       "      <td>5.000000e+00</td>\n",
       "      <td>1.000000e+00</td>\n",
       "      <td>1.000000e+01</td>\n",
       "      <td>4.000000e+00</td>\n",
       "      <td>1.300000e+01</td>\n",
       "      <td>7.386719e+00</td>\n",
       "      <td>6.000000e+00</td>\n",
       "      <td>3.300000e+01</td>\n",
       "      <td>1.000000e+00</td>\n",
       "      <td>6.700400e+04</td>\n",
       "    </tr>\n",
       "    <tr>\n",
       "      <th>50%</th>\n",
       "      <td>2.530200e+04</td>\n",
       "      <td>8.300000e+01</td>\n",
       "      <td>9.000000e+00</td>\n",
       "      <td>7.000000e+00</td>\n",
       "      <td>1.711049e+06</td>\n",
       "      <td>6.000000e+00</td>\n",
       "      <td>1.000000e+00</td>\n",
       "      <td>1.026160e+05</td>\n",
       "      <td>1.100000e+01</td>\n",
       "      <td>3.000000e+00</td>\n",
       "      <td>1.300000e+01</td>\n",
       "      <td>7.000000e+00</td>\n",
       "      <td>2.600000e+01</td>\n",
       "      <td>7.824219e+00</td>\n",
       "      <td>7.000000e+00</td>\n",
       "      <td>4.900000e+01</td>\n",
       "      <td>2.000000e+00</td>\n",
       "      <td>9.661800e+04</td>\n",
       "    </tr>\n",
       "    <tr>\n",
       "      <th>75%</th>\n",
       "      <td>3.794700e+04</td>\n",
       "      <td>1.070000e+02</td>\n",
       "      <td>1.600000e+01</td>\n",
       "      <td>8.000000e+00</td>\n",
       "      <td>2.565499e+06</td>\n",
       "      <td>1.100000e+01</td>\n",
       "      <td>1.000000e+00</td>\n",
       "      <td>1.543890e+05</td>\n",
       "      <td>2.400000e+01</td>\n",
       "      <td>5.000000e+00</td>\n",
       "      <td>1.600000e+01</td>\n",
       "      <td>1.400000e+01</td>\n",
       "      <td>4.700000e+01</td>\n",
       "      <td>8.257812e+00</td>\n",
       "      <td>1.200000e+01</td>\n",
       "      <td>6.500000e+01</td>\n",
       "      <td>3.000000e+00</td>\n",
       "      <td>1.279120e+05</td>\n",
       "    </tr>\n",
       "    <tr>\n",
       "      <th>max</th>\n",
       "      <td>4.968800e+04</td>\n",
       "      <td>1.340000e+02</td>\n",
       "      <td>2.100000e+01</td>\n",
       "      <td>2.500800e+04</td>\n",
       "      <td>3.421083e+06</td>\n",
       "      <td>1.270000e+02</td>\n",
       "      <td>1.000000e+00</td>\n",
       "      <td>2.062090e+05</td>\n",
       "      <td>9.900000e+01</td>\n",
       "      <td>6.000000e+00</td>\n",
       "      <td>2.300000e+01</td>\n",
       "      <td>3.000000e+01</td>\n",
       "      <td>9.900000e+01</td>\n",
       "      <td>2.500800e+04</td>\n",
       "      <td>3.000000e+01</td>\n",
       "      <td>8.100000e+01</td>\n",
       "      <td>3.000000e+00</td>\n",
       "      <td>5.939010e+05</td>\n",
       "    </tr>\n",
       "  </tbody>\n",
       "</table>\n",
       "</div>"
      ],
      "text/plain": [
       "         product_id      aisle_id  department_id        prices      order_id  \\\n",
       "count  3.240486e+07  3.240486e+07   3.240486e+07  3.240486e+07  3.240486e+07   \n",
       "mean   2.559866e+04  7.119612e+01   9.919792e+00  1.148251e+01  1.710745e+06   \n",
       "std    1.408400e+04  3.821139e+01   6.281485e+00  8.325486e+01  9.872988e+05   \n",
       "min    1.000000e+00  1.000000e+00   1.000000e+00  1.000000e+00  2.000000e+00   \n",
       "25%    1.354400e+04  3.100000e+01   4.000000e+00  7.000000e+00  8.559470e+05   \n",
       "50%    2.530200e+04  8.300000e+01   9.000000e+00  7.000000e+00  1.711049e+06   \n",
       "75%    3.794700e+04  1.070000e+02   1.600000e+01  8.000000e+00  2.565499e+06   \n",
       "max    4.968800e+04  1.340000e+02   2.100000e+01  2.500800e+04  3.421083e+06   \n",
       "\n",
       "       add_to_cart_order     reordered       user_id  order_number  \\\n",
       "count       3.240486e+07  3.240486e+07  3.240486e+07  3.240486e+07   \n",
       "mean        8.352325e+00  5.895873e-01  1.029372e+05  1.714230e+01   \n",
       "std         7.127111e+00  4.919087e-01  5.946610e+04  1.753532e+01   \n",
       "min        -1.280000e+02  0.000000e+00  1.000000e+00  1.000000e+00   \n",
       "25%         3.000000e+00  0.000000e+00  5.142200e+04  5.000000e+00   \n",
       "50%         6.000000e+00  1.000000e+00  1.026160e+05  1.100000e+01   \n",
       "75%         1.100000e+01  1.000000e+00  1.543890e+05  2.400000e+01   \n",
       "max         1.270000e+02  1.000000e+00  2.062090e+05  9.900000e+01   \n",
       "\n",
       "       orders_day_of_week  order_hour_of_day  days_since_prior_order  \\\n",
       "count        3.240486e+07       3.240486e+07            3.240486e+07   \n",
       "mean         2.738867e+00       1.342515e+01            1.039267e+01   \n",
       "std          2.090077e+00       4.246380e+00            8.917825e+00   \n",
       "min          0.000000e+00       0.000000e+00            0.000000e+00   \n",
       "25%          1.000000e+00       1.000000e+01            4.000000e+00   \n",
       "50%          3.000000e+00       1.300000e+01            7.000000e+00   \n",
       "75%          5.000000e+00       1.600000e+01            1.400000e+01   \n",
       "max          6.000000e+00       2.300000e+01            3.000000e+01   \n",
       "\n",
       "          max_order      Spending     Frequency           Age  \\\n",
       "count  3.240486e+07  3.240486e+07  3.240486e+07  3.240486e+07   \n",
       "mean   3.305217e+01           NaN  9.606230e+00  4.946527e+01   \n",
       "std    2.515525e+01           NaN  6.452981e+00  1.848558e+01   \n",
       "min    1.000000e+00  1.000000e+00  0.000000e+00  1.800000e+01   \n",
       "25%    1.300000e+01  7.386719e+00  6.000000e+00  3.300000e+01   \n",
       "50%    2.600000e+01  7.824219e+00  7.000000e+00  4.900000e+01   \n",
       "75%    4.700000e+01  8.257812e+00  1.200000e+01  6.500000e+01   \n",
       "max    9.900000e+01  2.500800e+04  3.000000e+01  8.100000e+01   \n",
       "\n",
       "       No_of_dependants  Annual_income  \n",
       "count      3.240486e+07   3.240486e+07  \n",
       "mean       1.501896e+00   9.943773e+04  \n",
       "std        1.118865e+00   4.305727e+04  \n",
       "min        0.000000e+00   2.590300e+04  \n",
       "25%        1.000000e+00   6.700400e+04  \n",
       "50%        2.000000e+00   9.661800e+04  \n",
       "75%        3.000000e+00   1.279120e+05  \n",
       "max        3.000000e+00   5.939010e+05  "
      ]
     },
     "execution_count": 44,
     "metadata": {},
     "output_type": "execute_result"
    }
   ],
   "source": [
    "df_final_data.describe()"
   ]
  },
  {
   "cell_type": "code",
   "execution_count": 46,
   "id": "cbd7292d",
   "metadata": {},
   "outputs": [],
   "source": [
    "# Exporting merged final data\n",
    "df_final_data.to_pickle(os.path.join(path, 'Data','Prepared_data', 'Final_data_Task9_Part1.pkl'))"
   ]
  },
  {
   "cell_type": "code",
   "execution_count": null,
   "id": "8bd8e33f",
   "metadata": {},
   "outputs": [],
   "source": []
  }
 ],
 "metadata": {
  "kernelspec": {
   "display_name": "Python 3",
   "language": "python",
   "name": "python3"
  },
  "language_info": {
   "codemirror_mode": {
    "name": "ipython",
    "version": 3
   },
   "file_extension": ".py",
   "mimetype": "text/x-python",
   "name": "python",
   "nbconvert_exporter": "python",
   "pygments_lexer": "ipython3",
   "version": "3.8.8"
  }
 },
 "nbformat": 4,
 "nbformat_minor": 5
}
