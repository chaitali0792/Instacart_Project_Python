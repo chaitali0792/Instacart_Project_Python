{
 "cells": [
  {
   "cell_type": "markdown",
   "id": "96871f77",
   "metadata": {},
   "source": [
    "#Importing All Libraries"
   ]
  },
  {
   "cell_type": "code",
   "execution_count": 1,
   "id": "033ee67c",
   "metadata": {},
   "outputs": [],
   "source": [
    "# Importing all libraries\n",
    "import pandas as pd\n",
    "import numpy as np\n",
    "import os\n",
    "import matplotlib.pyplot as plt\n",
    "import seaborn as sns\n",
    "import scipy"
   ]
  },
  {
   "cell_type": "markdown",
   "id": "2cd85c85",
   "metadata": {},
   "source": [
    "#Importing final merged data"
   ]
  },
  {
   "cell_type": "code",
   "execution_count": 2,
   "id": "f7f217a7",
   "metadata": {},
   "outputs": [],
   "source": [
    "# # Creating common folder path\n",
    "path = r'C:\\Users\\Mukund\\Desktop\\Career Foundry\\Instacart_Grocery_Basket_Analysis_May_2021'"
   ]
  },
  {
   "cell_type": "code",
   "execution_count": 3,
   "id": "6f36a218",
   "metadata": {},
   "outputs": [
    {
     "data": {
      "text/plain": [
       "'C:\\\\Users\\\\Mukund\\\\Desktop\\\\Career Foundry\\\\Instacart_Grocery_Basket_Analysis_May_2021'"
      ]
     },
     "execution_count": 3,
     "metadata": {},
     "output_type": "execute_result"
    }
   ],
   "source": [
    "path"
   ]
  },
  {
   "cell_type": "code",
   "execution_count": 4,
   "id": "07efd477",
   "metadata": {},
   "outputs": [],
   "source": [
    "# Importing orders and products merged data\n",
    "df_ords_prods_merge = pd.read_pickle(os.path.join(path, 'Data', 'Prepared_data', 'Orders_Poducts_Mrged_task_4_8_Final.pkl'))"
   ]
  },
  {
   "cell_type": "code",
   "execution_count": 5,
   "id": "246f3e79",
   "metadata": {},
   "outputs": [
    {
     "data": {
      "text/plain": [
       "(32404859, 24)"
      ]
     },
     "execution_count": 5,
     "metadata": {},
     "output_type": "execute_result"
    }
   ],
   "source": [
    "# Checking the shape of data\n",
    "df_ords_prods_merge.shape"
   ]
  },
  {
   "cell_type": "code",
   "execution_count": 6,
   "id": "7c0ffe17",
   "metadata": {},
   "outputs": [
    {
     "data": {
      "text/html": [
       "<div>\n",
       "<style scoped>\n",
       "    .dataframe tbody tr th:only-of-type {\n",
       "        vertical-align: middle;\n",
       "    }\n",
       "\n",
       "    .dataframe tbody tr th {\n",
       "        vertical-align: top;\n",
       "    }\n",
       "\n",
       "    .dataframe thead th {\n",
       "        text-align: right;\n",
       "    }\n",
       "</style>\n",
       "<table border=\"1\" class=\"dataframe\">\n",
       "  <thead>\n",
       "    <tr style=\"text-align: right;\">\n",
       "      <th></th>\n",
       "      <th>product_id</th>\n",
       "      <th>product_name</th>\n",
       "      <th>aisle_id</th>\n",
       "      <th>department_id</th>\n",
       "      <th>prices</th>\n",
       "      <th>order_id</th>\n",
       "      <th>add_to_cart_order</th>\n",
       "      <th>reordered</th>\n",
       "      <th>user_id</th>\n",
       "      <th>order_number</th>\n",
       "      <th>...</th>\n",
       "      <th>price_range_loc</th>\n",
       "      <th>Busiest_Day</th>\n",
       "      <th>Busiest_Days</th>\n",
       "      <th>busiest_period_of_day</th>\n",
       "      <th>max_order</th>\n",
       "      <th>loyalty_flag</th>\n",
       "      <th>Spending</th>\n",
       "      <th>Spending_Flag</th>\n",
       "      <th>Frequency</th>\n",
       "      <th>Order_Frequency_Flag</th>\n",
       "    </tr>\n",
       "  </thead>\n",
       "  <tbody>\n",
       "    <tr>\n",
       "      <th>0</th>\n",
       "      <td>1</td>\n",
       "      <td>Chocolate Sandwich Cookies</td>\n",
       "      <td>61</td>\n",
       "      <td>19</td>\n",
       "      <td>5.8</td>\n",
       "      <td>1107</td>\n",
       "      <td>7</td>\n",
       "      <td>0</td>\n",
       "      <td>38259</td>\n",
       "      <td>2</td>\n",
       "      <td>...</td>\n",
       "      <td>Mid-range product</td>\n",
       "      <td>Regularly busy</td>\n",
       "      <td>Busiest days</td>\n",
       "      <td>Most orders</td>\n",
       "      <td>4</td>\n",
       "      <td>New customer</td>\n",
       "      <td>7.163333</td>\n",
       "      <td>Low spender</td>\n",
       "      <td>7.0</td>\n",
       "      <td>Non-frequent customer</td>\n",
       "    </tr>\n",
       "    <tr>\n",
       "      <th>1</th>\n",
       "      <td>1</td>\n",
       "      <td>Chocolate Sandwich Cookies</td>\n",
       "      <td>61</td>\n",
       "      <td>19</td>\n",
       "      <td>5.8</td>\n",
       "      <td>5319</td>\n",
       "      <td>3</td>\n",
       "      <td>1</td>\n",
       "      <td>196224</td>\n",
       "      <td>65</td>\n",
       "      <td>...</td>\n",
       "      <td>Mid-range product</td>\n",
       "      <td>Regularly busy</td>\n",
       "      <td>Busiest days</td>\n",
       "      <td>Most orders</td>\n",
       "      <td>99</td>\n",
       "      <td>Loyal customer</td>\n",
       "      <td>5.342729</td>\n",
       "      <td>Low spender</td>\n",
       "      <td>1.0</td>\n",
       "      <td>Non-frequent customer</td>\n",
       "    </tr>\n",
       "    <tr>\n",
       "      <th>2</th>\n",
       "      <td>1</td>\n",
       "      <td>Chocolate Sandwich Cookies</td>\n",
       "      <td>61</td>\n",
       "      <td>19</td>\n",
       "      <td>5.8</td>\n",
       "      <td>7540</td>\n",
       "      <td>4</td>\n",
       "      <td>1</td>\n",
       "      <td>138499</td>\n",
       "      <td>8</td>\n",
       "      <td>...</td>\n",
       "      <td>Mid-range product</td>\n",
       "      <td>Busiest day</td>\n",
       "      <td>Busiest days</td>\n",
       "      <td>Most orders</td>\n",
       "      <td>23</td>\n",
       "      <td>Regular customer</td>\n",
       "      <td>7.469540</td>\n",
       "      <td>Low spender</td>\n",
       "      <td>7.0</td>\n",
       "      <td>Non-frequent customer</td>\n",
       "    </tr>\n",
       "    <tr>\n",
       "      <th>3</th>\n",
       "      <td>1</td>\n",
       "      <td>Chocolate Sandwich Cookies</td>\n",
       "      <td>61</td>\n",
       "      <td>19</td>\n",
       "      <td>5.8</td>\n",
       "      <td>9228</td>\n",
       "      <td>2</td>\n",
       "      <td>0</td>\n",
       "      <td>79603</td>\n",
       "      <td>2</td>\n",
       "      <td>...</td>\n",
       "      <td>Mid-range product</td>\n",
       "      <td>Regularly busy</td>\n",
       "      <td>Regular days</td>\n",
       "      <td>Most orders</td>\n",
       "      <td>5</td>\n",
       "      <td>New customer</td>\n",
       "      <td>6.986207</td>\n",
       "      <td>Low spender</td>\n",
       "      <td>28.0</td>\n",
       "      <td>Non-frequent customer</td>\n",
       "    </tr>\n",
       "    <tr>\n",
       "      <th>4</th>\n",
       "      <td>1</td>\n",
       "      <td>Chocolate Sandwich Cookies</td>\n",
       "      <td>61</td>\n",
       "      <td>19</td>\n",
       "      <td>5.8</td>\n",
       "      <td>9273</td>\n",
       "      <td>30</td>\n",
       "      <td>0</td>\n",
       "      <td>50005</td>\n",
       "      <td>1</td>\n",
       "      <td>...</td>\n",
       "      <td>Mid-range product</td>\n",
       "      <td>Regularly busy</td>\n",
       "      <td>Busiest days</td>\n",
       "      <td>Most orders</td>\n",
       "      <td>22</td>\n",
       "      <td>Regular customer</td>\n",
       "      <td>7.493154</td>\n",
       "      <td>Low spender</td>\n",
       "      <td>7.0</td>\n",
       "      <td>Non-frequent customer</td>\n",
       "    </tr>\n",
       "  </tbody>\n",
       "</table>\n",
       "<p>5 rows × 24 columns</p>\n",
       "</div>"
      ],
      "text/plain": [
       "   product_id                product_name  aisle_id  department_id  prices  \\\n",
       "0           1  Chocolate Sandwich Cookies        61             19     5.8   \n",
       "1           1  Chocolate Sandwich Cookies        61             19     5.8   \n",
       "2           1  Chocolate Sandwich Cookies        61             19     5.8   \n",
       "3           1  Chocolate Sandwich Cookies        61             19     5.8   \n",
       "4           1  Chocolate Sandwich Cookies        61             19     5.8   \n",
       "\n",
       "   order_id  add_to_cart_order  reordered  user_id  order_number  ...  \\\n",
       "0      1107                  7          0    38259             2  ...   \n",
       "1      5319                  3          1   196224            65  ...   \n",
       "2      7540                  4          1   138499             8  ...   \n",
       "3      9228                  2          0    79603             2  ...   \n",
       "4      9273                 30          0    50005             1  ...   \n",
       "\n",
       "     price_range_loc     Busiest_Day  Busiest_Days busiest_period_of_day  \\\n",
       "0  Mid-range product  Regularly busy  Busiest days           Most orders   \n",
       "1  Mid-range product  Regularly busy  Busiest days           Most orders   \n",
       "2  Mid-range product     Busiest day  Busiest days           Most orders   \n",
       "3  Mid-range product  Regularly busy  Regular days           Most orders   \n",
       "4  Mid-range product  Regularly busy  Busiest days           Most orders   \n",
       "\n",
       "  max_order      loyalty_flag  Spending Spending_Flag  Frequency  \\\n",
       "0         4      New customer  7.163333   Low spender        7.0   \n",
       "1        99    Loyal customer  5.342729   Low spender        1.0   \n",
       "2        23  Regular customer  7.469540   Low spender        7.0   \n",
       "3         5      New customer  6.986207   Low spender       28.0   \n",
       "4        22  Regular customer  7.493154   Low spender        7.0   \n",
       "\n",
       "    Order_Frequency_Flag  \n",
       "0  Non-frequent customer  \n",
       "1  Non-frequent customer  \n",
       "2  Non-frequent customer  \n",
       "3  Non-frequent customer  \n",
       "4  Non-frequent customer  \n",
       "\n",
       "[5 rows x 24 columns]"
      ]
     },
     "execution_count": 6,
     "metadata": {},
     "output_type": "execute_result"
    }
   ],
   "source": [
    "# Checking all columns of data\n",
    "df_ords_prods_merge.head()"
   ]
  },
  {
   "cell_type": "markdown",
   "id": "ee43cefa",
   "metadata": {},
   "source": [
    "# Bar plot"
   ]
  },
  {
   "cell_type": "code",
   "execution_count": 8,
   "id": "30477148",
   "metadata": {
    "scrolled": true
   },
   "outputs": [
    {
     "data": {
      "text/plain": [
       "<AxesSubplot:>"
      ]
     },
     "execution_count": 8,
     "metadata": {},
     "output_type": "execute_result"
    },
    {
     "data": {
      "image/png": "[encoded data removed]",
      "text/plain": [
       "<Figure size 432x288 with 1 Axes>"
      ]
     },
     "metadata": {
      "needs_background": "light"
     },
     "output_type": "display_data"
    }
   ],
   "source": [
    "# Creating bar plot to check frequency of orders across each dept\n",
    "df_ords_prods_merge['department_id'].value_counts().sort_index().plot.bar()"
   ]
  },
  {
   "cell_type": "code",
   "execution_count": 10,
   "id": "f94fed49",
   "metadata": {
    "scrolled": true
   },
   "outputs": [
    {
     "data": {
      "image/png": "[encoded data removed]",
      "text/plain": [
       "<Figure size 432x288 with 1 Axes>"
      ]
     },
     "metadata": {
      "needs_background": "light"
     },
     "output_type": "display_data"
    }
   ],
   "source": [
    "dept_bar = df_ords_prods_merge['department_id'].value_counts().sort_index().plot.bar()"
   ]
  },
  {
   "cell_type": "code",
   "execution_count": 11,
   "id": "2b7ef441",
   "metadata": {},
   "outputs": [],
   "source": [
    "# Exporting bar plot in folder\n",
    "dept_bar.figure.savefig(os.path.join(path, 'Analysis','Visualization', 'dept_bar.png'))"
   ]
  },
  {
   "cell_type": "code",
   "execution_count": 7,
   "id": "fa64cb4b",
   "metadata": {},
   "outputs": [
    {
     "data": {
      "text/plain": [
       "<AxesSubplot:>"
      ]
     },
     "execution_count": 7,
     "metadata": {},
     "output_type": "execute_result"
    },
    {
     "data": {
      "image/png": "[encoded data removed]",
      "text/plain": [
       "<Figure size 432x288 with 1 Axes>"
      ]
     },
     "metadata": {
      "needs_background": "light"
     },
     "output_type": "display_data"
    }
   ],
   "source": [
    "# Creating bar chart\n",
    "df_ords_prods_merge['orders_day_of_week'].value_counts().plot.bar()"
   ]
  },
  {
   "cell_type": "code",
   "execution_count": 8,
   "id": "2e2fccae",
   "metadata": {},
   "outputs": [
    {
     "data": {
      "text/plain": [
       "<AxesSubplot:>"
      ]
     },
     "execution_count": 8,
     "metadata": {},
     "output_type": "execute_result"
    },
    {
     "data": {
      "image/png": "[encoded data removed]",
      "text/plain": [
       "<Figure size 432x288 with 1 Axes>"
      ]
     },
     "metadata": {
      "needs_background": "light"
     },
     "output_type": "display_data"
    }
   ],
   "source": [
    "# Sorting in Index Order\n",
    "df_ords_prods_merge['orders_day_of_week'].value_counts().sort_index().plot.bar()"
   ]
  },
  {
   "cell_type": "code",
   "execution_count": 9,
   "id": "cf6ed41b",
   "metadata": {},
   "outputs": [
    {
     "data": {
      "text/plain": [
       "<AxesSubplot:>"
      ]
     },
     "execution_count": 9,
     "metadata": {},
     "output_type": "execute_result"
    },
    {
     "data": {
      "image/png": "[encoded data removed]",
      "text/plain": [
       "<Figure size 432x288 with 1 Axes>"
      ]
     },
     "metadata": {
      "needs_background": "light"
     },
     "output_type": "display_data"
    }
   ],
   "source": [
    "# Adding the colors to bar\n",
    "df_ords_prods_merge['orders_day_of_week'].value_counts().plot.bar(color =['purple', 'red', 'pink', 'orange', 'yellow', 'green', 'blue'])"
   ]
  },
  {
   "cell_type": "code",
   "execution_count": 10,
   "id": "ccb9e07a",
   "metadata": {},
   "outputs": [
    {
     "data": {
      "image/png": "[encoded data removed]",
      "text/plain": [
       "<Figure size 432x288 with 1 Axes>"
      ]
     },
     "metadata": {
      "needs_background": "light"
     },
     "output_type": "display_data"
    }
   ],
   "source": [
    "# Saving bar plot \n",
    "bar = df_ords_prods_merge['orders_day_of_week'].value_counts().plot.bar(color =['purple', 'red', 'pink', 'orange', 'yellow', 'green', 'blue'])"
   ]
  },
  {
   "cell_type": "code",
   "execution_count": 11,
   "id": "4d26a8db",
   "metadata": {},
   "outputs": [],
   "source": [
    "# Exporting bar plot in folder\n",
    "bar.figure.savefig(os.path.join(path, 'Analysis','Visualization', 'bar_orders_dow.png'))"
   ]
  },
  {
   "cell_type": "markdown",
   "id": "2dbd91b9",
   "metadata": {},
   "source": [
    "# Histogram"
   ]
  },
  {
   "cell_type": "code",
   "execution_count": 12,
   "id": "789854fe",
   "metadata": {},
   "outputs": [
    {
     "data": {
      "text/plain": [
       "<AxesSubplot:ylabel='Frequency'>"
      ]
     },
     "execution_count": 12,
     "metadata": {},
     "output_type": "execute_result"
    },
    {
     "data": {
      "image/png": "[encoded data removed]",
      "text/plain": [
       "<Figure size 432x288 with 1 Axes>"
      ]
     },
     "metadata": {
      "needs_background": "light"
     },
     "output_type": "display_data"
    }
   ],
   "source": [
    "# Creating histogram\n",
    "df_ords_prods_merge['prices'].plot.hist(bins = 25)"
   ]
  },
  {
   "cell_type": "code",
   "execution_count": 13,
   "id": "cc23fb1d",
   "metadata": {},
   "outputs": [
    {
     "data": {
      "text/plain": [
       "count    3.240486e+07\n",
       "mean     1.198023e+01\n",
       "std      4.956554e+02\n",
       "min      1.000000e+00\n",
       "25%      4.200000e+00\n",
       "50%      7.400000e+00\n",
       "75%      1.130000e+01\n",
       "max      9.999900e+04\n",
       "Name: prices, dtype: float64"
      ]
     },
     "execution_count": 13,
     "metadata": {},
     "output_type": "execute_result"
    }
   ],
   "source": [
    "# Checking data consistency\n",
    "df_ords_prods_merge['prices'].describe()"
   ]
  },
  {
   "cell_type": "markdown",
   "id": "9995809b",
   "metadata": {},
   "source": [
    "# Scatterplot"
   ]
  },
  {
   "cell_type": "code",
   "execution_count": 14,
   "id": "cffa98a7",
   "metadata": {},
   "outputs": [
    {
     "data": {
      "text/plain": [
       "<AxesSubplot:xlabel='prices', ylabel='prices'>"
      ]
     },
     "execution_count": 14,
     "metadata": {},
     "output_type": "execute_result"
    },
    {
     "data": {
      "image/png": "[encoded data removed]",
      "text/plain": [
       "<Figure size 432x288 with 1 Axes>"
      ]
     },
     "metadata": {
      "needs_background": "light"
     },
     "output_type": "display_data"
    }
   ],
   "source": [
    "# Creating scatterplot\n",
    "sns.scatterplot(x = 'prices', y = 'prices',data = df_ords_prods_merge)"
   ]
  },
  {
   "cell_type": "code",
   "execution_count": 15,
   "id": "7df6e9fe",
   "metadata": {},
   "outputs": [
    {
     "data": {
      "text/html": [
       "<div>\n",
       "<style scoped>\n",
       "    .dataframe tbody tr th:only-of-type {\n",
       "        vertical-align: middle;\n",
       "    }\n",
       "\n",
       "    .dataframe tbody tr th {\n",
       "        vertical-align: top;\n",
       "    }\n",
       "\n",
       "    .dataframe thead th {\n",
       "        text-align: right;\n",
       "    }\n",
       "</style>\n",
       "<table border=\"1\" class=\"dataframe\">\n",
       "  <thead>\n",
       "    <tr style=\"text-align: right;\">\n",
       "      <th></th>\n",
       "      <th>product_id</th>\n",
       "      <th>product_name</th>\n",
       "      <th>aisle_id</th>\n",
       "      <th>department_id</th>\n",
       "      <th>prices</th>\n",
       "      <th>order_id</th>\n",
       "      <th>add_to_cart_order</th>\n",
       "      <th>reordered</th>\n",
       "      <th>user_id</th>\n",
       "      <th>order_number</th>\n",
       "      <th>...</th>\n",
       "      <th>price_range_loc</th>\n",
       "      <th>Busiest_Day</th>\n",
       "      <th>Busiest_Days</th>\n",
       "      <th>busiest_period_of_day</th>\n",
       "      <th>max_order</th>\n",
       "      <th>loyalty_flag</th>\n",
       "      <th>Spending</th>\n",
       "      <th>Spending_Flag</th>\n",
       "      <th>Frequency</th>\n",
       "      <th>Order_Frequency_Flag</th>\n",
       "    </tr>\n",
       "  </thead>\n",
       "  <tbody>\n",
       "    <tr>\n",
       "      <th>13100147</th>\n",
       "      <td>21553</td>\n",
       "      <td>Lowfat 2% Milkfat Cottage Cheese</td>\n",
       "      <td>108</td>\n",
       "      <td>16</td>\n",
       "      <td>14900.0</td>\n",
       "      <td>43</td>\n",
       "      <td>6</td>\n",
       "      <td>1</td>\n",
       "      <td>39630</td>\n",
       "      <td>14</td>\n",
       "      <td>...</td>\n",
       "      <td>High-range products</td>\n",
       "      <td>Regularly busy</td>\n",
       "      <td>Regular days</td>\n",
       "      <td>Average orders</td>\n",
       "      <td>14</td>\n",
       "      <td>Regular customer</td>\n",
       "      <td>304.253000</td>\n",
       "      <td>High spender</td>\n",
       "      <td>4.0</td>\n",
       "      <td>Non-frequent customer</td>\n",
       "    </tr>\n",
       "    <tr>\n",
       "      <th>13100148</th>\n",
       "      <td>21553</td>\n",
       "      <td>Lowfat 2% Milkfat Cottage Cheese</td>\n",
       "      <td>108</td>\n",
       "      <td>16</td>\n",
       "      <td>14900.0</td>\n",
       "      <td>950</td>\n",
       "      <td>20</td>\n",
       "      <td>0</td>\n",
       "      <td>187854</td>\n",
       "      <td>16</td>\n",
       "      <td>...</td>\n",
       "      <td>High-range products</td>\n",
       "      <td>Regularly busy</td>\n",
       "      <td>Busiest days</td>\n",
       "      <td>Most orders</td>\n",
       "      <td>30</td>\n",
       "      <td>Regular customer</td>\n",
       "      <td>95.273077</td>\n",
       "      <td>High spender</td>\n",
       "      <td>11.0</td>\n",
       "      <td>Regular customer</td>\n",
       "    </tr>\n",
       "    <tr>\n",
       "      <th>13100149</th>\n",
       "      <td>21553</td>\n",
       "      <td>Lowfat 2% Milkfat Cottage Cheese</td>\n",
       "      <td>108</td>\n",
       "      <td>16</td>\n",
       "      <td>14900.0</td>\n",
       "      <td>1115</td>\n",
       "      <td>14</td>\n",
       "      <td>1</td>\n",
       "      <td>168014</td>\n",
       "      <td>15</td>\n",
       "      <td>...</td>\n",
       "      <td>High-range products</td>\n",
       "      <td>Regularly busy</td>\n",
       "      <td>Regular days</td>\n",
       "      <td>Most orders</td>\n",
       "      <td>21</td>\n",
       "      <td>Regular customer</td>\n",
       "      <td>100.808075</td>\n",
       "      <td>High spender</td>\n",
       "      <td>9.0</td>\n",
       "      <td>Non-frequent customer</td>\n",
       "    </tr>\n",
       "    <tr>\n",
       "      <th>13100150</th>\n",
       "      <td>21553</td>\n",
       "      <td>Lowfat 2% Milkfat Cottage Cheese</td>\n",
       "      <td>108</td>\n",
       "      <td>16</td>\n",
       "      <td>14900.0</td>\n",
       "      <td>1155</td>\n",
       "      <td>18</td>\n",
       "      <td>1</td>\n",
       "      <td>103747</td>\n",
       "      <td>22</td>\n",
       "      <td>...</td>\n",
       "      <td>High-range products</td>\n",
       "      <td>Regularly busy</td>\n",
       "      <td>Busiest days</td>\n",
       "      <td>Most orders</td>\n",
       "      <td>27</td>\n",
       "      <td>Regular customer</td>\n",
       "      <td>154.024939</td>\n",
       "      <td>High spender</td>\n",
       "      <td>7.0</td>\n",
       "      <td>Non-frequent customer</td>\n",
       "    </tr>\n",
       "    <tr>\n",
       "      <th>13100151</th>\n",
       "      <td>21553</td>\n",
       "      <td>Lowfat 2% Milkfat Cottage Cheese</td>\n",
       "      <td>108</td>\n",
       "      <td>16</td>\n",
       "      <td>14900.0</td>\n",
       "      <td>1220</td>\n",
       "      <td>19</td>\n",
       "      <td>0</td>\n",
       "      <td>23475</td>\n",
       "      <td>3</td>\n",
       "      <td>...</td>\n",
       "      <td>High-range products</td>\n",
       "      <td>Busiest day</td>\n",
       "      <td>Busiest days</td>\n",
       "      <td>Average orders</td>\n",
       "      <td>3</td>\n",
       "      <td>New customer</td>\n",
       "      <td>337.015556</td>\n",
       "      <td>High spender</td>\n",
       "      <td>16.0</td>\n",
       "      <td>Regular customer</td>\n",
       "    </tr>\n",
       "    <tr>\n",
       "      <th>...</th>\n",
       "      <td>...</td>\n",
       "      <td>...</td>\n",
       "      <td>...</td>\n",
       "      <td>...</td>\n",
       "      <td>...</td>\n",
       "      <td>...</td>\n",
       "      <td>...</td>\n",
       "      <td>...</td>\n",
       "      <td>...</td>\n",
       "      <td>...</td>\n",
       "      <td>...</td>\n",
       "      <td>...</td>\n",
       "      <td>...</td>\n",
       "      <td>...</td>\n",
       "      <td>...</td>\n",
       "      <td>...</td>\n",
       "      <td>...</td>\n",
       "      <td>...</td>\n",
       "      <td>...</td>\n",
       "      <td>...</td>\n",
       "      <td>...</td>\n",
       "    </tr>\n",
       "    <tr>\n",
       "      <th>21786876</th>\n",
       "      <td>33664</td>\n",
       "      <td>2 % Reduced Fat  Milk</td>\n",
       "      <td>84</td>\n",
       "      <td>16</td>\n",
       "      <td>99999.0</td>\n",
       "      <td>3407607</td>\n",
       "      <td>9</td>\n",
       "      <td>1</td>\n",
       "      <td>14872</td>\n",
       "      <td>17</td>\n",
       "      <td>...</td>\n",
       "      <td>High-range products</td>\n",
       "      <td>Least busy</td>\n",
       "      <td>Slowest days</td>\n",
       "      <td>Average orders</td>\n",
       "      <td>18</td>\n",
       "      <td>Regular customer</td>\n",
       "      <td>983.341220</td>\n",
       "      <td>High spender</td>\n",
       "      <td>10.0</td>\n",
       "      <td>Non-frequent customer</td>\n",
       "    </tr>\n",
       "    <tr>\n",
       "      <th>21786877</th>\n",
       "      <td>33664</td>\n",
       "      <td>2 % Reduced Fat  Milk</td>\n",
       "      <td>84</td>\n",
       "      <td>16</td>\n",
       "      <td>99999.0</td>\n",
       "      <td>3409400</td>\n",
       "      <td>1</td>\n",
       "      <td>1</td>\n",
       "      <td>70851</td>\n",
       "      <td>10</td>\n",
       "      <td>...</td>\n",
       "      <td>High-range products</td>\n",
       "      <td>Regularly busy</td>\n",
       "      <td>Regular days</td>\n",
       "      <td>Most orders</td>\n",
       "      <td>34</td>\n",
       "      <td>Regular customer</td>\n",
       "      <td>1229.697208</td>\n",
       "      <td>High spender</td>\n",
       "      <td>7.0</td>\n",
       "      <td>Non-frequent customer</td>\n",
       "    </tr>\n",
       "    <tr>\n",
       "      <th>21786878</th>\n",
       "      <td>33664</td>\n",
       "      <td>2 % Reduced Fat  Milk</td>\n",
       "      <td>84</td>\n",
       "      <td>16</td>\n",
       "      <td>99999.0</td>\n",
       "      <td>3414106</td>\n",
       "      <td>5</td>\n",
       "      <td>1</td>\n",
       "      <td>111487</td>\n",
       "      <td>25</td>\n",
       "      <td>...</td>\n",
       "      <td>High-range products</td>\n",
       "      <td>Regularly busy</td>\n",
       "      <td>Regular days</td>\n",
       "      <td>Average orders</td>\n",
       "      <td>34</td>\n",
       "      <td>Regular customer</td>\n",
       "      <td>1694.434691</td>\n",
       "      <td>High spender</td>\n",
       "      <td>7.0</td>\n",
       "      <td>Non-frequent customer</td>\n",
       "    </tr>\n",
       "    <tr>\n",
       "      <th>21786879</th>\n",
       "      <td>33664</td>\n",
       "      <td>2 % Reduced Fat  Milk</td>\n",
       "      <td>84</td>\n",
       "      <td>16</td>\n",
       "      <td>99999.0</td>\n",
       "      <td>3417702</td>\n",
       "      <td>13</td>\n",
       "      <td>0</td>\n",
       "      <td>70821</td>\n",
       "      <td>5</td>\n",
       "      <td>...</td>\n",
       "      <td>High-range products</td>\n",
       "      <td>Regularly busy</td>\n",
       "      <td>Regular days</td>\n",
       "      <td>Most orders</td>\n",
       "      <td>28</td>\n",
       "      <td>Regular customer</td>\n",
       "      <td>3181.452910</td>\n",
       "      <td>High spender</td>\n",
       "      <td>7.0</td>\n",
       "      <td>Non-frequent customer</td>\n",
       "    </tr>\n",
       "    <tr>\n",
       "      <th>21786880</th>\n",
       "      <td>33664</td>\n",
       "      <td>2 % Reduced Fat  Milk</td>\n",
       "      <td>84</td>\n",
       "      <td>16</td>\n",
       "      <td>99999.0</td>\n",
       "      <td>3421047</td>\n",
       "      <td>6</td>\n",
       "      <td>0</td>\n",
       "      <td>98554</td>\n",
       "      <td>4</td>\n",
       "      <td>...</td>\n",
       "      <td>High-range products</td>\n",
       "      <td>Regularly busy</td>\n",
       "      <td>Busiest days</td>\n",
       "      <td>Most orders</td>\n",
       "      <td>15</td>\n",
       "      <td>Regular customer</td>\n",
       "      <td>776.953077</td>\n",
       "      <td>High spender</td>\n",
       "      <td>8.0</td>\n",
       "      <td>Non-frequent customer</td>\n",
       "    </tr>\n",
       "  </tbody>\n",
       "</table>\n",
       "<p>5127 rows × 24 columns</p>\n",
       "</div>"
      ],
      "text/plain": [
       "          product_id                      product_name  aisle_id  \\\n",
       "13100147       21553  Lowfat 2% Milkfat Cottage Cheese       108   \n",
       "13100148       21553  Lowfat 2% Milkfat Cottage Cheese       108   \n",
       "13100149       21553  Lowfat 2% Milkfat Cottage Cheese       108   \n",
       "13100150       21553  Lowfat 2% Milkfat Cottage Cheese       108   \n",
       "13100151       21553  Lowfat 2% Milkfat Cottage Cheese       108   \n",
       "...              ...                               ...       ...   \n",
       "21786876       33664             2 % Reduced Fat  Milk        84   \n",
       "21786877       33664             2 % Reduced Fat  Milk        84   \n",
       "21786878       33664             2 % Reduced Fat  Milk        84   \n",
       "21786879       33664             2 % Reduced Fat  Milk        84   \n",
       "21786880       33664             2 % Reduced Fat  Milk        84   \n",
       "\n",
       "          department_id   prices  order_id  add_to_cart_order  reordered  \\\n",
       "13100147             16  14900.0        43                  6          1   \n",
       "13100148             16  14900.0       950                 20          0   \n",
       "13100149             16  14900.0      1115                 14          1   \n",
       "13100150             16  14900.0      1155                 18          1   \n",
       "13100151             16  14900.0      1220                 19          0   \n",
       "...                 ...      ...       ...                ...        ...   \n",
       "21786876             16  99999.0   3407607                  9          1   \n",
       "21786877             16  99999.0   3409400                  1          1   \n",
       "21786878             16  99999.0   3414106                  5          1   \n",
       "21786879             16  99999.0   3417702                 13          0   \n",
       "21786880             16  99999.0   3421047                  6          0   \n",
       "\n",
       "          user_id  order_number  ...      price_range_loc     Busiest_Day  \\\n",
       "13100147    39630            14  ...  High-range products  Regularly busy   \n",
       "13100148   187854            16  ...  High-range products  Regularly busy   \n",
       "13100149   168014            15  ...  High-range products  Regularly busy   \n",
       "13100150   103747            22  ...  High-range products  Regularly busy   \n",
       "13100151    23475             3  ...  High-range products     Busiest day   \n",
       "...           ...           ...  ...                  ...             ...   \n",
       "21786876    14872            17  ...  High-range products      Least busy   \n",
       "21786877    70851            10  ...  High-range products  Regularly busy   \n",
       "21786878   111487            25  ...  High-range products  Regularly busy   \n",
       "21786879    70821             5  ...  High-range products  Regularly busy   \n",
       "21786880    98554             4  ...  High-range products  Regularly busy   \n",
       "\n",
       "          Busiest_Days busiest_period_of_day max_order      loyalty_flag  \\\n",
       "13100147  Regular days        Average orders        14  Regular customer   \n",
       "13100148  Busiest days           Most orders        30  Regular customer   \n",
       "13100149  Regular days           Most orders        21  Regular customer   \n",
       "13100150  Busiest days           Most orders        27  Regular customer   \n",
       "13100151  Busiest days        Average orders         3      New customer   \n",
       "...                ...                   ...       ...               ...   \n",
       "21786876  Slowest days        Average orders        18  Regular customer   \n",
       "21786877  Regular days           Most orders        34  Regular customer   \n",
       "21786878  Regular days        Average orders        34  Regular customer   \n",
       "21786879  Regular days           Most orders        28  Regular customer   \n",
       "21786880  Busiest days           Most orders        15  Regular customer   \n",
       "\n",
       "             Spending Spending_Flag  Frequency   Order_Frequency_Flag  \n",
       "13100147   304.253000  High spender        4.0  Non-frequent customer  \n",
       "13100148    95.273077  High spender       11.0       Regular customer  \n",
       "13100149   100.808075  High spender        9.0  Non-frequent customer  \n",
       "13100150   154.024939  High spender        7.0  Non-frequent customer  \n",
       "13100151   337.015556  High spender       16.0       Regular customer  \n",
       "...               ...           ...        ...                    ...  \n",
       "21786876   983.341220  High spender       10.0  Non-frequent customer  \n",
       "21786877  1229.697208  High spender        7.0  Non-frequent customer  \n",
       "21786878  1694.434691  High spender        7.0  Non-frequent customer  \n",
       "21786879  3181.452910  High spender        7.0  Non-frequent customer  \n",
       "21786880   776.953077  High spender        8.0  Non-frequent customer  \n",
       "\n",
       "[5127 rows x 24 columns]"
      ]
     },
     "execution_count": 15,
     "metadata": {},
     "output_type": "execute_result"
    }
   ],
   "source": [
    "# Checking outlier above normal prices\n",
    "df_ords_prods_merge.loc[df_ords_prods_merge['prices'] > 100]"
   ]
  },
  {
   "cell_type": "code",
   "execution_count": 16,
   "id": "8cf5c5dc",
   "metadata": {},
   "outputs": [],
   "source": [
    "# Assigning missing values to above data\n",
    "df_ords_prods_merge.loc[df_ords_prods_merge['prices'] >100, 'prices'] = np.nan"
   ]
  },
  {
   "cell_type": "code",
   "execution_count": 17,
   "id": "9674f2d8",
   "metadata": {},
   "outputs": [
    {
     "data": {
      "text/plain": [
       "25.0"
      ]
     },
     "execution_count": 17,
     "metadata": {},
     "output_type": "execute_result"
    }
   ],
   "source": [
    "df_ords_prods_merge['prices'].max()"
   ]
  },
  {
   "cell_type": "code",
   "execution_count": 18,
   "id": "b4c3ed5a",
   "metadata": {},
   "outputs": [
    {
     "data": {
      "image/png": "[encoded data removed]",
      "text/plain": [
       "<Figure size 432x288 with 1 Axes>"
      ]
     },
     "metadata": {
      "needs_background": "light"
     },
     "output_type": "display_data"
    }
   ],
   "source": [
    "# Creating histogram again\n",
    "hist = df_ords_prods_merge['prices'].plot.hist(bins =25)"
   ]
  },
  {
   "cell_type": "code",
   "execution_count": 19,
   "id": "1ca386f2",
   "metadata": {},
   "outputs": [
    {
     "data": {
      "image/png": "[encoded data removed]",
      "text/plain": [
       "<Figure size 432x288 with 1 Axes>"
      ]
     },
     "metadata": {
      "needs_background": "light"
     },
     "output_type": "display_data"
    }
   ],
   "source": [
    "# Creating histogram with bins = 70\n",
    "hist_2 = df_ords_prods_merge['prices'].plot.hist(bins = 70)"
   ]
  },
  {
   "cell_type": "code",
   "execution_count": 20,
   "id": "655b0ce3",
   "metadata": {},
   "outputs": [],
   "source": [
    "# Saving histogram\n",
    "hist.figure.savefig(os.path.join(path, 'Analysis','Visualization', 'histogram_prices.png'))"
   ]
  },
  {
   "cell_type": "code",
   "execution_count": 21,
   "id": "0dfed026",
   "metadata": {},
   "outputs": [],
   "source": [
    "# Saving histogram with bins 70\n",
    "hist_2.figure.savefig(os.path.join(path, 'Analysis','Visualization', 'histogram_prices_bins70.png'))"
   ]
  },
  {
   "cell_type": "markdown",
   "id": "16643649",
   "metadata": {},
   "source": [
    "# Line chart"
   ]
  },
  {
   "cell_type": "code",
   "execution_count": 22,
   "id": "11d85e4e",
   "metadata": {},
   "outputs": [],
   "source": [
    "# setting the seed\n",
    "np.random.seed(4)"
   ]
  },
  {
   "cell_type": "code",
   "execution_count": 23,
   "id": "79d97880",
   "metadata": {},
   "outputs": [],
   "source": [
    "# Create list holding true false values to the test np.random.rand() <= 0.7\n",
    "dev = np.random.rand(len(df_ords_prods_merge)) <= 0.7"
   ]
  },
  {
   "cell_type": "code",
   "execution_count": 24,
   "id": "18f1528c",
   "metadata": {},
   "outputs": [],
   "source": [
    "# Stores 70% of sample in big dataframe\n",
    "big = df_ords_prods_merge[dev]"
   ]
  },
  {
   "cell_type": "code",
   "execution_count": 25,
   "id": "78c9b9e9",
   "metadata": {},
   "outputs": [],
   "source": [
    "# Stores 30% of sample in small dataframe\n",
    "small = df_ords_prods_merge[~dev]"
   ]
  },
  {
   "cell_type": "code",
   "execution_count": 26,
   "id": "d71eb6ef",
   "metadata": {},
   "outputs": [
    {
     "data": {
      "text/plain": [
       "32404859"
      ]
     },
     "execution_count": 26,
     "metadata": {},
     "output_type": "execute_result"
    }
   ],
   "source": [
    "# Checking length of whole dataframe\n",
    "len(df_ords_prods_merge)"
   ]
  },
  {
   "cell_type": "code",
   "execution_count": 27,
   "id": "15fbabf4",
   "metadata": {},
   "outputs": [
    {
     "data": {
      "text/plain": [
       "32404859"
      ]
     },
     "execution_count": 27,
     "metadata": {},
     "output_type": "execute_result"
    }
   ],
   "source": [
    "len(big) + len(small)"
   ]
  },
  {
   "cell_type": "code",
   "execution_count": 28,
   "id": "49942888",
   "metadata": {},
   "outputs": [],
   "source": [
    "# Create new dataframe df_2, that contains only the “prices” and “orders_day_of_the_week” columns from your small subset.\n",
    "df_2 = small[['orders_day_of_week','prices']]"
   ]
  },
  {
   "cell_type": "code",
   "execution_count": 29,
   "id": "81d54bd7",
   "metadata": {},
   "outputs": [
    {
     "data": {
      "image/png": "[encoded data removed]",
      "text/plain": [
       "<Figure size 432x288 with 1 Axes>"
      ]
     },
     "metadata": {
      "needs_background": "light"
     },
     "output_type": "display_data"
    }
   ],
   "source": [
    "# Creating line chart\n",
    "line = sns.lineplot(data = df_2, x = 'orders_day_of_week',y = 'prices')"
   ]
  },
  {
   "cell_type": "code",
   "execution_count": 30,
   "id": "87fa4174",
   "metadata": {},
   "outputs": [],
   "source": [
    "# Saving line plot\n",
    "line.figure.savefig(os.path.join(path, 'Analysis','Visualization', 'Line_Plot_1.png'))"
   ]
  },
  {
   "cell_type": "code",
   "execution_count": null,
   "id": "f39b0ec0",
   "metadata": {},
   "outputs": [],
   "source": []
  }
 ],
 "metadata": {
  "kernelspec": {
   "display_name": "Python 3",
   "language": "python",
   "name": "python3"
  },
  "language_info": {
   "codemirror_mode": {
    "name": "ipython",
    "version": 3
   },
   "file_extension": ".py",
   "mimetype": "text/x-python",
   "name": "python",
   "nbconvert_exporter": "python",
   "pygments_lexer": "ipython3",
   "version": "3.8.8"
  }
 },
 "nbformat": 4,
 "nbformat_minor": 5
}
